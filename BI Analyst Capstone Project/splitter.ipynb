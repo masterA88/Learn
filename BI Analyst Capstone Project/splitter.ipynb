{
 "cells": [
  {
   "cell_type": "markdown",
   "id": "3765898d",
   "metadata": {},
   "source": [
    "# Split by Size\n",
    "\n",
    "python split_csv.py --input \"C:\\Data\\big file.csv\" --mb-per-file 100 --out-dir \"C:\\Data\\chunks\"\n",
    "\n",
    "# Split by Rows\n",
    "python split_csv.py --input \"C:\\Data\\big file.csv\" --rows-per-file 200000 --out-dir \"C:\\Data\\chunks\"\n",
    "\n"
   ]
  },
  {
   "cell_type": "code",
   "execution_count": 1,
   "id": "2a8943bb",
   "metadata": {},
   "outputs": [
    {
     "name": "stderr",
     "output_type": "stream",
     "text": [
      "usage: ipykernel_launcher.py [-h] --input INPUT [--out-dir OUT_DIR]\n",
      "                             (--rows-per-file ROWS_PER_FILE |\n",
      "                             --mb-per-file MB_PER_FILE) [--encoding ENCODING]\n",
      "ipykernel_launcher.py: error: the following arguments are required: --input\n"
     ]
    },
    {
     "ename": "SystemExit",
     "evalue": "2",
     "output_type": "error",
     "traceback": [
      "An exception has occurred, use %tb to see the full traceback.\n",
      "\u001b[31mSystemExit\u001b[39m\u001b[31m:\u001b[39m 2\n"
     ]
    },
    {
     "name": "stderr",
     "output_type": "stream",
     "text": [
      "c:\\Users\\maste\\AppData\\Local\\Programs\\Python\\Python313\\Lib\\site-packages\\IPython\\core\\interactiveshell.py:3707: UserWarning: To exit: use 'exit', 'quit', or Ctrl-D.\n",
      "  warn(\"To exit: use 'exit', 'quit', or Ctrl-D.\", stacklevel=1)\n"
     ]
    }
   ],
   "source": [
    "# split_csv.py\n",
    "import csv, io, os, argparse\n",
    "\n",
    "def split_by_rows(inp, out_dir, rows_per_file, encoding=\"utf-8\"):\n",
    "    os.makedirs(out_dir, exist_ok=True)\n",
    "    with open(inp, \"r\", newline=\"\", encoding=encoding) as fin:\n",
    "        reader = csv.reader(fin)\n",
    "        header = next(reader)\n",
    "\n",
    "        def open_part(idx):\n",
    "            path = os.path.join(out_dir, f\"{os.path.basename(inp)}.part_{idx:03d}.csv\")\n",
    "            fout = open(path, \"w\", newline=\"\", encoding=encoding)\n",
    "            w = csv.writer(fout)\n",
    "            w.writerow(header)\n",
    "            return fout, w, path\n",
    "\n",
    "        part = 1\n",
    "        fout, writer, path = open_part(part)\n",
    "        written = 0\n",
    "\n",
    "        for row in reader:\n",
    "            if written >= rows_per_file:\n",
    "                fout.close()\n",
    "                part += 1\n",
    "                fout, writer, path = open_part(part)\n",
    "                written = 0\n",
    "            writer.writerow(row)\n",
    "            written += 1\n",
    "        fout.close()\n",
    "    print(f\"Done. Files saved in {out_dir}\")\n",
    "\n",
    "def split_by_mb(inp, out_dir, mb_per_file, encoding=\"utf-8\"):\n",
    "    target_bytes = int(mb_per_file * 1024 * 1024)\n",
    "    os.makedirs(out_dir, exist_ok=True)\n",
    "\n",
    "    with open(inp, \"r\", newline=\"\", encoding=encoding) as fin:\n",
    "        reader = csv.reader(fin)\n",
    "        header = next(reader)\n",
    "\n",
    "        # Precompute header size in bytes as it will be in each chunk\n",
    "        tmp = io.StringIO()\n",
    "        csv.writer(tmp).writerow(header)\n",
    "        header_bytes = len(tmp.getvalue().encode(encoding))\n",
    "\n",
    "        def open_part(idx):\n",
    "            path = os.path.join(out_dir, f\"{os.path.basename(inp)}.part_{idx:03d}.csv\")\n",
    "            f = open(path, \"w\", newline=\"\", encoding=encoding)\n",
    "            w = csv.writer(f)\n",
    "            w.writerow(header)\n",
    "            return f, w, path\n",
    "\n",
    "        part = 1\n",
    "        fout, writer, path = open_part(part)\n",
    "        current_bytes = header_bytes\n",
    "\n",
    "        for row in reader:\n",
    "            # Measure row size as it will be written\n",
    "            s = io.StringIO()\n",
    "            csv.writer(s).writerow(row)\n",
    "            row_bytes = len(s.getvalue().encode(encoding))\n",
    "\n",
    "            # If adding this row would exceed target, start a new part\n",
    "            if current_bytes + row_bytes > target_bytes and current_bytes > header_bytes:\n",
    "                fout.close()\n",
    "                part += 1\n",
    "                fout, writer, path = open_part(part)\n",
    "                current_bytes = header_bytes\n",
    "\n",
    "            writer.writerow(row)\n",
    "            current_bytes += row_bytes\n",
    "\n",
    "        fout.close()\n",
    "    print(f\"Done. Files saved in {out_dir}\")\n",
    "\n",
    "if __name__ == \"__main__\":\n",
    "    ap = argparse.ArgumentParser(description=\"Split a large CSV into smaller files, preserving the header.\")\n",
    "    ap.add_argument(\"--input\", required=True, help=\"Path to the big CSV\")\n",
    "    ap.add_argument(\"--out-dir\", default=\"chunks\", help=\"Output folder for parts\")\n",
    "    grp = ap.add_mutually_exclusive_group(required=True)\n",
    "    grp.add_argument(\"--rows-per-file\", type=int, help=\"Number of data rows per output file\")\n",
    "    grp.add_argument(\"--mb-per-file\", type=float, help=\"Approx size per output file in MB\")\n",
    "    ap.add_argument(\"--encoding\", default=\"utf-8\", help=\"File encoding, for example utf-8 or latin-1\")\n",
    "    args = ap.parse_args()\n",
    "\n",
    "    if args.rows_per_file:\n",
    "        split_by_rows(args.input, args.out_dir, args.rows_per_file, args.encoding)\n",
    "    else:\n",
    "        split_by_mb(args.input, args.out_dir, args.mb_per_file, args.encoding)\n"
   ]
  }
 ],
 "metadata": {
  "kernelspec": {
   "display_name": "Python 3",
   "language": "python",
   "name": "python3"
  },
  "language_info": {
   "codemirror_mode": {
    "name": "ipython",
    "version": 3
   },
   "file_extension": ".py",
   "mimetype": "text/x-python",
   "name": "python",
   "nbconvert_exporter": "python",
   "pygments_lexer": "ipython3",
   "version": "3.13.5"
  }
 },
 "nbformat": 4,
 "nbformat_minor": 5
}
