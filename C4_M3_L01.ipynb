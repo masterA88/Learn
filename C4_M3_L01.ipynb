{
 "cells": [
  {
   "cell_type": "markdown",
   "id": "d69ffd5e",
   "metadata": {
    "deletable": false,
    "editable": false,
    "nbgrader": {
     "cell_type": "markdown",
     "checksum": "dea2e5dcbf0c4c463049722ee664a182",
     "grade": false,
     "grade_id": "cell-37fe2eee23b85413",
     "locked": true,
     "schema_version": 3,
     "solution": false,
     "task": false
    }
   },
   "source": [
    "# Bookstore customer analysis with SQL\n",
    "In this lab, you will apply SQL to query and analyze data stored in a database. By the end of the lab, you will be able to extract data using a variety of SQL commands and store the results for further analysis.\n",
    "\n",
    "### Tips for completing this lab\n",
    "As you navigate this lab, keep the following tips in mind:\n",
    "- `-- YOUR CODE HERE` indicates where you should write code. Note: SQL uses the double dash for comments, as opposed to Python's pound sign (#). Be sure to replace this with your own code before running the code cell.\n",
    "- Use `%sql` to execute *single-line* SQL commands within a Jupyter Notebook cell. \n",
    "- For *multi-line* SQL commands, such as creating tables or complex queries, use `%%sql` at the beginning of the cell.\n",
    "- When you are asked \"get all customers\", you can safely assume you can use `SELECT *` to show all fields. If you are directed to \"get the names of the customers\", on the other hand, you can assume you need to include the field names in the `SELECT` statement.\n",
    "- You can save your work manually by clicking File and then Save in the menu bar at the top of the notebook.\n",
    "- You can download your work locally by clicking File and then Download and then specifying your preferred file format in the menu bar at the top of the notebook."
   ]
  },
  {
   "cell_type": "markdown",
   "id": "31559375",
   "metadata": {
    "deletable": false,
    "editable": false,
    "nbgrader": {
     "cell_type": "markdown",
     "checksum": "3614d01882122ff28c294637ebf2170c",
     "grade": false,
     "grade_id": "cell-f05c41d2b9590918",
     "locked": true,
     "schema_version": 3,
     "solution": false,
     "task": false
    }
   },
   "source": [
    "## Scenario\n",
    "You are a data analyst working for a bookstore. You have access to a database containing information about customers, books, and reviews. Your goal is to use SQL to analyze customer data, identify trends, and extract valuable insights that can be used to improve the bookstore's marketing and sales strategies. Before you can do that, you want to familiarize yourself with the data, so you will run some queries to examine the data format."
   ]
  },
  {
   "cell_type": "markdown",
   "id": "8776825d",
   "metadata": {
    "deletable": false,
    "editable": false,
    "nbgrader": {
     "cell_type": "markdown",
     "checksum": "950cb122174951a073b13b4831398a49",
     "grade": false,
     "grade_id": "cell-a8facd7eac7c3a9a",
     "locked": true,
     "schema_version": 3,
     "solution": false,
     "task": false
    }
   },
   "source": [
    "## Tasks\n",
    "### Initial Setup\n",
    "Run the following cells to set up this Jupyter Notebook lab for working with SQL.\n",
    "\n",
    "- Installs `ipython-sql`, a magic extension for Jupyter Notebooks that allows you to write and execute SQL queries directly within notebook cells.\n",
    "- Loads the `ipython-sql` extension. \n",
    "- Establishes a connection between your Jupyter Notebook and your SQLite database `mydatabase.db`.\n",
    "- Configures the display style for SQL query results to ensure compatibility with the formatting expected by this notebook."
   ]
  },
  {
   "cell_type": "code",
   "execution_count": null,
   "id": "961490a4",
   "metadata": {
    "deletable": false,
    "editable": false,
    "nbgrader": {
     "cell_type": "code",
     "checksum": "d958edc7cf5b0c59eab46e5768f6fe0b",
     "grade": false,
     "grade_id": "cell-867799e7b5fa35d7",
     "locked": true,
     "schema_version": 3,
     "solution": false,
     "task": false
    }
   },
   "outputs": [],
   "source": [
    "pip install ipython-sql"
   ]
  },
  {
   "cell_type": "code",
   "execution_count": null,
   "id": "01b343a7",
   "metadata": {
    "deletable": false,
    "editable": false,
    "nbgrader": {
     "cell_type": "code",
     "checksum": "07a32ff0dbcd2686ed5e2b0a792af849",
     "grade": false,
     "grade_id": "cell-ca00591a9ae5bd83",
     "locked": true,
     "schema_version": 3,
     "solution": false,
     "task": false
    }
   },
   "outputs": [],
   "source": [
    "%load_ext sql"
   ]
  },
  {
   "cell_type": "code",
   "execution_count": null,
   "id": "8c60b65c",
   "metadata": {
    "deletable": false,
    "editable": false,
    "nbgrader": {
     "cell_type": "code",
     "checksum": "10b3f123380738a00f87436bc483d95b",
     "grade": false,
     "grade_id": "cell-971c878450eb504d",
     "locked": true,
     "schema_version": 3,
     "solution": false,
     "task": false
    }
   },
   "outputs": [],
   "source": [
    "%sql sqlite:///mydatabase.db"
   ]
  },
  {
   "cell_type": "code",
   "execution_count": null,
   "id": "6ededcd4",
   "metadata": {
    "deletable": false,
    "editable": false,
    "nbgrader": {
     "cell_type": "code",
     "checksum": "1c2dd491ebe96301f5cfb64f977fdab2",
     "grade": false,
     "grade_id": "cell-93d620fff21dc091",
     "locked": true,
     "schema_version": 3,
     "solution": false,
     "task": false
    }
   },
   "outputs": [],
   "source": [
    "%config SqlMagic.style = '_DEPRECATED_DEFAULT'"
   ]
  },
  {
   "cell_type": "markdown",
   "id": "cba33441",
   "metadata": {
    "deletable": false,
    "editable": false,
    "nbgrader": {
     "cell_type": "markdown",
     "checksum": "869f23c28fb24ce5e9c250d1976d804c",
     "grade": false,
     "grade_id": "cell-cdafae8cfac0fc14",
     "locked": true,
     "schema_version": 3,
     "solution": false,
     "task": false
    }
   },
   "source": [
    "### 1. Load and investigate existing data (15 minutes)\n",
    "The Coursera Bookstore has three tables: Customer, Book, and Review. In the first step, you will write a simple SELECT query to see the contents of each table\n",
    "#### Step 1.1: View the Customer table\n",
    "To see all the fields in the Customer table, you can issue the following command:"
   ]
  },
  {
   "cell_type": "code",
   "execution_count": null,
   "id": "0c30bc93",
   "metadata": {},
   "outputs": [],
   "source": [
    "%%sql\n",
    "SELECT *\n",
    "FROM Customer;"
   ]
  },
  {
   "cell_type": "markdown",
   "id": "ac927137",
   "metadata": {
    "deletable": false,
    "editable": false,
    "nbgrader": {
     "cell_type": "markdown",
     "checksum": "9736465011fd96615373d006af6d18d9",
     "grade": false,
     "grade_id": "cell-d4138a407b86b3ec",
     "locked": true,
     "schema_version": 3,
     "solution": false,
     "task": false
    }
   },
   "source": [
    "If you have issued the command properly, you will see information about the customer, including their name, email, address, and phone number. There should be 30 customers in the database.\n",
    "#### Step 1.2: View the Book table\n",
    "To see all the fields in the Book table, you can use a similar command. Give it a try. Note that SQL uses the double dash (--) to represent a comment, so where you see `-- YOUR CODE HERE`, that indicates you should add your code."
   ]
  },
  {
   "cell_type": "code",
   "execution_count": null,
   "id": "dca10ccb",
   "metadata": {},
   "outputs": [],
   "source": [
    "%%sql\n",
    "-- YOUR CODE HERE"
   ]
  },
  {
   "cell_type": "code",
   "execution_count": null,
   "id": "f0f5a37f",
   "metadata": {
    "deletable": false,
    "editable": false,
    "nbgrader": {
     "cell_type": "code",
     "checksum": "b6e65d2cf8b864bb5fd7b05898051b28",
     "grade": true,
     "grade_id": "cell-889987bfa21c7a2b",
     "locked": true,
     "points": 1,
     "schema_version": 3,
     "solution": false,
     "task": false
    }
   },
   "outputs": [],
   "source": [
    "# Checking Your Results"
   ]
  },
  {
   "cell_type": "markdown",
   "id": "55c8cd44",
   "metadata": {
    "deletable": false,
    "editable": false,
    "nbgrader": {
     "cell_type": "markdown",
     "checksum": "dd7f9718ca4b5ba71934d23b8f4a17ad",
     "grade": false,
     "grade_id": "cell-0ad8df948deca428",
     "locked": true,
     "schema_version": 3,
     "solution": false,
     "task": false
    }
   },
   "source": [
    "There are 20 books in the table. \n",
    "#### Step 1.3: View Book names \n",
    "Using `SELECT *` will display all fields. Instead of displaying all fields in the Book table, assume you want to display only the book titles. Notice in the previous step, the book title field was named title. Modify your query to display only the titles from the Book table."
   ]
  },
  {
   "cell_type": "code",
   "execution_count": null,
   "id": "3524fec9",
   "metadata": {},
   "outputs": [],
   "source": [
    "%%sql\n",
    "-- YOUR CODE HERE"
   ]
  },
  {
   "cell_type": "code",
   "execution_count": null,
   "id": "69c879bd",
   "metadata": {
    "deletable": false,
    "editable": false,
    "nbgrader": {
     "cell_type": "code",
     "checksum": "9b1fed6668001944fe8fb08443dc33f5",
     "grade": true,
     "grade_id": "cell-8cfb4224518fc271",
     "locked": true,
     "points": 1,
     "schema_version": 3,
     "solution": false,
     "task": false
    }
   },
   "outputs": [],
   "source": [
    "# Checking Your Results"
   ]
  },
  {
   "cell_type": "markdown",
   "id": "c05556f6",
   "metadata": {
    "deletable": false,
    "editable": false,
    "nbgrader": {
     "cell_type": "markdown",
     "checksum": "6125192a3e85060a8063521df60c26cc",
     "grade": false,
     "grade_id": "cell-5e8f4e7c5b468c94",
     "locked": true,
     "schema_version": 3,
     "solution": false,
     "task": false
    }
   },
   "source": [
    "#### Step 1.4: View Review table\n",
    "There is one more table to examine. This table, the Review table, will be more difficult to interpret. Write a query similar to Step 1.1 to display all fields in the Review table. This will be examined in a later step."
   ]
  },
  {
   "cell_type": "code",
   "execution_count": null,
   "id": "c5bfa23b",
   "metadata": {},
   "outputs": [],
   "source": [
    "%%sql\n",
    "-- YOUR CODE HERE"
   ]
  },
  {
   "cell_type": "code",
   "execution_count": null,
   "id": "4b42779e",
   "metadata": {
    "deletable": false,
    "editable": false,
    "nbgrader": {
     "cell_type": "code",
     "checksum": "a61c30babd4a1baf33153d23852a8761",
     "grade": true,
     "grade_id": "cell-b26d891cd19aef3e",
     "locked": true,
     "points": 1,
     "schema_version": 3,
     "solution": false,
     "task": false
    }
   },
   "outputs": [],
   "source": [
    "# Checking Your Results"
   ]
  },
  {
   "cell_type": "markdown",
   "id": "dfd2318d",
   "metadata": {
    "deletable": false,
    "editable": false,
    "nbgrader": {
     "cell_type": "markdown",
     "checksum": "8ff748d8acee88cfd0f798cc9f7a7b84",
     "grade": false,
     "grade_id": "cell-165ab1f1d5c056a6",
     "locked": true,
     "schema_version": 3,
     "solution": false,
     "task": false
    }
   },
   "source": [
    "### 2. Analyze Customer table using single-table queries (45 minutes)\n",
    "The first step with familiarizing yourself with SQL is to learn how to pull information from a single table. You will practice using query criteria using the WHERE clause in this step.\n",
    "#### Step 2.1: Display all customers in the state of New York (NY)\n",
    "You need to get a list of all customers in the state of New York. Run the following query and notice there are no results:"
   ]
  },
  {
   "cell_type": "code",
   "execution_count": null,
   "id": "6b87451f",
   "metadata": {},
   "outputs": [],
   "source": [
    "%%sql\n",
    "SELECT *\n",
    "FROM Customer\n",
    "WHERE state = 'New York';"
   ]
  },
  {
   "cell_type": "markdown",
   "id": "adbd7f01",
   "metadata": {
    "deletable": false,
    "editable": false,
    "nbgrader": {
     "cell_type": "markdown",
     "checksum": "23e7714d74cbf014ec21dd17c4e03366",
     "grade": false,
     "grade_id": "cell-e7d06af3b336276f",
     "locked": true,
     "schema_version": 3,
     "solution": false,
     "task": false
    }
   },
   "source": [
    "An important part of database operations is ensuring you know what your field values look like. In this database, the customer's state is stored by the abbreviation (NY) rather than name (New York). Revise the query to correctly display customers in NY. There should be one customer in NY."
   ]
  },
  {
   "cell_type": "code",
   "execution_count": null,
   "id": "82c16e4e",
   "metadata": {},
   "outputs": [],
   "source": [
    "%%sql\n",
    "SELECT *\n",
    "FROM Customer\n",
    "-- YOUR CODE HERE"
   ]
  },
  {
   "cell_type": "code",
   "execution_count": null,
   "id": "82116fbd",
   "metadata": {
    "deletable": false,
    "editable": false,
    "nbgrader": {
     "cell_type": "code",
     "checksum": "5c3189e3fbb94eca73ec15b9f5e835a0",
     "grade": true,
     "grade_id": "cell-30485352b6781a69",
     "locked": true,
     "points": 1,
     "schema_version": 3,
     "solution": false,
     "task": false
    }
   },
   "outputs": [],
   "source": [
    "# Checking Your Results"
   ]
  },
  {
   "cell_type": "markdown",
   "id": "03c59f67",
   "metadata": {
    "deletable": false,
    "editable": false,
    "nbgrader": {
     "cell_type": "markdown",
     "checksum": "9577010023b60e6106ef38b10c358419",
     "grade": false,
     "grade_id": "cell-28f7376a33326078",
     "locked": true,
     "schema_version": 3,
     "solution": false,
     "task": false
    }
   },
   "source": [
    "#### Step 2.2: Display all customers in the Springfield, NC\n",
    "In the case of this small dataset, there are not many customers. Let's say you want to get a list of customers in the town of Springfield, North Carolina. Running the following query will result in two results, even though one customer is not in North Carolina:"
   ]
  },
  {
   "cell_type": "code",
   "execution_count": null,
   "id": "1f235855",
   "metadata": {},
   "outputs": [],
   "source": [
    "%%sql\n",
    "SELECT *\n",
    "FROM Customer\n",
    "WHERE city = 'Springfield';"
   ]
  },
  {
   "cell_type": "markdown",
   "id": "4b47895b",
   "metadata": {
    "deletable": false,
    "editable": false,
    "nbgrader": {
     "cell_type": "markdown",
     "checksum": "e9782c9e17c25e2edc00fe9f704333c4",
     "grade": false,
     "grade_id": "cell-8dd6d26ae097ad9a",
     "locked": true,
     "schema_version": 3,
     "solution": false,
     "task": false
    }
   },
   "source": [
    "Modify the query so you only see the customers in Springfield, NC but not Springfield, IL. You can use an AND condition to do this."
   ]
  },
  {
   "cell_type": "code",
   "execution_count": null,
   "id": "b55973ce",
   "metadata": {},
   "outputs": [],
   "source": [
    "%%sql\n",
    "SELECT *\n",
    "FROM Customer\n",
    "WHERE city = 'Springfield' AND -- YOUR CODE HERE"
   ]
  },
  {
   "cell_type": "code",
   "execution_count": null,
   "id": "8d4c1a15",
   "metadata": {
    "deletable": false,
    "editable": false,
    "nbgrader": {
     "cell_type": "code",
     "checksum": "e36cc2c50bc6e517246c626a432aa738",
     "grade": true,
     "grade_id": "cell-86ec616c8fd088d6",
     "locked": true,
     "points": 1,
     "schema_version": 3,
     "solution": false,
     "task": false
    }
   },
   "outputs": [],
   "source": [
    "# Checking Your Results"
   ]
  },
  {
   "cell_type": "markdown",
   "id": "590cae28",
   "metadata": {
    "deletable": false,
    "editable": false,
    "nbgrader": {
     "cell_type": "markdown",
     "checksum": "fcfbff00f8f75c0c4d9a9640d50c4d88",
     "grade": false,
     "grade_id": "cell-88dd12a8934b2748",
     "locked": true,
     "schema_version": 3,
     "solution": false,
     "task": false
    }
   },
   "source": [
    "This is a scenario where you may need to combine two conditions.\n",
    "#### Step 2.3: Display all customers in certain states\n",
    "Imagine you have a new sales rep covering the states Hawaii (HI) and Alaska (AK). You may need to provide them a list of customers in their states. Run the following query and note there are no results:"
   ]
  },
  {
   "cell_type": "code",
   "execution_count": null,
   "id": "9c54d515",
   "metadata": {},
   "outputs": [],
   "source": [
    "%%sql\n",
    "SELECT *\n",
    "FROM Customer\n",
    "WHERE state = 'HI' AND state = 'AK';"
   ]
  },
  {
   "cell_type": "markdown",
   "id": "594d8590",
   "metadata": {
    "deletable": false,
    "editable": false,
    "nbgrader": {
     "cell_type": "markdown",
     "checksum": "a1b987e0be2c5977e0f54c70a26a671e",
     "grade": false,
     "grade_id": "cell-130138dbfc72062d",
     "locked": true,
     "schema_version": 3,
     "solution": false,
     "task": false
    }
   },
   "source": [
    "This is a very common misinterpretation in queries. You want a list of customers in Hawaii and Alaska, but each individual customer will only be in either Hawaii or Alaska. Replace the AND with OR, and notice the result set is now 3 customers:"
   ]
  },
  {
   "cell_type": "code",
   "execution_count": null,
   "id": "21b15943",
   "metadata": {},
   "outputs": [],
   "source": [
    "%%sql\n",
    "SELECT *\n",
    "FROM Customer\n",
    "WHERE -- YOUR CODE HERE"
   ]
  },
  {
   "cell_type": "code",
   "execution_count": null,
   "id": "260fe3ff",
   "metadata": {
    "deletable": false,
    "editable": false,
    "nbgrader": {
     "cell_type": "code",
     "checksum": "91e332db7fa923e1cf851f4adb260532",
     "grade": true,
     "grade_id": "cell-3cabf99dca908d0e",
     "locked": true,
     "points": 1,
     "schema_version": 3,
     "solution": false,
     "task": false
    }
   },
   "outputs": [],
   "source": [
    "# Checking Your Results"
   ]
  },
  {
   "cell_type": "markdown",
   "id": "4f703128",
   "metadata": {
    "deletable": false,
    "editable": false,
    "nbgrader": {
     "cell_type": "markdown",
     "checksum": "624749352eae99594a1438b2f0145ce7",
     "grade": false,
     "grade_id": "cell-56732ab9735d599f",
     "locked": true,
     "schema_version": 3,
     "solution": false,
     "task": false
    }
   },
   "source": [
    "This works well if there are two states. However, imagine this representative is assigned all customers in Hawaii (HI), Alaska (AK), Idaho (ID), Washington (WA), and California (CA). In this situation, you can use the IN operator to specify a list of potential acceptable values."
   ]
  },
  {
   "cell_type": "code",
   "execution_count": null,
   "id": "0fb7b69c",
   "metadata": {},
   "outputs": [],
   "source": [
    "%%sql\n",
    "SELECT *\n",
    "FROM Customer\n",
    "WHERE state IN -- YOUR CODE HERE"
   ]
  },
  {
   "cell_type": "code",
   "execution_count": null,
   "id": "e9b2d123",
   "metadata": {
    "deletable": false,
    "editable": false,
    "nbgrader": {
     "cell_type": "code",
     "checksum": "50d3b56ccb19827db6d9b25211acdfea",
     "grade": true,
     "grade_id": "cell-56be68621fa32e15",
     "locked": true,
     "points": 1,
     "schema_version": 3,
     "solution": false,
     "task": false
    }
   },
   "outputs": [],
   "source": [
    "# Checking Your Results"
   ]
  },
  {
   "cell_type": "markdown",
   "id": "d67365d2",
   "metadata": {
    "deletable": false,
    "editable": false,
    "nbgrader": {
     "cell_type": "markdown",
     "checksum": "dd8c550518081cb10c8fc747eb63fe7f",
     "grade": false,
     "grade_id": "cell-fa4d6ed117e95568",
     "locked": true,
     "schema_version": 3,
     "solution": false,
     "task": false
    }
   },
   "source": [
    "#### Step 2.4: Match patterns\n",
    "There are times where you may not want to match something exactly, and this is where the LIKE command is appropriate. Recall you have two wildcard operators, %, and _, that can be used. Let's say you want to find a list of customers who live in a city starting with the letter 'S'. You can use the LIKE command with a wildcard to get this data. Depending on your database management system, capitalization may or may not matter, so make sure you use a capital S for your search."
   ]
  },
  {
   "cell_type": "code",
   "execution_count": null,
   "id": "da08872c",
   "metadata": {},
   "outputs": [],
   "source": [
    "%%sql\n",
    "SELECT *\n",
    "FROM Customer\n",
    "WHERE city -- YOUR CODE HERE"
   ]
  },
  {
   "cell_type": "code",
   "execution_count": null,
   "id": "90761fb2",
   "metadata": {
    "deletable": false,
    "editable": false,
    "nbgrader": {
     "cell_type": "code",
     "checksum": "c96547d2ca1e8014c85630145e8d9e4b",
     "grade": true,
     "grade_id": "cell-d91518ee1e6abc4e",
     "locked": true,
     "points": 1,
     "schema_version": 3,
     "solution": false,
     "task": false
    }
   },
   "outputs": [],
   "source": [
    "# Checking Your Results"
   ]
  },
  {
   "cell_type": "markdown",
   "id": "80108acb",
   "metadata": {
    "deletable": false,
    "editable": false,
    "nbgrader": {
     "cell_type": "markdown",
     "checksum": "89acbacd20c10315b738466729a954ce",
     "grade": false,
     "grade_id": "cell-2fe42983e6fd9627",
     "locked": true,
     "schema_version": 3,
     "solution": false,
     "task": false
    }
   },
   "source": [
    "You can also use two wildcards in the same LIKE. For example, let's say you want to find customers who have the number '9' anywhere in their phone number. You can use two wildcard operators to do this. Try to generate this list:"
   ]
  },
  {
   "cell_type": "code",
   "execution_count": null,
   "id": "fe9dc66c",
   "metadata": {},
   "outputs": [],
   "source": [
    "%%sql\n",
    "SELECT *\n",
    "FROM Customer\n",
    "WHERE phone -- YOUR CODE HERE"
   ]
  },
  {
   "cell_type": "code",
   "execution_count": null,
   "id": "5965c4f1",
   "metadata": {
    "deletable": false,
    "editable": false,
    "nbgrader": {
     "cell_type": "code",
     "checksum": "8bfa184dfdc4801ab4b6fb4baa1469e5",
     "grade": true,
     "grade_id": "cell-af348fa54e152047",
     "locked": true,
     "points": 1,
     "schema_version": 3,
     "solution": false,
     "task": false
    }
   },
   "outputs": [],
   "source": [
    "# Checking Your Results"
   ]
  },
  {
   "cell_type": "markdown",
   "id": "3b5ab08b",
   "metadata": {
    "deletable": false,
    "editable": false,
    "nbgrader": {
     "cell_type": "markdown",
     "checksum": "412e2a0f03558c40fa14d3bed91aa705",
     "grade": false,
     "grade_id": "cell-182912d4d2469dac",
     "locked": true,
     "schema_version": 3,
     "solution": false,
     "task": false
    }
   },
   "source": [
    "Finally, though it is a strange example here, you can use both wildcard operators together. Let's say you need to find all customers who have the letter 'a' as the second letter in their name (so, Carlos Rodriguez should appear, but not Elena Petrova). You can use both wildcard operators together to accomplish this:"
   ]
  },
  {
   "cell_type": "code",
   "execution_count": null,
   "id": "b815cf61",
   "metadata": {},
   "outputs": [],
   "source": [
    "%%sql\n",
    "SELECT *\n",
    "FROM Customer\n",
    "WHERE name -- YOUR CODE HERE"
   ]
  },
  {
   "cell_type": "code",
   "execution_count": null,
   "id": "1682aa1d",
   "metadata": {
    "deletable": false,
    "editable": false,
    "nbgrader": {
     "cell_type": "code",
     "checksum": "2dc0a025692cfe512e8e481f0fa3b45d",
     "grade": true,
     "grade_id": "cell-4acf51a4f6469c5f",
     "locked": true,
     "points": 1,
     "schema_version": 3,
     "solution": false,
     "task": false
    }
   },
   "outputs": [],
   "source": [
    "# Checking Your Results"
   ]
  },
  {
   "cell_type": "markdown",
   "id": "d6f6c94e",
   "metadata": {
    "deletable": false,
    "editable": false,
    "nbgrader": {
     "cell_type": "markdown",
     "checksum": "a0c7ec4ea533c68781b22c9107367c13",
     "grade": false,
     "grade_id": "cell-5c16fe293b433b2b",
     "locked": true,
     "schema_version": 3,
     "solution": false,
     "task": false
    }
   },
   "source": [
    "### 3. Grouping data (15 minutes)\n",
    "As you have seen as part of your studies, statistics are a critical piece of data science. For example, you may want to get statistics such as COUNT, SUM, MIN, MAX, and AVG. You may also want to group this data (sum of all states by state). \n",
    "#### Step 3.1: Get count of customers\n",
    "Especially when it comes to web development, you will need a way to find out how many customers exist in a table. This can be useful to see how many results the server should expect. Write a query to return the count of customers in the Customer table:"
   ]
  },
  {
   "cell_type": "code",
   "execution_count": null,
   "id": "c766c046",
   "metadata": {},
   "outputs": [],
   "source": [
    "%%sql\n",
    "-- YOUR CODE HERE\n",
    "FROM Customer;"
   ]
  },
  {
   "cell_type": "code",
   "execution_count": null,
   "id": "2469e964",
   "metadata": {
    "deletable": false,
    "editable": false,
    "nbgrader": {
     "cell_type": "code",
     "checksum": "a1ad4cf4bc30846498135f44c1429b14",
     "grade": true,
     "grade_id": "cell-c0b3478b00d7405b",
     "locked": true,
     "points": 1,
     "schema_version": 3,
     "solution": false,
     "task": false
    }
   },
   "outputs": [],
   "source": [
    "# Checking Your Results"
   ]
  },
  {
   "cell_type": "markdown",
   "id": "5596c5cd",
   "metadata": {
    "deletable": false,
    "editable": false,
    "nbgrader": {
     "cell_type": "markdown",
     "checksum": "ec11c911c002764a8edc266b6f24739c",
     "grade": false,
     "grade_id": "cell-3f50eb44ee72249c",
     "locked": true,
     "schema_version": 3,
     "solution": false,
     "task": false
    }
   },
   "source": [
    "#### Step 3.2: Get count of customers in a specific state\n",
    "Alter your previous query to display the total number of customers in the state of Nebraska (NE). There should be 1 customer."
   ]
  },
  {
   "cell_type": "code",
   "execution_count": null,
   "id": "d05b75cc",
   "metadata": {},
   "outputs": [],
   "source": [
    "%%sql\n",
    "-- YOUR CODE HERE\n",
    "FROM Customer\n",
    "-- YOUR CODE HERE"
   ]
  },
  {
   "cell_type": "code",
   "execution_count": null,
   "id": "3df0b36f",
   "metadata": {
    "deletable": false,
    "editable": false,
    "nbgrader": {
     "cell_type": "code",
     "checksum": "0eef5c84440e34142efc0dee0b9d5fdb",
     "grade": true,
     "grade_id": "cell-fc6a6a9cc98a3c9b",
     "locked": true,
     "points": 1,
     "schema_version": 3,
     "solution": false,
     "task": false
    }
   },
   "outputs": [],
   "source": [
    "# Checking Your Results"
   ]
  },
  {
   "cell_type": "markdown",
   "id": "53028154",
   "metadata": {
    "deletable": false,
    "editable": false,
    "nbgrader": {
     "cell_type": "markdown",
     "checksum": "6154967ee14dc686484d66244168268e",
     "grade": false,
     "grade_id": "cell-76407155ecb5d603",
     "locked": true,
     "schema_version": 3,
     "solution": false,
     "task": false
    }
   },
   "source": [
    "#### Step 3.3: Get aggregate totals for all states\n",
    "There may be times in data science where you need to get results grouped by a certain field. Let's say you need to get a count of customers in each state. This will require adding grouping to your query. At this point, you should also display the state abbreviation in your SELECT line, so as to label the totals."
   ]
  },
  {
   "cell_type": "code",
   "execution_count": null,
   "id": "1535a4df",
   "metadata": {},
   "outputs": [],
   "source": [
    "%%sql\n",
    "-- YOUR CODE HERE"
   ]
  },
  {
   "cell_type": "code",
   "execution_count": null,
   "id": "fe0a40a8",
   "metadata": {
    "deletable": false,
    "editable": false,
    "nbgrader": {
     "cell_type": "code",
     "checksum": "4e5d51994b367ba091c9eaf5787a016c",
     "grade": true,
     "grade_id": "cell-c7e84022a3cf2b57",
     "locked": true,
     "points": 1,
     "schema_version": 3,
     "solution": false,
     "task": false
    }
   },
   "outputs": [],
   "source": [
    "# Checking Your Results"
   ]
  },
  {
   "cell_type": "markdown",
   "id": "bcdcfa1e",
   "metadata": {
    "deletable": false,
    "editable": false,
    "nbgrader": {
     "cell_type": "markdown",
     "checksum": "39a21fde5f6bdc0541907cdfeb575d23",
     "grade": false,
     "grade_id": "cell-bd708cceab9d7976",
     "locked": true,
     "schema_version": 3,
     "solution": false,
     "task": false
    }
   },
   "source": [
    "### 4. Multiple-table queries (15 minutes)\n",
    "As you saw earlier, the review table was not easy to understand, as the book name was not in the query. You will perform a few multiple-table queries to explore the JOIN condition.\n",
    "#### Step 4.1: Review existing Review and Book table\n",
    "Re-run the queries from earlier:"
   ]
  },
  {
   "cell_type": "code",
   "execution_count": null,
   "id": "94028d8a",
   "metadata": {},
   "outputs": [],
   "source": [
    "%%sql\n",
    "SELECT *\n",
    "FROM Review;"
   ]
  },
  {
   "cell_type": "markdown",
   "id": "ac974ef3",
   "metadata": {
    "deletable": false,
    "editable": false,
    "nbgrader": {
     "cell_type": "markdown",
     "checksum": "151b21ef16ffbc21cbf5b809eedbf57b",
     "grade": false,
     "grade_id": "cell-94df9ff732772aed",
     "locked": true,
     "schema_version": 3,
     "solution": false,
     "task": false
    }
   },
   "source": [
    "Given what you see here, it is impossible to see who left the review, or what book each review is for."
   ]
  },
  {
   "cell_type": "code",
   "execution_count": null,
   "id": "35a66405",
   "metadata": {},
   "outputs": [],
   "source": [
    "%%sql\n",
    "SELECT *\n",
    "FROM Book;"
   ]
  },
  {
   "cell_type": "markdown",
   "id": "b55d2bcf",
   "metadata": {
    "deletable": false,
    "editable": false,
    "nbgrader": {
     "cell_type": "markdown",
     "checksum": "9896eb4c448bc0be08dd7badf64b9e73",
     "grade": false,
     "grade_id": "cell-0a2dfb7fdc1143ac",
     "locked": true,
     "schema_version": 3,
     "solution": false,
     "task": false
    }
   },
   "source": [
    "Given what you see here, you cannot tell how each book was reviewed."
   ]
  },
  {
   "cell_type": "markdown",
   "id": "ab2cfeb3",
   "metadata": {
    "deletable": false,
    "editable": false,
    "nbgrader": {
     "cell_type": "markdown",
     "checksum": "6d77974fe199fc3d3bdba9b34197d91e",
     "grade": false,
     "grade_id": "cell-7b50e7ffff366c0b",
     "locked": true,
     "schema_version": 3,
     "solution": false,
     "task": false
    }
   },
   "source": [
    "#### Step 4.2: Join the Book and Review table\n",
    "In order to combine data from two tables, they need to have a common field. Notice both the Book table and Review table contain a common field, book_id. This can be used to join the tables.\n",
    "\n",
    "Join the two tables to see the Book information with each Review."
   ]
  },
  {
   "cell_type": "code",
   "execution_count": null,
   "id": "e0b81318",
   "metadata": {},
   "outputs": [],
   "source": [
    "%%sql\n",
    "SELECT *\n",
    "FROM -- YOUR CODE HERE"
   ]
  },
  {
   "cell_type": "code",
   "execution_count": null,
   "id": "ef5dc1e6",
   "metadata": {
    "deletable": false,
    "editable": false,
    "nbgrader": {
     "cell_type": "code",
     "checksum": "e7f4b404375d5cc414c38d2196bb0a64",
     "grade": true,
     "grade_id": "cell-f0a9ab31b21142bc",
     "locked": true,
     "points": 1,
     "schema_version": 3,
     "solution": false,
     "task": false
    }
   },
   "outputs": [],
   "source": [
    "# Checking Your Results"
   ]
  },
  {
   "cell_type": "markdown",
   "id": "a6398fde",
   "metadata": {
    "deletable": false,
    "editable": false,
    "nbgrader": {
     "cell_type": "markdown",
     "checksum": "7b362f3241b328695ffe1ec1174f7b23",
     "grade": false,
     "grade_id": "cell-6c24dd8c73932185",
     "locked": true,
     "schema_version": 3,
     "solution": false,
     "task": false
    }
   },
   "source": [
    "#### Step 4.3: Join the Customer and Review table\n",
    "You can also see which customers wrote which review. Notice the Customer table and the Review table both contain a common field, customer_id. This can be used to join the tables.\n",
    "\n",
    "Join the two tables to see the Customer information with each Review. "
   ]
  },
  {
   "cell_type": "code",
   "execution_count": null,
   "id": "c0d67a20",
   "metadata": {},
   "outputs": [],
   "source": [
    "%%sql\n",
    "SELECT *\n",
    "FROM -- YOUR CODE HERE"
   ]
  },
  {
   "cell_type": "code",
   "execution_count": null,
   "id": "93378768",
   "metadata": {
    "deletable": false,
    "editable": false,
    "nbgrader": {
     "cell_type": "code",
     "checksum": "ca147d9be160ec0157257e431e05fa14",
     "grade": true,
     "grade_id": "cell-70e9130f4cd1277c",
     "locked": true,
     "points": 1,
     "schema_version": 3,
     "solution": false,
     "task": false
    }
   },
   "outputs": [],
   "source": [
    "# Checking Your Results"
   ]
  },
  {
   "cell_type": "markdown",
   "id": "e50ebda2",
   "metadata": {
    "deletable": false,
    "editable": false,
    "nbgrader": {
     "cell_type": "markdown",
     "checksum": "a27fe133df11c3e3020bdfa5eb6eaad3",
     "grade": false,
     "grade_id": "cell-398b675cdd44a4c4",
     "locked": true,
     "schema_version": 3,
     "solution": false,
     "task": false
    }
   },
   "source": [
    "### Hints & Tips\n",
    "- **Review** the previous reading on SQL Concepts. Examples are intentionally similar to the examples in that reading.\n",
    "\n",
    "#### End of Lab\n",
    "By completing this lab, you’ve gained experience in writing queries. Though the focus of this course is not SQL, having some experience in this area is extremely important in the field of data science."
   ]
  }
 ],
 "metadata": {
  "kernelspec": {
   "display_name": "Python 3 (ipykernel)",
   "language": "python",
   "name": "python3"
  },
  "language_info": {
   "codemirror_mode": {
    "name": "ipython",
    "version": 3
   },
   "file_extension": ".py",
   "mimetype": "text/x-python",
   "name": "python",
   "nbconvert_exporter": "python",
   "pygments_lexer": "ipython3",
   "version": "3.10.6"
  }
 },
 "nbformat": 4,
 "nbformat_minor": 5
}
