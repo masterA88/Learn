{
 "cells": [
  {
   "cell_type": "markdown",
   "metadata": {
    "deletable": false,
    "editable": false,
    "nbgrader": {
     "cell_type": "markdown",
     "checksum": "d7a0818024e536096b7a93ac4232813e",
     "grade": false,
     "grade_id": "cell-bdd9d87c4214edf6",
     "locked": true,
     "schema_version": 3,
     "solution": false,
     "task": false
    }
   },
   "source": [
    "# Activity: Documenting a Python library\n",
    "\n",
    "## Scenario\n",
    "You're a new intern at a company that develops educational software. You've been assigned to a team that's working on a trivia game application. The team recently acquired a code library from another developer that contains the core quiz functionality. However, this code library is poorly documented, making it difficult to understand and integrate into the application.\n",
    "\n",
    "This project will not only test your Python skills but also your ability to make sense of undocumented code and create clear, helpful documentation. By documenting this quiz program, you'll enable your team to integrate it into the trivia game application more effectively, contributing to a successful product launch.\n",
    "\n",
    "\n",
    "## Objective\n",
    "Your task is to examine this code library and create comprehensive documentation. You'll need to:\n",
    "* Understand the quiz program's structure: Determine how the code handles questions, answers, scoring, and user interaction.\n",
    "* Create clear and concise documentation: Write docstrings that explain the purpose of each function and class, including their parameters, return values, and any potential errors.\n",
    "* Improve the code's readability: Refactor variable names, add comments, and restructure code to make it easier to understand.\n",
    "* Generate examples and use cases: Provide illustrative examples of how to use the quiz program and its various features."
   ]
  },
  {
   "cell_type": "markdown",
   "metadata": {
    "deletable": false,
    "editable": false,
    "nbgrader": {
     "cell_type": "markdown",
     "checksum": "03b731ad4c6d09d3ccd77c81801f8d2b",
     "grade": false,
     "grade_id": "cell-0b9fcc5cbe1be5e9",
     "locked": true,
     "schema_version": 3,
     "solution": false,
     "task": false
    }
   },
   "source": [
    "## Step 1: Code Exploration and High-Level Understanding\n",
    "Before creating detailed documentation, take some time to develop a general understanding of the quiz program's codebase. Once you have a sense of the individual parts, try to describe the overall code flow in simple terms. The program first loads questions from a file. Then, it presents these questions to the user, checks their answers, and keeps track of the score.\n",
    "\n",
    "You can run the cell to see how the program works. If you want to see the source for the Question and TriviaGame classes, you can click **File** and select **Open**."
   ]
  },
  {
   "cell_type": "code",
   "execution_count": null,
   "metadata": {},
   "outputs": [],
   "source": [
    "from trivia_game import TriviaGame\n",
    "from question import Question\n",
    "import csv\n",
    "\n",
    "class TriviaGameDriver:\n",
    "    def __init__(self, filename):\n",
    "        self.questions = self.load_questions_from_file(filename)\n",
    "        self.game = TriviaGame(self.questions)\n",
    "\n",
    "    def load_questions_from_file(self, filename):\n",
    "        x = [] \n",
    "        with open(filename, 'r') as y:  \n",
    "            z = csv.reader(y) \n",
    "            next(z) \n",
    "            for a in z:  \n",
    "                b = a[0]  \n",
    "                c = a[1].split('|') \n",
    "                d = a[2]  \n",
    "                x.append(Question(b, c, d))  \n",
    "        return x \n",
    "\n",
    "    def start_game(self):\n",
    "        while True:\n",
    "            self.game.play_round()\n",
    "            play_again = input(\"Play another round? (y/n): \")\n",
    "            if play_again.lower() != 'y':\n",
    "                break\n",
    "        print(f\"\\nFinal score: {self.game.score}\")\n",
    "\n",
    "if __name__ == \"__main__\":\n",
    "    driver = TriviaGameDriver('questions.csv')\n",
    "    driver.start_game()"
   ]
  },
  {
   "cell_type": "markdown",
   "metadata": {
    "deletable": false,
    "editable": false,
    "nbgrader": {
     "cell_type": "markdown",
     "checksum": "6b89e0a4ce82470ee40cef1b93d7279c",
     "grade": false,
     "grade_id": "cell-0f82926344913517",
     "locked": true,
     "schema_version": 3,
     "solution": false,
     "task": false
    }
   },
   "source": [
    "## Step 2: Document Question class\n",
    "\n",
    "Now that you have seen the program running, it's time to start creating detailed documentation. In this step, you'll focus on documenting the Question class.\n",
    "\n",
    "The Question class is a fundamental building block of the quiz program. It represents a single question with its associated options and correct answer. Your task is to write a PEP 8 compliant docstring for this class.\n",
    "\n",
    "Here's a breakdown of what your docstring should include:\n",
    "* **A concise summary:** Start with a brief description of the Question class and its purpose. For example, you may choose to describe the class simply with a description like: *Represents a question in the trivia game*\n",
    "* **Attributes:** Clearly document the attributes of the class, explaining what each attribute represents and its data type. For example:\n",
    "   * text (str): The text of the question.\n",
    "   * options (list): A list of possible answer options.\n",
    "   * answer (str): The correct answer to the question.\n",
    "* **Example:** Include a simple example of how to create an instance of the Question class. This will help users understand how to use the class in their code. \n",
    "   * To create a question, use the following format:\n",
    "   * *question = Question(\"What is the capital of France?\", [\"Berlin\", \"Paris\", \"Madrid\", \"Rome\"], \"Paris\")*\n",
    "\n",
    "Remember to follow PEP 8 guidelines for docstring formatting:\n",
    "* Use triple double-quotes (\") to enclose the docstring.\n",
    "* Place the docstring immediately after the class definition.\n",
    "* Start with a concise summary on the first line.\n",
    "* If the docstring has more than one line, include a blank line after the summary.\n",
    "* Use consistent indentation and spacing."
   ]
  },
  {
   "cell_type": "code",
   "execution_count": null,
   "metadata": {},
   "outputs": [],
   "source": [
    "#class Question:\n",
    "    \"\"\"Represents a question in the trivia game.\n",
    "\n",
    "    Attributes:\n",
    "        text (str): The text of the question.\n",
    "        options (list): A list of possible answer options.\n",
    "        answer (str): The correct answer to the question.\n",
    "\n",
    "    Example:\n",
    "        question = Question(\"What is the capital of France?\", [\"Berlin\", \"Paris\", \"Madrid\", \"Rome\"], \"Paris\")\n",
    "    \"\"\"\n",
    "\n",
    "    def __init__(self, text, options, answer):\n",
    "        self.text = text\n",
    "        self.options = options\n",
    "        self.answer = answer\n"
   ]
  },
  {
   "cell_type": "code",
   "execution_count": null,
   "metadata": {
    "deletable": false,
    "editable": false,
    "nbgrader": {
     "cell_type": "code",
     "checksum": "38ff4a51ddeedf65ae24da53f3324af0",
     "grade": true,
     "grade_id": "cell-c86293929f1ec8c2",
     "locked": true,
     "points": 2,
     "schema_version": 3,
     "solution": false,
     "task": false
    }
   },
   "outputs": [],
   "source": [
    "# Checking Your Results"
   ]
  },
  {
   "cell_type": "markdown",
   "metadata": {
    "deletable": false,
    "editable": false,
    "nbgrader": {
     "cell_type": "markdown",
     "checksum": "9aaad7e8ff69f6927a299b1a9c728743",
     "grade": false,
     "grade_id": "cell-61b483df6b7c6eb8",
     "locked": true,
     "schema_version": 3,
     "solution": false,
     "task": false
    }
   },
   "source": [
    "## Step 3: Generating a code explanation with AI\n",
    "Instead of manually examining the codebase, you will leverage the power of AI to gain a high-level understanding of the quiz program. Before you start, when using AI tools for code refactoring, it's crucial to be mindful of code security. Avoid pasting sensitive code snippets or proprietary algorithms into public AI tools. This is because the code you input might be used to train the AI model, potentially exposing your intellectual property. If you need to refactor sensitive code, consider using a private or secure AI tool that guarantees the confidentiality of your data.\n",
    "\n",
    "If you needed to, you could direct the AI to produce documentation in different formats (for example, a Markdown file for a Git repository, or an HTML file for online help). In this case, you'll use it to help you understand the code. Copy the code and prompt below to an AI tool, and paste the response in the cell below.\n",
    "\n",
    "*I have a Python codebase for a quiz program. Provide a high-level overview of the program's functionality. Specifically, I'd like to know: What is the purpose of each method? What are the main classes and functions? What are the key data structures used? How does the code execute at a high level? Summarize your findings in a concise paragraph of approximately 150 words.*\n",
    "\n",
    "```python\n",
    "class TriviaGameDriver:\n",
    "\n",
    "    def __init__(self, filename):\n",
    "        self.questions = self.load_questions_from_file(filename)\n",
    "        self.game = TriviaGame(self.questions)\n",
    "\n",
    "    def load_questions_from_file(self, filename):\n",
    "        x = []\n",
    "        with open(filename, 'r') as y:\n",
    "            z = csv.reader(y)\n",
    "            next(z)\n",
    "            for a in z:\n",
    "                b = a[0]\n",
    "                c = a[1].split('|')\n",
    "                d = a[2]\n",
    "                x.append(Question(b, c, d))\n",
    "        return x\n",
    "\n",
    "    def start_game(self):\n",
    "        while True:\n",
    "            self.game.play_round()\n",
    "            play_again = input(\"Play another round? (y/n): \")\n",
    "            if play_again.lower() != 'y':\n",
    "                break\n",
    "        print(f\"\\nFinal score: {self.game.score}\")\n",
    " ```"
   ]
  },
  {
   "cell_type": "markdown",
   "metadata": {},
   "source": [
    "# STEP 3: Paste your documentation answer here"
   ]
  },
  {
   "cell_type": "code",
   "execution_count": null,
   "metadata": {
    "deletable": false,
    "editable": false,
    "nbgrader": {
     "cell_type": "code",
     "checksum": "772ec39c16833546e490dd1de77b9d77",
     "grade": true,
     "grade_id": "cell-7e92abeedf5add1d",
     "locked": true,
     "points": 2,
     "schema_version": 3,
     "solution": false,
     "task": false
    }
   },
   "outputs": [],
   "source": [
    "# Checking Your Results"
   ]
  },
  {
   "cell_type": "markdown",
   "metadata": {
    "deletable": false,
    "editable": false,
    "nbgrader": {
     "cell_type": "markdown",
     "checksum": "d5ff1136125c2822568b9c9980437ee7",
     "grade": false,
     "grade_id": "cell-963364b034c3c0cd",
     "locked": true,
     "schema_version": 3,
     "solution": false,
     "task": false
    }
   },
   "source": [
    "## Step 4: Optimizing the TriviaGame class\n",
    "\n",
    "In this step, you'll work with the TriviaGame class, which is responsible for setting up each trivia game. You'll focus on two key tasks with the help of AI: adding comments and refactoring code. Copy the prompt and code to an AI tool and paste the results in the cell below.\n",
    "\n",
    "*In the attached code, refactor the variable names to make them more descriptive. In addition, please add PEP8-compliant comments and docstrings. Provide a list of changes after updating the code.*\n",
    "\n",
    "```python\n",
    "class TriviaGameDriver:\n",
    "    import math\n",
    "    \n",
    "    def __init__(self, filename):\n",
    "        self.questions = self.load_questions_from_file(filename)\n",
    "        self.game = TriviaGame(self.questions)\n",
    "\n",
    "    def load_questions_from_file(self, filename):\n",
    "        total_score = 0\n",
    "        x = []\n",
    "        with open(filename, 'r') as y:\n",
    "            z = csv.reader(y)\n",
    "            next(z)\n",
    "            for a in z:\n",
    "            b = a[0]\n",
    "            c = a[1].split('|')\n",
    "            d = a[2]\n",
    "            x.append(Question(b, c, d))\n",
    "        return x\n",
    "\n",
    "def start_game(self):\n",
    "    while True:\n",
    "        self.game.play_round()\n",
    "        play_again = input(\"Play another round? (y/n): \")\n",
    "        if play_again.lower() != 'y':\n",
    "            break\n",
    "    print(f\"\\nFinal score: {self.game.score}\") \n",
    "```"
   ]
  },
  {
   "cell_type": "code",
   "execution_count": null,
   "metadata": {},
   "outputs": [],
   "source": [
    "import csv\n",
    "from trivia_game import TriviaGame\n",
    "from question import Question\n",
    "\n",
    "class TriviaGameDriver:\n",
    "    \"\"\"\n",
    "    Orchestrates the trivia game, loading questions and managing the game flow.\n",
    "    \"\"\"\n",
    "\n",
    "    def __init__(self, filename):\n",
    "        \"\"\"\n",
    "        Initializes the TriviaGameDriver by loading questions and setting up the game.\n",
    "\n",
    "        Args:\n",
    "            filename (str): The path to the CSV file containing trivia questions.\n",
    "        \"\"\"\n",
    "        self.questions = self.load_questions_from_file(filename)\n",
    "        self.game = TriviaGame(self.questions)\n",
    "\n",
    "    def load_questions_from_file(self, filename):\n",
    "        \"\"\"\n",
    "        Loads trivia questions from a specified CSV file.\n",
    "\n",
    "        The CSV file is expected to have the following columns:\n",
    "        - Column 0: Question text\n",
    "        - Column 1: Pipe-separated answer options (e.g., \"OptionA|OptionB|OptionC\")\n",
    "        - Column 2: Correct answer\n",
    "\n",
    "        Args:\n",
    "            filename (str): The path to the CSV file.\n",
    "\n",
    "        Returns:\n",
    "            list: A list of Question objects.\n",
    "        \"\"\"\n",
    "        questions_list = []\n",
    "        with open(filename, 'r') as file:\n",
    "            csv_reader = csv.reader(file)\n",
    "            next(csv_reader)  # skip header\n",
    "            for row in csv_reader:\n",
    "                question_text = row[0]\n",
    "                options_list = row[1].split('|')\n",
    "                correct_answer = row[2]\n",
    "                questions_list.append(Question(question_text, options_list, correct_answer))\n",
    "        return questions_list\n",
    "\n",
    "    def start_game(self):\n",
    "        \"\"\"\n",
    "        Starts and manages the trivia game loop.\n",
    "\n",
    "        The game continues to play rounds until the user decides to stop.\n",
    "        Finally, it prints the player’s total score.\n",
    "        \"\"\"\n",
    "        while True:\n",
    "            self.game.play_round()\n",
    "            play_again = input(\"Play another round? (y/n): \")\n",
    "            if play_again.lower() != 'y':\n",
    "                break\n",
    "        print(f\"\\nFinal score: {self.game.score}\")\n",
    "\n",
    "if __name__ == \"__main__\":\n",
    "    driver = TriviaGameDriver('questions.csv')\n",
    "    driver.start_game()\n"
   ]
  },
  {
   "cell_type": "code",
   "execution_count": null,
   "metadata": {
    "deletable": false,
    "editable": false,
    "nbgrader": {
     "cell_type": "code",
     "checksum": "db3b0dc7a48950ccac73d3882c5248b6",
     "grade": true,
     "grade_id": "cell-d8a30531f6f9bc4b",
     "locked": true,
     "points": 13,
     "schema_version": 3,
     "solution": false,
     "task": false
    }
   },
   "outputs": [],
   "source": [
    "# Checking Your Results"
   ]
  },
  {
   "cell_type": "markdown",
   "metadata": {
    "deletable": false,
    "editable": false,
    "nbgrader": {
     "cell_type": "markdown",
     "checksum": "1c1325f980f5929576f9111206c0520f",
     "grade": false,
     "grade_id": "cell-62529208cf3ff630",
     "locked": true,
     "schema_version": 3,
     "solution": false,
     "task": false
    }
   },
   "source": [
    "## Step 5: Generate tests with AI\n",
    "\n",
    "In this step, you'll leverage the power of AI to help you create unit tests for the TriviaGame class. This will not only automate the process of generating test cases but also provide you with valuable insights into how to design effective tests. Note: this is a variation of the earlier TriviaGame class.\n",
    "\n",
    "As your tests will use pytest, you will make sure pytest is installed by running *pip install pytest* before running your code.\n",
    "\n",
    "*Given the code from the Game class stored in a file named game.py, generate a set of meaningful unit tests for this class using the pytest module in Python. The tests should cover these scenarios:*\n",
    "* *Correct answer given*\n",
    "* *Incorrect answer given*\n",
    "* *Invalid input (out of range)* \n",
    "* *Invalid input (non-numeric)*\n",
    "*Provide the code for a set of the unit tests and instructions on how to set up the tests.*\n",
    "\n",
    "```python\n",
    "class Game:\n",
    "    def __init__(self):\n",
    "        self.score = 0\n",
    "        self._game_over = False\n",
    "\n",
    "    def is_game_over(self) -> bool:\n",
    "        return self._game_over\n",
    "\n",
    "    def get_final_score(self) -> int:\n",
    "        \"\"\"Returns the player's final score. Only valid after game is over.\"\"\"\n",
    "        if not self.is_game_over():\n",
    "            raise ValueError(\"Game is not over yet.\")\n",
    "        return self.score\n",
    "```"
   ]
  },
  {
   "cell_type": "code",
   "execution_count": null,
   "metadata": {
    "deletable": false,
    "editable": false,
    "nbgrader": {
     "cell_type": "code",
     "checksum": "d39db1faa7204ef0ea59b2d841de7e68",
     "grade": false,
     "grade_id": "cell-b13492b95aa27fbb",
     "locked": true,
     "schema_version": 3,
     "solution": false,
     "task": false
    }
   },
   "outputs": [],
   "source": [
    "pip install pytest"
   ]
  },
  {
   "cell_type": "code",
   "execution_count": null,
   "metadata": {},
   "outputs": [],
   "source": [
    "import unittest\n",
    "from game import Game  # <- Make sure this matches your actual module\n",
    "from question import Question\n",
    "\n",
    "class TestGame(unittest.TestCase):\n",
    "    def setUp(self):\n",
    "        # Create a list of two sample questions\n",
    "        self.questions = [\n",
    "            Question(\"What is the capital of France?\", [\"Paris\", \"London\", \"Berlin\"], \"Paris\"),\n",
    "            Question(\"What is 2 + 2?\", [\"3\", \"4\", \"5\"], \"4\")\n",
    "        ]\n",
    "        self.game = Game(self.questions)\n",
    "\n",
    "    def test_correct_answer_increases_score(self):\n",
    "        \"\"\"\n",
    "        Test that a correct answer increases the score by 1.\n",
    "        \"\"\"\n",
    "        self.game.process_answer(self.questions[0], \"Paris\")\n",
    "        self.assertEqual(self.game.get_final_score(), 1)\n",
    "\n",
    "    def test_incorrect_answer_does_not_increase_score(self):\n",
    "        \"\"\"\n",
    "        Test that an incorrect answer does not increase the score.\n",
    "        \"\"\"\n",
    "        self.game.process_answer(self.questions[0], \"London\")\n",
    "        self.assertEqual(self.game.get_final_score(), 0)\n",
    "\n",
    "    def test_invalid_answer_raises_value_error(self):\n",
    "        \"\"\"\n",
    "        Test that a ValueError is raised when answer is not among options.\n",
    "        \"\"\"\n",
    "        with self.assertRaises(ValueError):\n",
    "            self.game.process_answer(self.questions[0], \"Madrid\")  # Not in options\n",
    "\n",
    "    def test_get_final_score_returns_correct_score(self):\n",
    "        \"\"\"\n",
    "        Test that get_final_score returns correct accumulated score.\n",
    "        \"\"\"\n",
    "        self.game.process_answer(self.questions[0], \"Paris\")\n",
    "        self.game.process_answer(self.questions[1], \"4\")\n",
    "        self.assertEqual(self.game.get_final_score(), 2)\n",
    "\n",
    "    def test_game_is_over_after_all_questions(self):\n",
    "        \"\"\"\n",
    "        Test that is_game_over returns True after all questions are answered.\n",
    "        \"\"\"\n",
    "        self.assertFalse(self.game.is_game_over())\n",
    "        self.game.process_answer(self.questions[0], \"Paris\")\n",
    "        self.assertFalse(self.game.is_game_over())\n",
    "        self.game.process_answer(self.questions[1], \"4\")\n",
    "        self.assertTrue(self.game.is_game_over())\n",
    "\n",
    "if __name__ == '__main__':\n",
    "    unittest.main()\n"
   ]
  },
  {
   "cell_type": "code",
   "execution_count": null,
   "metadata": {
    "deletable": false,
    "editable": false,
    "nbgrader": {
     "cell_type": "code",
     "checksum": "2390c091359eb17c38a2e55bd23db914",
     "grade": true,
     "grade_id": "cell-37cb422e02aa8d8c",
     "locked": true,
     "points": 4,
     "schema_version": 3,
     "solution": false,
     "task": false
    }
   },
   "outputs": [],
   "source": [
    "# Checking Your Results"
   ]
  }
 ],
 "metadata": {
  "kernelspec": {
   "display_name": "Python 3 (ipykernel)",
   "language": "python",
   "name": "python3"
  },
  "language_info": {
   "codemirror_mode": {
    "name": "ipython",
    "version": 3
   },
   "file_extension": ".py",
   "mimetype": "text/x-python",
   "name": "python",
   "nbconvert_exporter": "python",
   "pygments_lexer": "ipython3",
   "version": "3.10.6"
  }
 },
 "nbformat": 4,
 "nbformat_minor": 2
}
