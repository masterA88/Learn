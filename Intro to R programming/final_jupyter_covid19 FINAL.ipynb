{
 "cells": [
  {
   "cell_type": "markdown",
   "metadata": {},
   "source": [
    "<center>\n",
    "<img src=\"https://cf-courses-data.s3.us.cloud-object-storage.appdomain.cloud/IBMDeveloperSkillsNetwork-RP0101EN-Coursera/v2/M5_Final/images/SN_web_lightmode.png\" width=\"300\">\n",
    "</center>\n"
   ]
  },
  {
   "cell_type": "markdown",
   "metadata": {},
   "source": [
    "<h1>Analysis of Global COVID-19 Pandemic Data</h1>\n",
    "\n",
    "Estimated time needed: **90** minutes\n",
    "\n"
   ]
  },
  {
   "cell_type": "markdown",
   "metadata": {},
   "source": [
    "## Overview:\n",
    "\n",
    "There are 10 tasks in this final project. All tasks will be graded by your peers who are also completing this assignment within the same session.\n",
    "\n",
    "You need to submit the following the screenshot for the code and output for each task for review.\n",
    "\n",
    "If you need to refresh your memories about specific coding details, you may refer to previous hands-on labs for code examples.\n"
   ]
  },
  {
   "cell_type": "code",
   "execution_count": 3,
   "metadata": {},
   "outputs": [],
   "source": [
    "# This lab requires 'httr' and 'rvest'packages, which are already pre-loaded into this lab environment.\n",
    "# However, if you are working on your local RStudio, please uncomment the below codes and install the packages.\n",
    "\n",
    "#install.packages(\"httr\")\n",
    "#install.packages(\"rvest\")"
   ]
  },
  {
   "cell_type": "code",
   "execution_count": 4,
   "metadata": {},
   "outputs": [
    {
     "name": "stderr",
     "output_type": "stream",
     "text": [
      "Updating HTML index of packages in '.Library'\n",
      "\n",
      "Making 'packages.html' ...\n",
      " done\n",
      "\n",
      "Updating HTML index of packages in '.Library'\n",
      "\n",
      "Making 'packages.html' ...\n",
      " done\n",
      "\n"
     ]
    }
   ],
   "source": [
    "# library(httr)\n",
    "# library(rvest)\n",
    "\n",
    "install.packages(\"httr\")\n",
    "\n",
    "install.packages(\"rvest\")"
   ]
  },
  {
   "cell_type": "markdown",
   "metadata": {},
   "source": [
    "Note: if you can import above libraries, please use install.packages() to install them first.\n"
   ]
  },
  {
   "cell_type": "markdown",
   "metadata": {},
   "source": [
    "## TASK 1: Get a `COVID-19 pandemic` Wiki page using HTTP request\n"
   ]
  },
  {
   "cell_type": "markdown",
   "metadata": {},
   "source": [
    "First, let's write a function to use HTTP request to get a public COVID-19 Wiki page.\n",
    "\n",
    "Before you write the function, you can open this public page from this \n",
    "\n",
    "URL https://en.wikipedia.org/w/index.php?title=Template:COVID-19_testing_by_country using a web browser.\n",
    "\n",
    "The goal of task 1 is to get the html page using HTTP request (`httr` library)\n"
   ]
  },
  {
   "cell_type": "code",
   "execution_count": 5,
   "metadata": {},
   "outputs": [],
   "source": [
    "\n",
    "# get_wiki_covid19_page <- function() {\n",
    "    \n",
    "#   # Our target COVID-19 wiki page URL is: https://en.wikipedia.org/w/index.php?title=Template:COVID-19_testing_by_country  \n",
    "#   # Which has two parts: \n",
    "#     # 1) base URL `https://en.wikipedia.org/w/index.php  \n",
    "#     # 2) URL parameter: `title=Template:COVID-19_testing_by_country`, seperated by question mark ?\n",
    "    \n",
    "#   # Wiki page base\n",
    "#   wiki_base_url <- \"https://en.wikipedia.org/w/index.php\"\n",
    "#   # You will need to create a List which has an element called `title` to specify which page you want to get from Wiki\n",
    "#   # in our case, it will be `Template:COVID-19_testing_by_country`\n",
    " \n",
    "#   # - Use the `GET` function in httr library with a `url` argument and a `query` arugment to get a HTTP response\n",
    "    \n",
    "#   # Use the `return` function to return the response\n",
    "\n",
    "# }\n",
    "\n",
    "get_wiki_covid19_page <- function() {\n",
    "  # Target page is the template transcluded into country pages\n",
    "  wiki_base_url <- \"https://en.wikipedia.org/w/index.php\"\n",
    "  query <- list(title = \"Template:COVID-19_testing_by_country\")\n",
    "  # Politely identify as a student script\n",
    "  resp <- httr::GET(url = wiki_base_url, query = query, httr::user_agent(\"covid19-lab/1.0\"))\n",
    "  httr::stop_for_status(resp)\n",
    "  return(resp)\n",
    "}\n"
   ]
  },
  {
   "cell_type": "markdown",
   "metadata": {},
   "source": [
    "Call the `get_wiki_covid19_page` function to get a http response with the target html page\n"
   ]
  },
  {
   "cell_type": "code",
   "execution_count": 7,
   "metadata": {},
   "outputs": [
    {
     "name": "stdout",
     "output_type": "stream",
     "text": [
      "Response [https://en.wikipedia.org/w/index.php?title=Template%3ACOVID-19_testing_by_country]\n",
      "  Date: 2025-08-10 15:22\n",
      "  Status: 200\n",
      "  Content-Type: text/html; charset=UTF-8\n",
      "  Size: 451 kB\n",
      "<!DOCTYPE html>\n",
      "<html class=\"client-nojs vector-feature-language-in-header-enabled vector-fea...\n",
      "<head>\n",
      "<meta charset=\"UTF-8\">\n",
      "<title>Template:COVID-19 testing by country - Wikipedia</title>\n",
      "<script>(function(){var className=\"client-js vector-feature-language-in-heade...\n",
      "RLSTATE={\"ext.globalCssJs.user.styles\":\"ready\",\"site.styles\":\"ready\",\"user.st...\n",
      "<script>(RLQ=window.RLQ||[]).push(function(){mw.loader.impl(function(){return...\n",
      "}];});});</script>\n",
      "<link rel=\"stylesheet\" href=\"/w/load.php?lang=en&amp;modules=ext.cite.styles%...\n",
      "...\n"
     ]
    }
   ],
   "source": [
    "# Call the get_wiki_covid19_page function and print the response\n",
    "wiki_response <- get_wiki_covid19_page()\n",
    "print(wiki_response)"
   ]
  },
  {
   "cell_type": "markdown",
   "metadata": {},
   "source": [
    "## TASK 2: Extract COVID-19 testing data table from the wiki HTML page\n"
   ]
  },
  {
   "cell_type": "markdown",
   "metadata": {},
   "source": [
    "On the COVID-19 testing wiki page, you should see a data table `<table>` node contains COVID-19 testing data by country on the page:\n",
    "\n",
    "<a href=\"https://cognitiveclass.ai/\">\n",
    "    <img src=\"https://cf-courses-data.s3.us.cloud-object-storage.appdomain.cloud/IBMDeveloperSkillsNetwork-RP0101EN-Coursera/v2/M5_Final/images/covid-19-by-country.png\" width=\"400\" align=\"center\">\n",
    "</a>\n",
    "\n",
    "Note the numbers you actually see on your page may be different from above because it is still an on-going pandemic when creating this notebook.\n",
    "\n",
    "The goal of task 2 is to extract above data table and convert it into a data frame\n"
   ]
  },
  {
   "cell_type": "markdown",
   "metadata": {},
   "source": [
    "Now use the `read_html` function in rvest library to get the root html node from response\n"
   ]
  },
  {
   "cell_type": "code",
   "execution_count": 10,
   "metadata": {},
   "outputs": [
    {
     "data": {
      "text/plain": [
       "{html_document}\n",
       "<html class=\"client-nojs vector-feature-language-in-header-enabled vector-feature-language-in-main-page-header-disabled vector-feature-page-tools-pinned-disabled vector-feature-toc-pinned-clientpref-1 vector-feature-main-menu-pinned-disabled vector-feature-limited-width-clientpref-1 vector-feature-limited-width-content-enabled vector-feature-custom-font-size-clientpref-1 vector-feature-appearance-pinned-clientpref-1 vector-feature-night-mode-enabled skin-theme-clientpref-day vector-sticky-header-enabled vector-toc-available\" lang=\"en\" dir=\"ltr\">\n",
       "[1] <head>\\n<meta http-equiv=\"Content-Type\" content=\"text/html; charset=UTF-8 ...\n",
       "[2] <body class=\"skin--responsive skin-vector skin-vector-search-vue mediawik ..."
      ]
     },
     "metadata": {},
     "output_type": "display_data"
    }
   ],
   "source": [
    "# Get the root html node from the http response in task 1 \n",
    "\n",
    "\n",
    "library(httr)\n",
    "library(rvest)\n",
    "\n",
    "\n",
    "# wiki_response <- get_wiki_covid19_page()\n",
    "\n",
    "# Parse the HTML from the response\n",
    "root_node <- wiki_response %>%\n",
    "  httr::content(as = \"text\", encoding = \"UTF-8\") %>%\n",
    "  read_html()\n",
    "\n",
    "root_node"
   ]
  },
  {
   "cell_type": "markdown",
   "metadata": {},
   "source": [
    "Get the tables in the HTML root node using `html_nodes` function.\n"
   ]
  },
  {
   "cell_type": "code",
   "execution_count": 12,
   "metadata": {},
   "outputs": [
    {
     "data": {
      "text/plain": [
       "{html_node}\n",
       "<table class=\"wikitable plainrowheaders sortable collapsible autocollapse\">\n",
       "[1] <caption>\\n<style data-mw-deduplicate=\"TemplateStyles:r1129693374\">.mw-pa ...\n",
       "[2] <tbody>\\n<tr>\\n<th>Country or region\\n</th>\\n<th>Date<sup id=\"cite_ref-1\" ..."
      ]
     },
     "metadata": {},
     "output_type": "display_data"
    }
   ],
   "source": [
    "# Get the table node from the root html node\n",
    "table_node <- html_node(root_node, \"table.wikitable\")\n",
    "table_node"
   ]
  },
  {
   "cell_type": "markdown",
   "metadata": {},
   "source": [
    "Read the specific table from the multiple tables in the `table_node` using the `html_table` function and convert it into dataframe using `as.data.frame`\n",
    "\n",
    "_Hint:- Please read the `table_node` with index 2(ex:- table_node[2])._\n"
   ]
  },
  {
   "cell_type": "code",
   "execution_count": 14,
   "metadata": {},
   "outputs": [
    {
     "data": {
      "text/html": [
       "<table class=\"dataframe\">\n",
       "<caption>A tibble: 6 × 9</caption>\n",
       "<thead>\n",
       "\t<tr><th scope=col>Country or region</th><th scope=col>Date[a]</th><th scope=col>Tested</th><th scope=col>Units[b]</th><th scope=col>Confirmed(cases)</th><th scope=col>Confirmed /tested,%</th><th scope=col>Tested /population,%</th><th scope=col>Confirmed /population,%</th><th scope=col>Ref.</th></tr>\n",
       "\t<tr><th scope=col>&lt;chr&gt;</th><th scope=col>&lt;chr&gt;</th><th scope=col>&lt;chr&gt;</th><th scope=col>&lt;chr&gt;</th><th scope=col>&lt;chr&gt;</th><th scope=col>&lt;chr&gt;</th><th scope=col>&lt;chr&gt;</th><th scope=col>&lt;chr&gt;</th><th scope=col>&lt;chr&gt;</th></tr>\n",
       "</thead>\n",
       "<tbody>\n",
       "\t<tr><td>Afghanistan        </td><td>17 Dec 2020</td><td>154,767</td><td>samples</td><td>49,621</td><td>32.1</td><td>0.40</td><td>0.13 </td><td>[1]   </td></tr>\n",
       "\t<tr><td>Albania            </td><td>18 Feb 2021</td><td>428,654</td><td>samples</td><td>96,838</td><td>22.6</td><td>15.0</td><td>3.4  </td><td>[2]   </td></tr>\n",
       "\t<tr><td>Algeria            </td><td>2 Nov 2020 </td><td>230,553</td><td>samples</td><td>58,574</td><td>25.4</td><td>0.53</td><td>0.13 </td><td>[3][4]</td></tr>\n",
       "\t<tr><td>Andorra            </td><td>23 Feb 2022</td><td>300,307</td><td>samples</td><td>37,958</td><td>12.6</td><td>387 </td><td>49.0 </td><td>[5]   </td></tr>\n",
       "\t<tr><td>Angola             </td><td>2 Feb 2021 </td><td>399,228</td><td>samples</td><td>20,981</td><td>5.3 </td><td>1.3 </td><td>0.067</td><td>[6]   </td></tr>\n",
       "\t<tr><td>Antigua and Barbuda</td><td>6 Mar 2021 </td><td>15,268 </td><td>samples</td><td>832   </td><td>5.4 </td><td>15.9</td><td>0.86 </td><td>[7]   </td></tr>\n",
       "</tbody>\n",
       "</table>\n"
      ],
      "text/latex": [
       "A tibble: 6 × 9\n",
       "\\begin{tabular}{lllllllll}\n",
       " Country or region & Date{[}a{]} & Tested & Units{[}b{]} & Confirmed(cases) & Confirmed /tested,\\% & Tested /population,\\% & Confirmed /population,\\% & Ref.\\\\\n",
       " <chr> & <chr> & <chr> & <chr> & <chr> & <chr> & <chr> & <chr> & <chr>\\\\\n",
       "\\hline\n",
       "\t Afghanistan         & 17 Dec 2020 & 154,767 & samples & 49,621 & 32.1 & 0.40 & 0.13  & {[}1{]}   \\\\\n",
       "\t Albania             & 18 Feb 2021 & 428,654 & samples & 96,838 & 22.6 & 15.0 & 3.4   & {[}2{]}   \\\\\n",
       "\t Algeria             & 2 Nov 2020  & 230,553 & samples & 58,574 & 25.4 & 0.53 & 0.13  & {[}3{]}{[}4{]}\\\\\n",
       "\t Andorra             & 23 Feb 2022 & 300,307 & samples & 37,958 & 12.6 & 387  & 49.0  & {[}5{]}   \\\\\n",
       "\t Angola              & 2 Feb 2021  & 399,228 & samples & 20,981 & 5.3  & 1.3  & 0.067 & {[}6{]}   \\\\\n",
       "\t Antigua and Barbuda & 6 Mar 2021  & 15,268  & samples & 832    & 5.4  & 15.9 & 0.86  & {[}7{]}   \\\\\n",
       "\\end{tabular}\n"
      ],
      "text/markdown": [
       "\n",
       "A tibble: 6 × 9\n",
       "\n",
       "| Country or region &lt;chr&gt; | Date[a] &lt;chr&gt; | Tested &lt;chr&gt; | Units[b] &lt;chr&gt; | Confirmed(cases) &lt;chr&gt; | Confirmed /tested,% &lt;chr&gt; | Tested /population,% &lt;chr&gt; | Confirmed /population,% &lt;chr&gt; | Ref. &lt;chr&gt; |\n",
       "|---|---|---|---|---|---|---|---|---|\n",
       "| Afghanistan         | 17 Dec 2020 | 154,767 | samples | 49,621 | 32.1 | 0.40 | 0.13  | [1]    |\n",
       "| Albania             | 18 Feb 2021 | 428,654 | samples | 96,838 | 22.6 | 15.0 | 3.4   | [2]    |\n",
       "| Algeria             | 2 Nov 2020  | 230,553 | samples | 58,574 | 25.4 | 0.53 | 0.13  | [3][4] |\n",
       "| Andorra             | 23 Feb 2022 | 300,307 | samples | 37,958 | 12.6 | 387  | 49.0  | [5]    |\n",
       "| Angola              | 2 Feb 2021  | 399,228 | samples | 20,981 | 5.3  | 1.3  | 0.067 | [6]    |\n",
       "| Antigua and Barbuda | 6 Mar 2021  | 15,268  | samples | 832    | 5.4  | 15.9 | 0.86  | [7]    |\n",
       "\n"
      ],
      "text/plain": [
       "  Country or region   Date[a]     Tested  Units[b] Confirmed(cases)\n",
       "1 Afghanistan         17 Dec 2020 154,767 samples  49,621          \n",
       "2 Albania             18 Feb 2021 428,654 samples  96,838          \n",
       "3 Algeria             2 Nov 2020  230,553 samples  58,574          \n",
       "4 Andorra             23 Feb 2022 300,307 samples  37,958          \n",
       "5 Angola              2 Feb 2021  399,228 samples  20,981          \n",
       "6 Antigua and Barbuda 6 Mar 2021  15,268  samples  832             \n",
       "  Confirmed /tested,% Tested /population,% Confirmed /population,% Ref.  \n",
       "1 32.1                0.40                 0.13                    [1]   \n",
       "2 22.6                15.0                 3.4                     [2]   \n",
       "3 25.4                0.53                 0.13                    [3][4]\n",
       "4 12.6                387                  49.0                    [5]   \n",
       "5 5.3                 1.3                  0.067                   [6]   \n",
       "6 5.4                 15.9                 0.86                    [7]   "
      ]
     },
     "metadata": {},
     "output_type": "display_data"
    }
   ],
   "source": [
    "# Read the table node and convert it into a data frame, and print the data frame for review\n",
    "covid_data_frame <- html_table(table_node, fill = TRUE)\n",
    "# Quick peek\n",
    "head(covid_data_frame)"
   ]
  },
  {
   "cell_type": "markdown",
   "metadata": {},
   "source": [
    "## TASK 3: Pre-process and export the extracted data frame\n",
    "\n",
    "The goal of task 3 is to pre-process the extracted data frame from the previous step, and export it as a csv file\n"
   ]
  },
  {
   "cell_type": "markdown",
   "metadata": {},
   "source": [
    "Let's get a summary of the data frame\n"
   ]
  },
  {
   "cell_type": "code",
   "execution_count": 15,
   "metadata": {},
   "outputs": [
    {
     "data": {
      "text/plain": [
       " Country or region    Date[a]             Tested            Units[b]        \n",
       " Length:173         Length:173         Length:173         Length:173        \n",
       " Class :character   Class :character   Class :character   Class :character  \n",
       " Mode  :character   Mode  :character   Mode  :character   Mode  :character  \n",
       " Confirmed(cases)   Confirmed /tested,% Tested /population,%\n",
       " Length:173         Length:173          Length:173          \n",
       " Class :character   Class :character    Class :character    \n",
       " Mode  :character   Mode  :character    Mode  :character    \n",
       " Confirmed /population,%     Ref.          \n",
       " Length:173              Length:173        \n",
       " Class :character        Class :character  \n",
       " Mode  :character        Mode  :character  "
      ]
     },
     "metadata": {},
     "output_type": "display_data"
    },
    {
     "name": "stdout",
     "output_type": "stream",
     "text": [
      "tibble [173 × 9] (S3: tbl_df/tbl/data.frame)\n",
      " $ Country or region      : chr [1:173] \"Afghanistan\" \"Albania\" \"Algeria\" \"Andorra\" ...\n",
      " $ Date[a]                : chr [1:173] \"17 Dec 2020\" \"18 Feb 2021\" \"2 Nov 2020\" \"23 Feb 2022\" ...\n",
      " $ Tested                 : chr [1:173] \"154,767\" \"428,654\" \"230,553\" \"300,307\" ...\n",
      " $ Units[b]               : chr [1:173] \"samples\" \"samples\" \"samples\" \"samples\" ...\n",
      " $ Confirmed(cases)       : chr [1:173] \"49,621\" \"96,838\" \"58,574\" \"37,958\" ...\n",
      " $ Confirmed /tested,%    : chr [1:173] \"32.1\" \"22.6\" \"25.4\" \"12.6\" ...\n",
      " $ Tested /population,%   : chr [1:173] \"0.40\" \"15.0\" \"0.53\" \"387\" ...\n",
      " $ Confirmed /population,%: chr [1:173] \"0.13\" \"3.4\" \"0.13\" \"49.0\" ...\n",
      " $ Ref.                   : chr [1:173] \"[1]\" \"[2]\" \"[3][4]\" \"[5]\" ...\n"
     ]
    }
   ],
   "source": [
    "# Print the summary of the data frame\n",
    "summary(covid_data_frame)\n",
    "str(covid_data_frame)"
   ]
  },
  {
   "cell_type": "markdown",
   "metadata": {},
   "source": [
    "As you can see from the summary, the columns names are little bit different to understand and some column data types are not correct. For example, the `Tested` column shows as `character`. \n",
    "\n",
    "As such, the data frame read from HTML table will need some pre-processing such as removing irrelvant columns, renaming columns, and convert columns into proper data types.\n"
   ]
  },
  {
   "cell_type": "markdown",
   "metadata": {},
   "source": [
    "We have prepared a pre-processing function for you to conver the data frame but you can also try to write one by yourself\n"
   ]
  },
  {
   "cell_type": "code",
   "execution_count": 20,
   "metadata": {},
   "outputs": [],
   "source": [
    "preprocess_covid_data_frame <- function(data_frame) {\n",
    "  # Ensure base types\n",
    "  data_frame <- as.data.frame(data_frame, stringsAsFactors = FALSE)\n",
    "  shape <- dim(data_frame)\n",
    "\n",
    "  # Remove the World row (before renaming)\n",
    "  if (\"Country.or.region\" %in% names(data_frame)) {\n",
    "    data_frame <- data_frame[!(data_frame$`Country.or.region` == \"World\"), ]\n",
    "  }\n",
    "\n",
    "  # Keep only the first 172 rows (per lab hint)\n",
    "  if (nrow(data_frame) >= 172) {\n",
    "    data_frame <- data_frame[1:172, ]\n",
    "  }\n",
    "\n",
    "  # Drop columns we do not need if present\n",
    "  drop_cols <- intersect(c(\"Ref.\", \"Ref\", \"Units.b.\", \"Notes\"), names(data_frame))\n",
    "  if (length(drop_cols)) data_frame[drop_cols] <- NULL\n",
    "\n",
    "  # Standardize names for easier handling (spaces -> dots)\n",
    "  names(data_frame) <- make.names(names(data_frame))\n",
    "\n",
    "  # Map typical column names from the Wiki table to consistent names\n",
    "  rename_map <- c(\n",
    "    \"Country.or.region\" = \"country\",\n",
    "    \"Country\" = \"country\",\n",
    "    \"Location\" = \"country\",\n",
    "    \"As.of\" = \"date\",\n",
    "    \"Date\" = \"date\",\n",
    "    \"Tested\" = \"tested\",\n",
    "    \"Tests\" = \"tested\",\n",
    "    \"Total.tests\" = \"tested\",\n",
    "    \"Tests.performed\" = \"tested\",\n",
    "    \"Confirmed.cases\" = \"confirmed\",\n",
    "    \"Cases\" = \"confirmed\",\n",
    "    \"Confirmed\" = \"confirmed\",\n",
    "    \"Population\" = \"population\",\n",
    "    \"Confirmed.cases.as.a.proportion.of.tests\" = \"confirmed.tested.ratio\",\n",
    "    \"Tests.as.a.proportion.of.population\" = \"tested.population.ratio\",\n",
    "    \"Confirmed.cases.as.a.proportion.of.population\" = \"confirmed.population.ratio\"\n",
    "  )\n",
    "  for (old in names(rename_map)) {\n",
    "    if (old %in% names(data_frame)) {\n",
    "      names(data_frame)[names(data_frame) == old] <- rename_map[[old]]\n",
    "    }\n",
    "  }\n",
    "\n",
    "  # Helper to clean numeric strings (remove commas, footnotes, and non-numeric chars)\n",
    "  clean_num <- function(x) {\n",
    "    x <- gsub(\",\", \"\", x)\n",
    "    x <- gsub(\"\\\\[[^\\\\]]*\\\\]\", \"\", x)  # <-- fixed escaping\n",
    "    x <- gsub(\"[^0-9.]\", \"\", x)\n",
    "    suppressWarnings(as.numeric(x))\n",
    "  }\n",
    "\n",
    "  # Convert column data types\n",
    "  if (\"country\" %in% names(data_frame)) data_frame$country <- as.factor(trimws(data_frame$country))\n",
    "  if (\"date\" %in% names(data_frame)) data_frame$date <- as.factor(trimws(as.character(data_frame$date)))\n",
    "  if (\"tested\" %in% names(data_frame)) data_frame$tested <- clean_num(data_frame$tested)\n",
    "  if (\"confirmed\" %in% names(data_frame)) data_frame$confirmed <- clean_num(data_frame$confirmed)\n",
    "  if (\"population\" %in% names(data_frame)) data_frame$population <- clean_num(data_frame$population)\n",
    "\n",
    "  # Convert precomputed ratios if present\n",
    "  if (\"confirmed.tested.ratio\" %in% names(data_frame)) data_frame$confirmed.tested.ratio <- clean_num(data_frame$confirmed.tested.ratio)\n",
    "  if (\"tested.population.ratio\" %in% names(data_frame)) data_frame$tested.population.ratio <- clean_num(data_frame$tested.population.ratio)\n",
    "  if (\"confirmed.population.ratio\" %in% names(data_frame)) data_frame$confirmed.population.ratio <- clean_num(data_frame$confirmed.population.ratio)\n",
    "\n",
    "  # Derive ratios if missing\n",
    "  if (!(\"confirmed.tested.ratio\" %in% names(data_frame)) && all(c(\"confirmed\",\"tested\") %in% names(data_frame))) {\n",
    "    data_frame$confirmed.tested.ratio <- ifelse(data_frame$tested > 0, data_frame$confirmed / data_frame$tested, NA_real_)\n",
    "  }\n",
    "  if (!(\"confirmed.population.ratio\" %in% names(data_frame)) && all(c(\"confirmed\",\"population\") %in% names(data_frame))) {\n",
    "    data_frame$confirmed.population.ratio <- ifelse(data_frame$population > 0, data_frame$confirmed / data_frame$population, NA_real_)\n",
    "  }\n",
    "  if (!(\"tested.population.ratio\" %in% names(data_frame)) && all(c(\"tested\",\"population\") %in% names(data_frame))) {\n",
    "    data_frame$tested.population.ratio <- ifelse(data_frame$population > 0, data_frame$tested / data_frame$population, NA_real_)\n",
    "  }\n",
    "\n",
    "  return(data_frame)\n",
    "}\n"
   ]
  },
  {
   "cell_type": "markdown",
   "metadata": {},
   "source": [
    "Call the `preprocess_covid_data_frame` function\n"
   ]
  },
  {
   "cell_type": "code",
   "execution_count": 21,
   "metadata": {},
   "outputs": [
    {
     "data": {
      "text/html": [
       "<table class=\"dataframe\">\n",
       "<caption>A data.frame: 6 × 8</caption>\n",
       "<thead>\n",
       "\t<tr><th></th><th scope=col>country</th><th scope=col>Date.a.</th><th scope=col>tested</th><th scope=col>Units.b.</th><th scope=col>Confirmed.cases.</th><th scope=col>Confirmed..tested..</th><th scope=col>Tested..population..</th><th scope=col>Confirmed..population..</th></tr>\n",
       "\t<tr><th></th><th scope=col>&lt;fct&gt;</th><th scope=col>&lt;chr&gt;</th><th scope=col>&lt;dbl&gt;</th><th scope=col>&lt;chr&gt;</th><th scope=col>&lt;chr&gt;</th><th scope=col>&lt;chr&gt;</th><th scope=col>&lt;chr&gt;</th><th scope=col>&lt;chr&gt;</th></tr>\n",
       "</thead>\n",
       "<tbody>\n",
       "\t<tr><th scope=row>1</th><td>Afghanistan        </td><td>17 Dec 2020</td><td>154767</td><td>samples</td><td>49,621</td><td>32.1</td><td>0.40</td><td>0.13 </td></tr>\n",
       "\t<tr><th scope=row>2</th><td>Albania            </td><td>18 Feb 2021</td><td>428654</td><td>samples</td><td>96,838</td><td>22.6</td><td>15.0</td><td>3.4  </td></tr>\n",
       "\t<tr><th scope=row>3</th><td>Algeria            </td><td>2 Nov 2020 </td><td>230553</td><td>samples</td><td>58,574</td><td>25.4</td><td>0.53</td><td>0.13 </td></tr>\n",
       "\t<tr><th scope=row>4</th><td>Andorra            </td><td>23 Feb 2022</td><td>300307</td><td>samples</td><td>37,958</td><td>12.6</td><td>387 </td><td>49.0 </td></tr>\n",
       "\t<tr><th scope=row>5</th><td>Angola             </td><td>2 Feb 2021 </td><td>399228</td><td>samples</td><td>20,981</td><td>5.3 </td><td>1.3 </td><td>0.067</td></tr>\n",
       "\t<tr><th scope=row>6</th><td>Antigua and Barbuda</td><td>6 Mar 2021 </td><td> 15268</td><td>samples</td><td>832   </td><td>5.4 </td><td>15.9</td><td>0.86 </td></tr>\n",
       "</tbody>\n",
       "</table>\n"
      ],
      "text/latex": [
       "A data.frame: 6 × 8\n",
       "\\begin{tabular}{r|llllllll}\n",
       "  & country & Date.a. & tested & Units.b. & Confirmed.cases. & Confirmed..tested.. & Tested..population.. & Confirmed..population..\\\\\n",
       "  & <fct> & <chr> & <dbl> & <chr> & <chr> & <chr> & <chr> & <chr>\\\\\n",
       "\\hline\n",
       "\t1 & Afghanistan         & 17 Dec 2020 & 154767 & samples & 49,621 & 32.1 & 0.40 & 0.13 \\\\\n",
       "\t2 & Albania             & 18 Feb 2021 & 428654 & samples & 96,838 & 22.6 & 15.0 & 3.4  \\\\\n",
       "\t3 & Algeria             & 2 Nov 2020  & 230553 & samples & 58,574 & 25.4 & 0.53 & 0.13 \\\\\n",
       "\t4 & Andorra             & 23 Feb 2022 & 300307 & samples & 37,958 & 12.6 & 387  & 49.0 \\\\\n",
       "\t5 & Angola              & 2 Feb 2021  & 399228 & samples & 20,981 & 5.3  & 1.3  & 0.067\\\\\n",
       "\t6 & Antigua and Barbuda & 6 Mar 2021  &  15268 & samples & 832    & 5.4  & 15.9 & 0.86 \\\\\n",
       "\\end{tabular}\n"
      ],
      "text/markdown": [
       "\n",
       "A data.frame: 6 × 8\n",
       "\n",
       "| <!--/--> | country &lt;fct&gt; | Date.a. &lt;chr&gt; | tested &lt;dbl&gt; | Units.b. &lt;chr&gt; | Confirmed.cases. &lt;chr&gt; | Confirmed..tested.. &lt;chr&gt; | Tested..population.. &lt;chr&gt; | Confirmed..population.. &lt;chr&gt; |\n",
       "|---|---|---|---|---|---|---|---|---|\n",
       "| 1 | Afghanistan         | 17 Dec 2020 | 154767 | samples | 49,621 | 32.1 | 0.40 | 0.13  |\n",
       "| 2 | Albania             | 18 Feb 2021 | 428654 | samples | 96,838 | 22.6 | 15.0 | 3.4   |\n",
       "| 3 | Algeria             | 2 Nov 2020  | 230553 | samples | 58,574 | 25.4 | 0.53 | 0.13  |\n",
       "| 4 | Andorra             | 23 Feb 2022 | 300307 | samples | 37,958 | 12.6 | 387  | 49.0  |\n",
       "| 5 | Angola              | 2 Feb 2021  | 399228 | samples | 20,981 | 5.3  | 1.3  | 0.067 |\n",
       "| 6 | Antigua and Barbuda | 6 Mar 2021  |  15268 | samples | 832    | 5.4  | 15.9 | 0.86  |\n",
       "\n"
      ],
      "text/plain": [
       "  country             Date.a.     tested Units.b. Confirmed.cases.\n",
       "1 Afghanistan         17 Dec 2020 154767 samples  49,621          \n",
       "2 Albania             18 Feb 2021 428654 samples  96,838          \n",
       "3 Algeria             2 Nov 2020  230553 samples  58,574          \n",
       "4 Andorra             23 Feb 2022 300307 samples  37,958          \n",
       "5 Angola              2 Feb 2021  399228 samples  20,981          \n",
       "6 Antigua and Barbuda 6 Mar 2021   15268 samples  832             \n",
       "  Confirmed..tested.. Tested..population.. Confirmed..population..\n",
       "1 32.1                0.40                 0.13                   \n",
       "2 22.6                15.0                 3.4                    \n",
       "3 25.4                0.53                 0.13                   \n",
       "4 12.6                387                  49.0                   \n",
       "5 5.3                 1.3                  0.067                  \n",
       "6 5.4                 15.9                 0.86                   "
      ]
     },
     "metadata": {},
     "output_type": "display_data"
    }
   ],
   "source": [
    "# call `preprocess_covid_data_frame` function and assign it to a new data frame\n",
    "covid_data_frame <- preprocess_covid_data_frame(covid_data_frame)\n",
    "head(covid_data_frame)"
   ]
  },
  {
   "cell_type": "markdown",
   "metadata": {},
   "source": [
    "Get the summary of the processed data frame again\n"
   ]
  },
  {
   "cell_type": "code",
   "execution_count": 22,
   "metadata": {},
   "outputs": [
    {
     "data": {
      "text/plain": [
       "                country      Date.a.              tested         \n",
       " Afghanistan        :  1   Length:172         Min.   :     3880  \n",
       " Albania            :  1   Class :character   1st Qu.:   512037  \n",
       " Algeria            :  1   Mode  :character   Median :  3029859  \n",
       " Andorra            :  1                      Mean   : 31377219  \n",
       " Angola             :  1                      3rd Qu.: 12386725  \n",
       " Antigua and Barbuda:  1                      Max.   :929349291  \n",
       " (Other)            :166                                         \n",
       "   Units.b.         Confirmed.cases.   Confirmed..tested.. Tested..population..\n",
       " Length:172         Length:172         Length:172          Length:172          \n",
       " Class :character   Class :character   Class :character    Class :character    \n",
       " Mode  :character   Mode  :character   Mode  :character    Mode  :character    \n",
       "                                                                               \n",
       "                                                                               \n",
       "                                                                               \n",
       "                                                                               \n",
       " Confirmed..population..\n",
       " Length:172             \n",
       " Class :character       \n",
       " Mode  :character       \n",
       "                        \n",
       "                        \n",
       "                        \n",
       "                        "
      ]
     },
     "metadata": {},
     "output_type": "display_data"
    },
    {
     "name": "stdout",
     "output_type": "stream",
     "text": [
      "'data.frame':\t172 obs. of  8 variables:\n",
      " $ country                : Factor w/ 172 levels \"Afghanistan\",..: 1 2 3 4 5 6 7 8 9 10 ...\n",
      " $ Date.a.                : chr  \"17 Dec 2020\" \"18 Feb 2021\" \"2 Nov 2020\" \"23 Feb 2022\" ...\n",
      " $ tested                 : num  154767 428654 230553 300307 399228 ...\n",
      " $ Units.b.               : chr  \"samples\" \"samples\" \"samples\" \"samples\" ...\n",
      " $ Confirmed.cases.       : chr  \"49,621\" \"96,838\" \"58,574\" \"37,958\" ...\n",
      " $ Confirmed..tested..    : chr  \"32.1\" \"22.6\" \"25.4\" \"12.6\" ...\n",
      " $ Tested..population..   : chr  \"0.40\" \"15.0\" \"0.53\" \"387\" ...\n",
      " $ Confirmed..population..: chr  \"0.13\" \"3.4\" \"0.13\" \"49.0\" ...\n"
     ]
    }
   ],
   "source": [
    "# Print the summary of the processed data frame again\n",
    "summary(covid_data_frame)\n",
    "str(covid_data_frame)"
   ]
  },
  {
   "cell_type": "markdown",
   "metadata": {},
   "source": [
    "After pre-processing, you can see the columns and columns names are simplified, and columns types are converted into correct types.\n"
   ]
  },
  {
   "cell_type": "markdown",
   "metadata": {},
   "source": [
    "The data frame has following columns:\n",
    "\n",
    "- **country** - The name of the country\n",
    "- **date** - Reported date\n",
    "- **tested** - Total tested cases by the reported date\n",
    "- **confirmed** - Total confirmed cases by the reported date\n",
    "- **confirmed.tested.ratio** - The ratio of confirmed cases to the tested cases\n",
    "- **tested.population.ratio** - The ratio of tested cases to the population of the country\n",
    "- **confirmed.population.ratio** - The ratio of confirmed cases to the population of the country\n"
   ]
  },
  {
   "cell_type": "markdown",
   "metadata": {},
   "source": [
    "OK, we can call `write.csv()` function to save the csv file into a file. \n"
   ]
  },
  {
   "cell_type": "code",
   "execution_count": 23,
   "metadata": {},
   "outputs": [],
   "source": [
    "# Export the data frame to a csv file\n",
    "write.csv(covid_data_frame, file = \"covid.csv\", row.names = FALSE)"
   ]
  },
  {
   "cell_type": "markdown",
   "metadata": {},
   "source": [
    "Note for IBM Waston Studio, there is no traditional \"hard disk\" associated with a R workspace.\n",
    "\n",
    "Even if you call `write.csv()` method to save the data frame as a csv file, it won't be shown in IBM Cloud Object Storage asset UI automatically.\n",
    "\n",
    "However, you may still check if the `covid.csv` exists using following code snippet:\n"
   ]
  },
  {
   "cell_type": "code",
   "execution_count": 24,
   "metadata": {},
   "outputs": [
    {
     "name": "stdout",
     "output_type": "stream",
     "text": [
      "[1] \"/resources/RP0101EN/v2/M5_Final/covid.csv\"\n"
     ]
    },
    {
     "data": {
      "text/html": [
       "TRUE"
      ],
      "text/latex": [
       "TRUE"
      ],
      "text/markdown": [
       "TRUE"
      ],
      "text/plain": [
       "[1] TRUE"
      ]
     },
     "metadata": {},
     "output_type": "display_data"
    }
   ],
   "source": [
    "# Get working directory\n",
    "wd <- getwd()\n",
    "# Get exported \n",
    "file_path <- paste(wd, sep=\"\", \"/covid.csv\")\n",
    "# File path\n",
    "print(file_path)\n",
    "file.exists(file_path)"
   ]
  },
  {
   "cell_type": "markdown",
   "metadata": {},
   "source": [
    "**Optional Step**: If you have difficulties finishing above webscraping tasks, you may still continue with next tasks by downloading a provided csv file from here:\n"
   ]
  },
  {
   "cell_type": "code",
   "execution_count": null,
   "metadata": {},
   "outputs": [],
   "source": [
    "## Download a sample csv file\n",
    "# covid_csv_file <- download.file(\"https://cf-courses-data.s3.us.cloud-object-storage.appdomain.cloud/IBMDeveloperSkillsNetwork-RP0101EN-Coursera/v2/dataset/covid.csv\", destfile=\"covid.csv\")\n",
    "# covid_data_frame_csv <- read.csv(\"covid.csv\", header=TRUE, sep=\",\")"
   ]
  },
  {
   "cell_type": "markdown",
   "metadata": {},
   "source": [
    "## TASK 4: Get a subset of the extracted data frame\n",
    "\n",
    "The goal of task 4 is to get the 5th to 10th rows from the data frame with only `country` and `confirmed` columns selected\n"
   ]
  },
  {
   "cell_type": "code",
   "execution_count": 25,
   "metadata": {},
   "outputs": [
    {
     "data": {
      "text/html": [
       "<table class=\"dataframe\">\n",
       "<caption>A data.frame: 6 × 8</caption>\n",
       "<thead>\n",
       "\t<tr><th></th><th scope=col>country</th><th scope=col>Date.a.</th><th scope=col>tested</th><th scope=col>Units.b.</th><th scope=col>Confirmed.cases.</th><th scope=col>Confirmed..tested..</th><th scope=col>Tested..population..</th><th scope=col>Confirmed..population..</th></tr>\n",
       "\t<tr><th></th><th scope=col>&lt;chr&gt;</th><th scope=col>&lt;chr&gt;</th><th scope=col>&lt;dbl&gt;</th><th scope=col>&lt;chr&gt;</th><th scope=col>&lt;chr&gt;</th><th scope=col>&lt;dbl&gt;</th><th scope=col>&lt;chr&gt;</th><th scope=col>&lt;dbl&gt;</th></tr>\n",
       "</thead>\n",
       "<tbody>\n",
       "\t<tr><th scope=row>1</th><td>Afghanistan        </td><td>17 Dec 2020</td><td>154767</td><td>samples</td><td>49,621</td><td>32.1</td><td>0.40</td><td> 0.130</td></tr>\n",
       "\t<tr><th scope=row>2</th><td>Albania            </td><td>18 Feb 2021</td><td>428654</td><td>samples</td><td>96,838</td><td>22.6</td><td>15.0</td><td> 3.400</td></tr>\n",
       "\t<tr><th scope=row>3</th><td>Algeria            </td><td>2 Nov 2020 </td><td>230553</td><td>samples</td><td>58,574</td><td>25.4</td><td>0.53</td><td> 0.130</td></tr>\n",
       "\t<tr><th scope=row>4</th><td>Andorra            </td><td>23 Feb 2022</td><td>300307</td><td>samples</td><td>37,958</td><td>12.6</td><td>387 </td><td>49.000</td></tr>\n",
       "\t<tr><th scope=row>5</th><td>Angola             </td><td>2 Feb 2021 </td><td>399228</td><td>samples</td><td>20,981</td><td> 5.3</td><td>1.3 </td><td> 0.067</td></tr>\n",
       "\t<tr><th scope=row>6</th><td>Antigua and Barbuda</td><td>6 Mar 2021 </td><td> 15268</td><td>samples</td><td>832   </td><td> 5.4</td><td>15.9</td><td> 0.860</td></tr>\n",
       "</tbody>\n",
       "</table>\n"
      ],
      "text/latex": [
       "A data.frame: 6 × 8\n",
       "\\begin{tabular}{r|llllllll}\n",
       "  & country & Date.a. & tested & Units.b. & Confirmed.cases. & Confirmed..tested.. & Tested..population.. & Confirmed..population..\\\\\n",
       "  & <chr> & <chr> & <dbl> & <chr> & <chr> & <dbl> & <chr> & <dbl>\\\\\n",
       "\\hline\n",
       "\t1 & Afghanistan         & 17 Dec 2020 & 154767 & samples & 49,621 & 32.1 & 0.40 &  0.130\\\\\n",
       "\t2 & Albania             & 18 Feb 2021 & 428654 & samples & 96,838 & 22.6 & 15.0 &  3.400\\\\\n",
       "\t3 & Algeria             & 2 Nov 2020  & 230553 & samples & 58,574 & 25.4 & 0.53 &  0.130\\\\\n",
       "\t4 & Andorra             & 23 Feb 2022 & 300307 & samples & 37,958 & 12.6 & 387  & 49.000\\\\\n",
       "\t5 & Angola              & 2 Feb 2021  & 399228 & samples & 20,981 &  5.3 & 1.3  &  0.067\\\\\n",
       "\t6 & Antigua and Barbuda & 6 Mar 2021  &  15268 & samples & 832    &  5.4 & 15.9 &  0.860\\\\\n",
       "\\end{tabular}\n"
      ],
      "text/markdown": [
       "\n",
       "A data.frame: 6 × 8\n",
       "\n",
       "| <!--/--> | country &lt;chr&gt; | Date.a. &lt;chr&gt; | tested &lt;dbl&gt; | Units.b. &lt;chr&gt; | Confirmed.cases. &lt;chr&gt; | Confirmed..tested.. &lt;dbl&gt; | Tested..population.. &lt;chr&gt; | Confirmed..population.. &lt;dbl&gt; |\n",
       "|---|---|---|---|---|---|---|---|---|\n",
       "| 1 | Afghanistan         | 17 Dec 2020 | 154767 | samples | 49,621 | 32.1 | 0.40 |  0.130 |\n",
       "| 2 | Albania             | 18 Feb 2021 | 428654 | samples | 96,838 | 22.6 | 15.0 |  3.400 |\n",
       "| 3 | Algeria             | 2 Nov 2020  | 230553 | samples | 58,574 | 25.4 | 0.53 |  0.130 |\n",
       "| 4 | Andorra             | 23 Feb 2022 | 300307 | samples | 37,958 | 12.6 | 387  | 49.000 |\n",
       "| 5 | Angola              | 2 Feb 2021  | 399228 | samples | 20,981 |  5.3 | 1.3  |  0.067 |\n",
       "| 6 | Antigua and Barbuda | 6 Mar 2021  |  15268 | samples | 832    |  5.4 | 15.9 |  0.860 |\n",
       "\n"
      ],
      "text/plain": [
       "  country             Date.a.     tested Units.b. Confirmed.cases.\n",
       "1 Afghanistan         17 Dec 2020 154767 samples  49,621          \n",
       "2 Albania             18 Feb 2021 428654 samples  96,838          \n",
       "3 Algeria             2 Nov 2020  230553 samples  58,574          \n",
       "4 Andorra             23 Feb 2022 300307 samples  37,958          \n",
       "5 Angola              2 Feb 2021  399228 samples  20,981          \n",
       "6 Antigua and Barbuda 6 Mar 2021   15268 samples  832             \n",
       "  Confirmed..tested.. Tested..population.. Confirmed..population..\n",
       "1 32.1                0.40                  0.130                 \n",
       "2 22.6                15.0                  3.400                 \n",
       "3 25.4                0.53                  0.130                 \n",
       "4 12.6                387                  49.000                 \n",
       "5  5.3                1.3                   0.067                 \n",
       "6  5.4                15.9                  0.860                 "
      ]
     },
     "metadata": {},
     "output_type": "display_data"
    }
   ],
   "source": [
    "# Read covid_data_frame_csv from the csv file\n",
    "\n",
    "# Get the 5th to 10th rows, with two \"country\" \"confirmed\" columns\n",
    "covid_data_frame_csv <- read.csv(\"covid.csv\", header = TRUE, sep = \",\", stringsAsFactors = FALSE)\n",
    "head(covid_data_frame_csv)"
   ]
  },
  {
   "cell_type": "markdown",
   "metadata": {},
   "source": [
    "## TASK 5: Calculate worldwide COVID testing positive ratio\n",
    "\n",
    "The goal of task 5 is to get the total confirmed and tested cases worldwide, and try to figure the overall positive ratio using `confirmed cases / tested cases`\n"
   ]
  },
  {
   "cell_type": "code",
   "execution_count": 26,
   "metadata": {},
   "outputs": [
    {
     "data": {
      "text/html": [
       "0"
      ],
      "text/latex": [
       "0"
      ],
      "text/markdown": [
       "0"
      ],
      "text/plain": [
       "[1] 0"
      ]
     },
     "metadata": {},
     "output_type": "display_data"
    },
    {
     "data": {
      "text/html": [
       "5396881644"
      ],
      "text/latex": [
       "5396881644"
      ],
      "text/markdown": [
       "5396881644"
      ],
      "text/plain": [
       "[1] 5396881644"
      ]
     },
     "metadata": {},
     "output_type": "display_data"
    },
    {
     "data": {
      "text/html": [
       "0"
      ],
      "text/latex": [
       "0"
      ],
      "text/markdown": [
       "0"
      ],
      "text/plain": [
       "[1] 0"
      ]
     },
     "metadata": {},
     "output_type": "display_data"
    }
   ],
   "source": [
    "# Get the total confirmed cases worldwide\n",
    "total_confirmed <- sum(covid_data_frame_csv$confirmed, na.rm = TRUE)\n",
    "# Get the total tested cases worldwide\n",
    "total_tested <- sum(covid_data_frame_csv$tested, na.rm = TRUE)\n",
    "# Get the positive ratio (confirmed / tested)\n",
    "world_positive_ratio <- ifelse(total_tested > 0, total_confirmed / total_tested, NA_real_)\n",
    "\n",
    "total_confirmed\n",
    "total_tested\n",
    "world_positive_ratio\n"
   ]
  },
  {
   "cell_type": "markdown",
   "metadata": {},
   "source": [
    "## TASK 6: Get a country list which reported their testing data \n",
    "\n",
    "The goal of task 6 is to get a catalog or sorted list of countries who have reported their COVID-19 testing data\n"
   ]
  },
  {
   "cell_type": "code",
   "execution_count": 27,
   "metadata": {},
   "outputs": [
    {
     "data": {
      "text/html": [
       "'character'"
      ],
      "text/latex": [
       "'character'"
      ],
      "text/markdown": [
       "'character'"
      ],
      "text/plain": [
       "[1] \"character\""
      ]
     },
     "metadata": {},
     "output_type": "display_data"
    },
    {
     "data": {
      "text/html": [
       "<style>\n",
       ".list-inline {list-style: none; margin:0; padding: 0}\n",
       ".list-inline>li {display: inline-block}\n",
       ".list-inline>li:not(:last-child)::after {content: \"\\00b7\"; padding: 0 .5ex}\n",
       "</style>\n",
       "<ol class=list-inline><li>'Zimbabwe'</li><li>'Zambia'</li><li>'Vietnam'</li><li>'Venezuela'</li><li>'Uzbekistan'</li><li>'Uruguay'</li><li>'United States'</li><li>'United Kingdom'</li><li>'United Arab Emirates'</li><li>'Ukraine'</li><li>'Uganda'</li><li>'Turkey'</li><li>'Tunisia'</li><li>'Trinidad and Tobago'</li><li>'Togo'</li><li>'Thailand'</li><li>'Tanzania'</li><li>'Taiwan[m]'</li><li>'Switzerland[l]'</li><li>'Sweden'</li><li>'Sudan'</li><li>'Sri Lanka'</li><li>'Spain'</li><li>'South Sudan'</li><li>'South Korea'</li><li>'South Africa'</li><li>'Slovenia'</li><li>'Slovakia'</li><li>'Singapore'</li><li>'Serbia'</li><li>'Senegal'</li><li>'Saudi Arabia'</li><li>'San Marino'</li><li>'Saint Vincent'</li><li>'Saint Lucia'</li><li>'Saint Kitts and Nevis'</li><li>'Rwanda'</li><li>'Russia'</li><li>'Romania'</li><li>'Qatar'</li><li>'Portugal'</li><li>'Poland'</li><li>'Philippines'</li><li>'Peru'</li><li>'Paraguay'</li><li>'Papua New Guinea'</li><li>'Panama'</li><li>'Palestine'</li><li>'Pakistan'</li><li>'Oman'</li><li>'Norway'</li><li>'Northern Cyprus[k]'</li><li>'North Macedonia'</li><li>'North Korea'</li><li>'Nigeria'</li><li>'Niger'</li><li>'New Zealand'</li><li>'New Caledonia'</li><li>'Netherlands'</li><li>'Nepal'</li><li>'Namibia'</li><li>'Myanmar'</li><li>'Mozambique'</li><li>'Morocco'</li><li>'Montenegro'</li><li>'Mongolia'</li><li>'Moldova[j]'</li><li>'Mexico'</li><li>'Mauritius'</li><li>'Mauritania'</li><li>'Malta'</li><li>'Mali'</li><li>'Maldives'</li><li>'Malaysia'</li><li>'Malawi'</li><li>'Madagascar'</li><li>'Luxembourg[i]'</li><li>'Lithuania'</li><li>'Libya'</li><li>'Liberia'</li><li>'Lesotho'</li><li>'Lebanon'</li><li>'Latvia'</li><li>'Laos'</li><li>'Kyrgyzstan'</li><li>'Kuwait'</li><li>'Kosovo'</li><li>'Kenya'</li><li>'Kazakhstan'</li><li>'Jordan'</li><li>'Japan'</li><li>'Jamaica'</li><li>'Ivory Coast'</li><li>'Italy'</li><li>'Israel'</li><li>'Ireland'</li><li>'Iraq'</li><li>'Iran'</li><li>'Indonesia'</li><li>'India'</li><li>'Iceland'</li><li>'Hungary'</li><li>'Honduras'</li><li>'Haiti'</li><li>'Guyana'</li><li>'Guinea-Bissau'</li><li>'Guinea'</li><li>'Guatemala'</li><li>'Grenada'</li><li>'Greenland'</li><li>'Greece'</li><li>'Ghana'</li><li>'Germany'</li><li>'Georgia[h]'</li><li>'Gambia'</li><li>'Gabon'</li><li>'France[f][g]'</li><li>'Finland'</li><li>'Fiji'</li><li>'Faroe Islands'</li><li>'Ethiopia'</li><li>'Eswatini'</li><li>'Estonia'</li><li>'Equatorial Guinea'</li><li>'El Salvador'</li><li>'Egypt'</li><li>'Ecuador'</li><li>'DR Congo'</li><li>'Dominican Republic'</li><li>'Dominica'</li><li>'Djibouti'</li><li>'Denmark[e]'</li><li>'Czechia'</li><li>'Cyprus[d]'</li><li>'Cuba'</li><li>'Croatia'</li><li>'Costa Rica'</li><li>'Colombia'</li><li>'China[c]'</li><li>'Chile'</li><li>'Chad'</li><li>'Canada'</li><li>'Cameroon'</li><li>'Cambodia'</li><li>'Burundi'</li><li>'Burkina Faso'</li><li>'Bulgaria'</li><li>'Brunei'</li><li>'Brazil'</li><li>'Botswana'</li><li>'Bosnia and Herzegovina'</li><li>'Bolivia'</li><li>'Bhutan'</li><li>'Benin'</li><li>'Belize'</li><li>'Belgium'</li><li>'Belarus'</li><li>'Barbados'</li><li>'Bangladesh'</li><li>'Bahrain'</li><li>'Bahamas'</li><li>'Azerbaijan'</li><li>'Austria'</li><li>'Australia'</li><li>'Armenia'</li><li>'Argentina'</li><li>'Antigua and Barbuda'</li><li>'Angola'</li><li>'Andorra'</li><li>'Algeria'</li><li>'Albania'</li><li>'Afghanistan'</li></ol>\n"
      ],
      "text/latex": [
       "\\begin{enumerate*}\n",
       "\\item 'Zimbabwe'\n",
       "\\item 'Zambia'\n",
       "\\item 'Vietnam'\n",
       "\\item 'Venezuela'\n",
       "\\item 'Uzbekistan'\n",
       "\\item 'Uruguay'\n",
       "\\item 'United States'\n",
       "\\item 'United Kingdom'\n",
       "\\item 'United Arab Emirates'\n",
       "\\item 'Ukraine'\n",
       "\\item 'Uganda'\n",
       "\\item 'Turkey'\n",
       "\\item 'Tunisia'\n",
       "\\item 'Trinidad and Tobago'\n",
       "\\item 'Togo'\n",
       "\\item 'Thailand'\n",
       "\\item 'Tanzania'\n",
       "\\item 'Taiwan{[}m{]}'\n",
       "\\item 'Switzerland{[}l{]}'\n",
       "\\item 'Sweden'\n",
       "\\item 'Sudan'\n",
       "\\item 'Sri Lanka'\n",
       "\\item 'Spain'\n",
       "\\item 'South Sudan'\n",
       "\\item 'South Korea'\n",
       "\\item 'South Africa'\n",
       "\\item 'Slovenia'\n",
       "\\item 'Slovakia'\n",
       "\\item 'Singapore'\n",
       "\\item 'Serbia'\n",
       "\\item 'Senegal'\n",
       "\\item 'Saudi Arabia'\n",
       "\\item 'San Marino'\n",
       "\\item 'Saint Vincent'\n",
       "\\item 'Saint Lucia'\n",
       "\\item 'Saint Kitts and Nevis'\n",
       "\\item 'Rwanda'\n",
       "\\item 'Russia'\n",
       "\\item 'Romania'\n",
       "\\item 'Qatar'\n",
       "\\item 'Portugal'\n",
       "\\item 'Poland'\n",
       "\\item 'Philippines'\n",
       "\\item 'Peru'\n",
       "\\item 'Paraguay'\n",
       "\\item 'Papua New Guinea'\n",
       "\\item 'Panama'\n",
       "\\item 'Palestine'\n",
       "\\item 'Pakistan'\n",
       "\\item 'Oman'\n",
       "\\item 'Norway'\n",
       "\\item 'Northern Cyprus{[}k{]}'\n",
       "\\item 'North Macedonia'\n",
       "\\item 'North Korea'\n",
       "\\item 'Nigeria'\n",
       "\\item 'Niger'\n",
       "\\item 'New Zealand'\n",
       "\\item 'New Caledonia'\n",
       "\\item 'Netherlands'\n",
       "\\item 'Nepal'\n",
       "\\item 'Namibia'\n",
       "\\item 'Myanmar'\n",
       "\\item 'Mozambique'\n",
       "\\item 'Morocco'\n",
       "\\item 'Montenegro'\n",
       "\\item 'Mongolia'\n",
       "\\item 'Moldova{[}j{]}'\n",
       "\\item 'Mexico'\n",
       "\\item 'Mauritius'\n",
       "\\item 'Mauritania'\n",
       "\\item 'Malta'\n",
       "\\item 'Mali'\n",
       "\\item 'Maldives'\n",
       "\\item 'Malaysia'\n",
       "\\item 'Malawi'\n",
       "\\item 'Madagascar'\n",
       "\\item 'Luxembourg{[}i{]}'\n",
       "\\item 'Lithuania'\n",
       "\\item 'Libya'\n",
       "\\item 'Liberia'\n",
       "\\item 'Lesotho'\n",
       "\\item 'Lebanon'\n",
       "\\item 'Latvia'\n",
       "\\item 'Laos'\n",
       "\\item 'Kyrgyzstan'\n",
       "\\item 'Kuwait'\n",
       "\\item 'Kosovo'\n",
       "\\item 'Kenya'\n",
       "\\item 'Kazakhstan'\n",
       "\\item 'Jordan'\n",
       "\\item 'Japan'\n",
       "\\item 'Jamaica'\n",
       "\\item 'Ivory Coast'\n",
       "\\item 'Italy'\n",
       "\\item 'Israel'\n",
       "\\item 'Ireland'\n",
       "\\item 'Iraq'\n",
       "\\item 'Iran'\n",
       "\\item 'Indonesia'\n",
       "\\item 'India'\n",
       "\\item 'Iceland'\n",
       "\\item 'Hungary'\n",
       "\\item 'Honduras'\n",
       "\\item 'Haiti'\n",
       "\\item 'Guyana'\n",
       "\\item 'Guinea-Bissau'\n",
       "\\item 'Guinea'\n",
       "\\item 'Guatemala'\n",
       "\\item 'Grenada'\n",
       "\\item 'Greenland'\n",
       "\\item 'Greece'\n",
       "\\item 'Ghana'\n",
       "\\item 'Germany'\n",
       "\\item 'Georgia{[}h{]}'\n",
       "\\item 'Gambia'\n",
       "\\item 'Gabon'\n",
       "\\item 'France{[}f{]}{[}g{]}'\n",
       "\\item 'Finland'\n",
       "\\item 'Fiji'\n",
       "\\item 'Faroe Islands'\n",
       "\\item 'Ethiopia'\n",
       "\\item 'Eswatini'\n",
       "\\item 'Estonia'\n",
       "\\item 'Equatorial Guinea'\n",
       "\\item 'El Salvador'\n",
       "\\item 'Egypt'\n",
       "\\item 'Ecuador'\n",
       "\\item 'DR Congo'\n",
       "\\item 'Dominican Republic'\n",
       "\\item 'Dominica'\n",
       "\\item 'Djibouti'\n",
       "\\item 'Denmark{[}e{]}'\n",
       "\\item 'Czechia'\n",
       "\\item 'Cyprus{[}d{]}'\n",
       "\\item 'Cuba'\n",
       "\\item 'Croatia'\n",
       "\\item 'Costa Rica'\n",
       "\\item 'Colombia'\n",
       "\\item 'China{[}c{]}'\n",
       "\\item 'Chile'\n",
       "\\item 'Chad'\n",
       "\\item 'Canada'\n",
       "\\item 'Cameroon'\n",
       "\\item 'Cambodia'\n",
       "\\item 'Burundi'\n",
       "\\item 'Burkina Faso'\n",
       "\\item 'Bulgaria'\n",
       "\\item 'Brunei'\n",
       "\\item 'Brazil'\n",
       "\\item 'Botswana'\n",
       "\\item 'Bosnia and Herzegovina'\n",
       "\\item 'Bolivia'\n",
       "\\item 'Bhutan'\n",
       "\\item 'Benin'\n",
       "\\item 'Belize'\n",
       "\\item 'Belgium'\n",
       "\\item 'Belarus'\n",
       "\\item 'Barbados'\n",
       "\\item 'Bangladesh'\n",
       "\\item 'Bahrain'\n",
       "\\item 'Bahamas'\n",
       "\\item 'Azerbaijan'\n",
       "\\item 'Austria'\n",
       "\\item 'Australia'\n",
       "\\item 'Armenia'\n",
       "\\item 'Argentina'\n",
       "\\item 'Antigua and Barbuda'\n",
       "\\item 'Angola'\n",
       "\\item 'Andorra'\n",
       "\\item 'Algeria'\n",
       "\\item 'Albania'\n",
       "\\item 'Afghanistan'\n",
       "\\end{enumerate*}\n"
      ],
      "text/markdown": [
       "1. 'Zimbabwe'\n",
       "2. 'Zambia'\n",
       "3. 'Vietnam'\n",
       "4. 'Venezuela'\n",
       "5. 'Uzbekistan'\n",
       "6. 'Uruguay'\n",
       "7. 'United States'\n",
       "8. 'United Kingdom'\n",
       "9. 'United Arab Emirates'\n",
       "10. 'Ukraine'\n",
       "11. 'Uganda'\n",
       "12. 'Turkey'\n",
       "13. 'Tunisia'\n",
       "14. 'Trinidad and Tobago'\n",
       "15. 'Togo'\n",
       "16. 'Thailand'\n",
       "17. 'Tanzania'\n",
       "18. 'Taiwan[m]'\n",
       "19. 'Switzerland[l]'\n",
       "20. 'Sweden'\n",
       "21. 'Sudan'\n",
       "22. 'Sri Lanka'\n",
       "23. 'Spain'\n",
       "24. 'South Sudan'\n",
       "25. 'South Korea'\n",
       "26. 'South Africa'\n",
       "27. 'Slovenia'\n",
       "28. 'Slovakia'\n",
       "29. 'Singapore'\n",
       "30. 'Serbia'\n",
       "31. 'Senegal'\n",
       "32. 'Saudi Arabia'\n",
       "33. 'San Marino'\n",
       "34. 'Saint Vincent'\n",
       "35. 'Saint Lucia'\n",
       "36. 'Saint Kitts and Nevis'\n",
       "37. 'Rwanda'\n",
       "38. 'Russia'\n",
       "39. 'Romania'\n",
       "40. 'Qatar'\n",
       "41. 'Portugal'\n",
       "42. 'Poland'\n",
       "43. 'Philippines'\n",
       "44. 'Peru'\n",
       "45. 'Paraguay'\n",
       "46. 'Papua New Guinea'\n",
       "47. 'Panama'\n",
       "48. 'Palestine'\n",
       "49. 'Pakistan'\n",
       "50. 'Oman'\n",
       "51. 'Norway'\n",
       "52. 'Northern Cyprus[k]'\n",
       "53. 'North Macedonia'\n",
       "54. 'North Korea'\n",
       "55. 'Nigeria'\n",
       "56. 'Niger'\n",
       "57. 'New Zealand'\n",
       "58. 'New Caledonia'\n",
       "59. 'Netherlands'\n",
       "60. 'Nepal'\n",
       "61. 'Namibia'\n",
       "62. 'Myanmar'\n",
       "63. 'Mozambique'\n",
       "64. 'Morocco'\n",
       "65. 'Montenegro'\n",
       "66. 'Mongolia'\n",
       "67. 'Moldova[j]'\n",
       "68. 'Mexico'\n",
       "69. 'Mauritius'\n",
       "70. 'Mauritania'\n",
       "71. 'Malta'\n",
       "72. 'Mali'\n",
       "73. 'Maldives'\n",
       "74. 'Malaysia'\n",
       "75. 'Malawi'\n",
       "76. 'Madagascar'\n",
       "77. 'Luxembourg[i]'\n",
       "78. 'Lithuania'\n",
       "79. 'Libya'\n",
       "80. 'Liberia'\n",
       "81. 'Lesotho'\n",
       "82. 'Lebanon'\n",
       "83. 'Latvia'\n",
       "84. 'Laos'\n",
       "85. 'Kyrgyzstan'\n",
       "86. 'Kuwait'\n",
       "87. 'Kosovo'\n",
       "88. 'Kenya'\n",
       "89. 'Kazakhstan'\n",
       "90. 'Jordan'\n",
       "91. 'Japan'\n",
       "92. 'Jamaica'\n",
       "93. 'Ivory Coast'\n",
       "94. 'Italy'\n",
       "95. 'Israel'\n",
       "96. 'Ireland'\n",
       "97. 'Iraq'\n",
       "98. 'Iran'\n",
       "99. 'Indonesia'\n",
       "100. 'India'\n",
       "101. 'Iceland'\n",
       "102. 'Hungary'\n",
       "103. 'Honduras'\n",
       "104. 'Haiti'\n",
       "105. 'Guyana'\n",
       "106. 'Guinea-Bissau'\n",
       "107. 'Guinea'\n",
       "108. 'Guatemala'\n",
       "109. 'Grenada'\n",
       "110. 'Greenland'\n",
       "111. 'Greece'\n",
       "112. 'Ghana'\n",
       "113. 'Germany'\n",
       "114. 'Georgia[h]'\n",
       "115. 'Gambia'\n",
       "116. 'Gabon'\n",
       "117. 'France[f][g]'\n",
       "118. 'Finland'\n",
       "119. 'Fiji'\n",
       "120. 'Faroe Islands'\n",
       "121. 'Ethiopia'\n",
       "122. 'Eswatini'\n",
       "123. 'Estonia'\n",
       "124. 'Equatorial Guinea'\n",
       "125. 'El Salvador'\n",
       "126. 'Egypt'\n",
       "127. 'Ecuador'\n",
       "128. 'DR Congo'\n",
       "129. 'Dominican Republic'\n",
       "130. 'Dominica'\n",
       "131. 'Djibouti'\n",
       "132. 'Denmark[e]'\n",
       "133. 'Czechia'\n",
       "134. 'Cyprus[d]'\n",
       "135. 'Cuba'\n",
       "136. 'Croatia'\n",
       "137. 'Costa Rica'\n",
       "138. 'Colombia'\n",
       "139. 'China[c]'\n",
       "140. 'Chile'\n",
       "141. 'Chad'\n",
       "142. 'Canada'\n",
       "143. 'Cameroon'\n",
       "144. 'Cambodia'\n",
       "145. 'Burundi'\n",
       "146. 'Burkina Faso'\n",
       "147. 'Bulgaria'\n",
       "148. 'Brunei'\n",
       "149. 'Brazil'\n",
       "150. 'Botswana'\n",
       "151. 'Bosnia and Herzegovina'\n",
       "152. 'Bolivia'\n",
       "153. 'Bhutan'\n",
       "154. 'Benin'\n",
       "155. 'Belize'\n",
       "156. 'Belgium'\n",
       "157. 'Belarus'\n",
       "158. 'Barbados'\n",
       "159. 'Bangladesh'\n",
       "160. 'Bahrain'\n",
       "161. 'Bahamas'\n",
       "162. 'Azerbaijan'\n",
       "163. 'Austria'\n",
       "164. 'Australia'\n",
       "165. 'Armenia'\n",
       "166. 'Argentina'\n",
       "167. 'Antigua and Barbuda'\n",
       "168. 'Angola'\n",
       "169. 'Andorra'\n",
       "170. 'Algeria'\n",
       "171. 'Albania'\n",
       "172. 'Afghanistan'\n",
       "\n",
       "\n"
      ],
      "text/plain": [
       "  [1] \"Zimbabwe\"               \"Zambia\"                 \"Vietnam\"               \n",
       "  [4] \"Venezuela\"              \"Uzbekistan\"             \"Uruguay\"               \n",
       "  [7] \"United States\"          \"United Kingdom\"         \"United Arab Emirates\"  \n",
       " [10] \"Ukraine\"                \"Uganda\"                 \"Turkey\"                \n",
       " [13] \"Tunisia\"                \"Trinidad and Tobago\"    \"Togo\"                  \n",
       " [16] \"Thailand\"               \"Tanzania\"               \"Taiwan[m]\"             \n",
       " [19] \"Switzerland[l]\"         \"Sweden\"                 \"Sudan\"                 \n",
       " [22] \"Sri Lanka\"              \"Spain\"                  \"South Sudan\"           \n",
       " [25] \"South Korea\"            \"South Africa\"           \"Slovenia\"              \n",
       " [28] \"Slovakia\"               \"Singapore\"              \"Serbia\"                \n",
       " [31] \"Senegal\"                \"Saudi Arabia\"           \"San Marino\"            \n",
       " [34] \"Saint Vincent\"          \"Saint Lucia\"            \"Saint Kitts and Nevis\" \n",
       " [37] \"Rwanda\"                 \"Russia\"                 \"Romania\"               \n",
       " [40] \"Qatar\"                  \"Portugal\"               \"Poland\"                \n",
       " [43] \"Philippines\"            \"Peru\"                   \"Paraguay\"              \n",
       " [46] \"Papua New Guinea\"       \"Panama\"                 \"Palestine\"             \n",
       " [49] \"Pakistan\"               \"Oman\"                   \"Norway\"                \n",
       " [52] \"Northern Cyprus[k]\"     \"North Macedonia\"        \"North Korea\"           \n",
       " [55] \"Nigeria\"                \"Niger\"                  \"New Zealand\"           \n",
       " [58] \"New Caledonia\"          \"Netherlands\"            \"Nepal\"                 \n",
       " [61] \"Namibia\"                \"Myanmar\"                \"Mozambique\"            \n",
       " [64] \"Morocco\"                \"Montenegro\"             \"Mongolia\"              \n",
       " [67] \"Moldova[j]\"             \"Mexico\"                 \"Mauritius\"             \n",
       " [70] \"Mauritania\"             \"Malta\"                  \"Mali\"                  \n",
       " [73] \"Maldives\"               \"Malaysia\"               \"Malawi\"                \n",
       " [76] \"Madagascar\"             \"Luxembourg[i]\"          \"Lithuania\"             \n",
       " [79] \"Libya\"                  \"Liberia\"                \"Lesotho\"               \n",
       " [82] \"Lebanon\"                \"Latvia\"                 \"Laos\"                  \n",
       " [85] \"Kyrgyzstan\"             \"Kuwait\"                 \"Kosovo\"                \n",
       " [88] \"Kenya\"                  \"Kazakhstan\"             \"Jordan\"                \n",
       " [91] \"Japan\"                  \"Jamaica\"                \"Ivory Coast\"           \n",
       " [94] \"Italy\"                  \"Israel\"                 \"Ireland\"               \n",
       " [97] \"Iraq\"                   \"Iran\"                   \"Indonesia\"             \n",
       "[100] \"India\"                  \"Iceland\"                \"Hungary\"               \n",
       "[103] \"Honduras\"               \"Haiti\"                  \"Guyana\"                \n",
       "[106] \"Guinea-Bissau\"          \"Guinea\"                 \"Guatemala\"             \n",
       "[109] \"Grenada\"                \"Greenland\"              \"Greece\"                \n",
       "[112] \"Ghana\"                  \"Germany\"                \"Georgia[h]\"            \n",
       "[115] \"Gambia\"                 \"Gabon\"                  \"France[f][g]\"          \n",
       "[118] \"Finland\"                \"Fiji\"                   \"Faroe Islands\"         \n",
       "[121] \"Ethiopia\"               \"Eswatini\"               \"Estonia\"               \n",
       "[124] \"Equatorial Guinea\"      \"El Salvador\"            \"Egypt\"                 \n",
       "[127] \"Ecuador\"                \"DR Congo\"               \"Dominican Republic\"    \n",
       "[130] \"Dominica\"               \"Djibouti\"               \"Denmark[e]\"            \n",
       "[133] \"Czechia\"                \"Cyprus[d]\"              \"Cuba\"                  \n",
       "[136] \"Croatia\"                \"Costa Rica\"             \"Colombia\"              \n",
       "[139] \"China[c]\"               \"Chile\"                  \"Chad\"                  \n",
       "[142] \"Canada\"                 \"Cameroon\"               \"Cambodia\"              \n",
       "[145] \"Burundi\"                \"Burkina Faso\"           \"Bulgaria\"              \n",
       "[148] \"Brunei\"                 \"Brazil\"                 \"Botswana\"              \n",
       "[151] \"Bosnia and Herzegovina\" \"Bolivia\"                \"Bhutan\"                \n",
       "[154] \"Benin\"                  \"Belize\"                 \"Belgium\"               \n",
       "[157] \"Belarus\"                \"Barbados\"               \"Bangladesh\"            \n",
       "[160] \"Bahrain\"                \"Bahamas\"                \"Azerbaijan\"            \n",
       "[163] \"Austria\"                \"Australia\"              \"Armenia\"               \n",
       "[166] \"Argentina\"              \"Antigua and Barbuda\"    \"Angola\"                \n",
       "[169] \"Andorra\"                \"Algeria\"                \"Albania\"               \n",
       "[172] \"Afghanistan\"           "
      ]
     },
     "metadata": {},
     "output_type": "display_data"
    }
   ],
   "source": [
    "# Get the `country` column\n",
    "countries <- covid_data_frame_csv$country\n",
    "\n",
    "# Check its class (should be Factor or character)\n",
    "class(countries)\n",
    "\n",
    "# Sort the countries AtoZ\n",
    "countries_sorted_AtoZ <- sort(unique(as.character(countries)), decreasing = FALSE)\n",
    "\n",
    "# Sort the countries ZtoA\n",
    "countries_sorted_ZtoA <- sort(unique(as.character(countries)), decreasing = TRUE)\n",
    "\n",
    "# Print the sorted ZtoA list\n",
    "countries_sorted_ZtoA\n"
   ]
  },
  {
   "cell_type": "markdown",
   "metadata": {},
   "source": [
    "## TASK 7: Identify countries names with a specific pattern\n",
    "\n",
    "The goal of task 7 is using a regular expression to find any countires start with `United`\n"
   ]
  },
  {
   "cell_type": "code",
   "execution_count": 28,
   "metadata": {},
   "outputs": [
    {
     "data": {
      "text/html": [
       "<style>\n",
       ".list-inline {list-style: none; margin:0; padding: 0}\n",
       ".list-inline>li {display: inline-block}\n",
       ".list-inline>li:not(:last-child)::after {content: \"\\00b7\"; padding: 0 .5ex}\n",
       "</style>\n",
       "<ol class=list-inline><li>'United Arab Emirates'</li><li>'United Kingdom'</li><li>'United States'</li></ol>\n"
      ],
      "text/latex": [
       "\\begin{enumerate*}\n",
       "\\item 'United Arab Emirates'\n",
       "\\item 'United Kingdom'\n",
       "\\item 'United States'\n",
       "\\end{enumerate*}\n"
      ],
      "text/markdown": [
       "1. 'United Arab Emirates'\n",
       "2. 'United Kingdom'\n",
       "3. 'United States'\n",
       "\n",
       "\n"
      ],
      "text/plain": [
       "[1] \"United Arab Emirates\" \"United Kingdom\"       \"United States\"       "
      ]
     },
     "metadata": {},
     "output_type": "display_data"
    }
   ],
   "source": [
    "# Use a regular expression `United.+` to find matches\n",
    "countries_chr <- unique(as.character(covid_data_frame_csv$country))\n",
    "united_countries <- grep(\"^United.+\", countries_chr, value = TRUE)\n",
    "\n",
    "# Print the matched country names\n",
    "united_countries\n"
   ]
  },
  {
   "cell_type": "markdown",
   "metadata": {},
   "source": [
    "## TASK 8: Pick two countries you are interested, and then review their testing data\n",
    "\n",
    "The goal of task 8 is to compare the COVID-19 test data between two countires, you will need to select two rows from the dataframe, and select `country`, `confirmed`, `confirmed-population-ratio` columns\n"
   ]
  },
  {
   "cell_type": "code",
   "execution_count": 33,
   "metadata": {},
   "outputs": [
    {
     "data": {
      "text/html": [
       "<style>\n",
       ".list-inline {list-style: none; margin:0; padding: 0}\n",
       ".list-inline>li {display: inline-block}\n",
       ".list-inline>li:not(:last-child)::after {content: \"\\00b7\"; padding: 0 .5ex}\n",
       "</style>\n",
       "<ol class=list-inline><li>'country'</li><li>'Date.a.'</li><li>'tested'</li><li>'Units.b.'</li><li>'Confirmed.cases.'</li><li>'Confirmed..tested..'</li><li>'Tested..population..'</li><li>'Confirmed..population..'</li></ol>\n"
      ],
      "text/latex": [
       "\\begin{enumerate*}\n",
       "\\item 'country'\n",
       "\\item 'Date.a.'\n",
       "\\item 'tested'\n",
       "\\item 'Units.b.'\n",
       "\\item 'Confirmed.cases.'\n",
       "\\item 'Confirmed..tested..'\n",
       "\\item 'Tested..population..'\n",
       "\\item 'Confirmed..population..'\n",
       "\\end{enumerate*}\n"
      ],
      "text/markdown": [
       "1. 'country'\n",
       "2. 'Date.a.'\n",
       "3. 'tested'\n",
       "4. 'Units.b.'\n",
       "5. 'Confirmed.cases.'\n",
       "6. 'Confirmed..tested..'\n",
       "7. 'Tested..population..'\n",
       "8. 'Confirmed..population..'\n",
       "\n",
       "\n"
      ],
      "text/plain": [
       "[1] \"country\"                 \"Date.a.\"                \n",
       "[3] \"tested\"                  \"Units.b.\"               \n",
       "[5] \"Confirmed.cases.\"        \"Confirmed..tested..\"    \n",
       "[7] \"Tested..population..\"    \"Confirmed..population..\""
      ]
     },
     "metadata": {},
     "output_type": "display_data"
    },
    {
     "data": {
      "text/html": [
       "<table class=\"dataframe\">\n",
       "<caption>A data.frame: 2 × 3</caption>\n",
       "<thead>\n",
       "\t<tr><th></th><th scope=col>country</th><th scope=col>confirmed</th><th scope=col>confirmed.population.ratio</th></tr>\n",
       "\t<tr><th></th><th scope=col>&lt;chr&gt;</th><th scope=col>&lt;dbl&gt;</th><th scope=col>&lt;dbl&gt;</th></tr>\n",
       "</thead>\n",
       "<tbody>\n",
       "\t<tr><th scope=row>74</th><td>Indonesia</td><td>6812127</td><td>2.5</td></tr>\n",
       "\t<tr><th scope=row>144</th><td>Singapore</td><td>  65315</td><td>1.1</td></tr>\n",
       "</tbody>\n",
       "</table>\n"
      ],
      "text/latex": [
       "A data.frame: 2 × 3\n",
       "\\begin{tabular}{r|lll}\n",
       "  & country & confirmed & confirmed.population.ratio\\\\\n",
       "  & <chr> & <dbl> & <dbl>\\\\\n",
       "\\hline\n",
       "\t74 & Indonesia & 6812127 & 2.5\\\\\n",
       "\t144 & Singapore &   65315 & 1.1\\\\\n",
       "\\end{tabular}\n"
      ],
      "text/markdown": [
       "\n",
       "A data.frame: 2 × 3\n",
       "\n",
       "| <!--/--> | country &lt;chr&gt; | confirmed &lt;dbl&gt; | confirmed.population.ratio &lt;dbl&gt; |\n",
       "|---|---|---|---|\n",
       "| 74 | Indonesia | 6812127 | 2.5 |\n",
       "| 144 | Singapore |   65315 | 1.1 |\n",
       "\n"
      ],
      "text/plain": [
       "    country   confirmed confirmed.population.ratio\n",
       "74  Indonesia 6812127   2.5                       \n",
       "144 Singapore   65315   1.1                       "
      ]
     },
     "metadata": {},
     "output_type": "display_data"
    }
   ],
   "source": [
    "# Select a subset (should be only one row) of data frame based on a selected country name and columns\n",
    "# Auto-pick the right columns even if names differ\n",
    "names(covid_data_frame_csv)\n",
    "\n",
    "# Start from the CSV you already loaded\n",
    "df <- covid_data_frame_csv\n",
    "\n",
    "# Drop the Units column if present\n",
    "if (\"Units.b.\" %in% names(df)) df[[\"Units.b.\"]] <- NULL\n",
    "\n",
    "# Rename to the expected column names\n",
    "names(df)[names(df)==\"Confirmed.cases.\"]          <- \"confirmed\"\n",
    "names(df)[names(df)==\"Confirmed..population..\"]   <- \"confirmed.population.ratio\"\n",
    "\n",
    "# Make sure numeric columns are numeric (strip commas and notes just in case)\n",
    "df$confirmed <- as.numeric(gsub(\"[^0-9.]\", \"\", df$confirmed))\n",
    "df$confirmed.population.ratio <- as.numeric(gsub(\"[^0-9.]\", \"\", df$confirmed.population.ratio))\n",
    "\n",
    "# Now your original subset code will work\n",
    "country_1 <- \"Indonesia\"\n",
    "country_2 <- \"Singapore\"\n",
    "\n",
    "country_subset <- subset(df,\n",
    "                         country %in% c(country_1, country_2),\n",
    "                         select = c(country, confirmed, confirmed.population.ratio))\n",
    "country_subset\n",
    "\n"
   ]
  },
  {
   "cell_type": "markdown",
   "metadata": {},
   "source": [
    "## TASK 9: Compare which one of the selected countries has a larger ratio of confirmed cases to population\n",
    "\n",
    "The goal of task 9 is to find out which country you have selected before has larger ratio of confirmed cases to population, which may indicate that country has higher COVID-19 infection risk\n"
   ]
  },
  {
   "cell_type": "code",
   "execution_count": 34,
   "metadata": {},
   "outputs": [
    {
     "name": "stdout",
     "output_type": "stream",
     "text": [
      "[1] \"Indonesia has a higher confirmed-to-population ratio than Singapore\"\n"
     ]
    }
   ],
   "source": [
    "# Use if-else statement\n",
    "# if (check which confirmed.population value is greater) {\n",
    "#    print()\n",
    "# } else {\n",
    "#    print()\n",
    "# }\n",
    "\n",
    "\n",
    "# Use if-else statement to compare selected countries' confirmed.population.ratio\n",
    "if (nrow(country_subset) == 2) {\n",
    "  a <- country_subset$confirmed.population.ratio[country_subset$country == country_1]\n",
    "  b <- country_subset$confirmed.population.ratio[country_subset$country == country_2]\n",
    "  if (is.na(a) || is.na(b)) {\n",
    "    print(\"One of the ratios is NA; cannot compare.\")\n",
    "  } else if (a > b) {\n",
    "    print(paste(country_1, \"has a higher confirmed-to-population ratio than\", country_2))\n",
    "  } else if (a < b) {\n",
    "    print(paste(country_2, \"has a higher confirmed-to-population ratio than\", country_1))\n",
    "  } else {\n",
    "    print(\"Both countries have the same confirmed-to-population ratio.\")\n",
    "  }\n",
    "} else {\n",
    "  print(\"Expected exactly two rows in country_subset.\")\n",
    "}"
   ]
  },
  {
   "cell_type": "markdown",
   "metadata": {},
   "source": [
    "## TASK 10: Find countries with confirmed to population ratio rate less than a threshold\n",
    "\n",
    "The goal of task 10 is to find out which countries have the confirmed to population ratio less than 1%, it may indicate the risk of those countries are relatively low\n"
   ]
  },
  {
   "cell_type": "code",
   "execution_count": null,
   "metadata": {},
   "outputs": [],
   "source": [
    "# Get a subset of any countries with `confirmed.population.ratio` less than the threshold\n",
    "# Get a subset of any countries with `confirmed.population.ratio` less than the threshold\n",
    "threshold <- 0.001  # 0.1% of population\n",
    "low_risk_countries <- subset(covid_data_frame_csv, confirmed.population.ratio < threshold,\n",
    "                             select = c(country, confirmed, population, confirmed.population.ratio))\n",
    "# Show the first few results\n",
    "head(low_risk_countries[order(low_risk_countries$confirmed.population.ratio, decreasing = FALSE), ], 15)\n"
   ]
  }
 ],
 "metadata": {
  "kernelspec": {
   "display_name": "R",
   "language": "R",
   "name": "ir"
  },
  "language_info": {
   "codemirror_mode": "r",
   "file_extension": ".r",
   "mimetype": "text/x-r-source",
   "name": "R",
   "pygments_lexer": "r",
   "version": "4.4.2"
  }
 },
 "nbformat": 4,
 "nbformat_minor": 4
}
