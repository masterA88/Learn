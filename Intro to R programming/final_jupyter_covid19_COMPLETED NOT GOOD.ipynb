{
 "cells": [
  {
   "cell_type": "markdown",
   "id": "57b62b46-4976-4c41-9281-a6f93c1447c2",
   "metadata": {},
   "outputs": [],
   "source": [
    "<center>\n",
    "<img src=\"https://cf-courses-data.s3.us.cloud-object-storage.appdomain.cloud/IBMDeveloperSkillsNetwork-RP0101EN-Coursera/v2/M5_Final/images/SN_web_lightmode.png\" width=\"300\">\n",
    "</center>\n"
   ]
  },
  {
   "cell_type": "markdown",
   "id": "9dcffd81-2371-47f1-a7a8-93f9840607f1",
   "metadata": {},
   "outputs": [],
   "source": [
    "<h1>Analysis of Global COVID-19 Pandemic Data</h1>\n",
    "\n",
    "Estimated time needed: **90** minutes\n",
    "\n"
   ]
  },
  {
   "cell_type": "markdown",
   "id": "f1d0b697-0ce9-4444-a210-324ad8edb3fb",
   "metadata": {},
   "outputs": [],
   "source": [
    "## Overview:\n",
    "\n",
    "There are 10 tasks in this final project. All tasks will be graded by your peers who are also completing this assignment within the same session.\n",
    "\n",
    "You need to submit the following the screenshot for the code and output for each task for review.\n",
    "\n",
    "If you need to refresh your memories about specific coding details, you may refer to previous hands-on labs for code examples.\n"
   ]
  },
  {
   "cell_type": "code",
   "id": "ea3ee237-87c1-42b9-bde4-68f9ea487279",
   "metadata": {},
   "outputs": [],
   "source": [
    "# This lab requires 'httr' and 'rvest'packages, which are already pre-loaded into this lab environment.\n",
    "# However, if you are working on your local RStudio, please uncomment the below codes and install the packages.\n",
    "\n",
    "#install.packages(\"httr\")\n",
    "#install.packages(\"rvest\")"
   ]
  },
  {
   "cell_type": "code",
   "id": "3bf7b159-a737-4e0d-8466-6be869f8e9be",
   "metadata": {},
   "outputs": [],
   "source": [
    "library(httr)\n",
    "library(rvest)"
   ]
  },
  {
   "cell_type": "markdown",
   "id": "1472c4a4-2bd7-41c1-a6dc-381a8b1856d4",
   "metadata": {},
   "outputs": [],
   "source": [
    "Note: if you can import above libraries, please use install.packages() to install them first.\n"
   ]
  },
  {
   "cell_type": "markdown",
   "id": "6658c949-5639-48af-b0cd-fdf4939da49f",
   "metadata": {},
   "outputs": [],
   "source": [
    "## TASK 1: Get a `COVID-19 pandemic` Wiki page using HTTP request\n"
   ]
  },
  {
   "cell_type": "markdown",
   "id": "8304c4f8-2f85-4334-bb03-cc86febbe33c",
   "metadata": {},
   "outputs": [],
   "source": [
    "First, let's write a function to use HTTP request to get a public COVID-19 Wiki page.\n",
    "\n",
    "Before you write the function, you can open this public page from this \n",
    "\n",
    "URL https://en.wikipedia.org/w/index.php?title=Template:COVID-19_testing_by_country using a web browser.\n",
    "\n",
    "The goal of task 1 is to get the html page using HTTP request (`httr` library)\n"
   ]
  },
  {
   "cell_type": "code",
   "id": "54f8882f-6042-4e6c-afb2-1646ed9c3faa",
   "metadata": {},
   "outputs": [],
   "source": [
    "get_wiki_covid19_page <- function() {\n",
    "  # Target page is the template transcluded into country pages\n",
    "  wiki_base_url <- \"https://en.wikipedia.org/w/index.php\"\n",
    "  query <- list(title = \"Template:COVID-19_testing_by_country\")\n",
    "  # Politely identify as a student script\n",
    "  resp <- httr::GET(url = wiki_base_url, query = query, httr::user_agent(\"covid19-lab/1.0\"))\n",
    "  httr::stop_for_status(resp)\n",
    "  return(resp)\n",
    "}\n"
   ]
  },
  {
   "cell_type": "markdown",
   "id": "4d5b7b7f-7820-4ba5-bde9-6c4936b153bd",
   "metadata": {},
   "outputs": [],
   "source": [
    "Call the `get_wiki_covid19_page` function to get a http response with the target html page\n"
   ]
  },
  {
   "cell_type": "code",
   "id": "8ed184ae-762c-4b3d-b0e0-f54a9449b13d",
   "metadata": {},
   "outputs": [],
   "source": [
    "# Call the get_wiki_covid19_page function and print the response\n",
    "wiki_response <- get_wiki_covid19_page()\n",
    "print(wiki_response)\n"
   ]
  },
  {
   "cell_type": "markdown",
   "id": "826f472b-b84d-4e76-8cd6-a210032f3b2f",
   "metadata": {},
   "outputs": [],
   "source": [
    "## TASK 2: Extract COVID-19 testing data table from the wiki HTML page\n"
   ]
  },
  {
   "cell_type": "markdown",
   "id": "dc7ecad0-3a4a-402d-9200-76b7e209008b",
   "metadata": {},
   "outputs": [],
   "source": [
    "On the COVID-19 testing wiki page, you should see a data table `<table>` node contains COVID-19 testing data by country on the page:\n",
    "\n",
    "<a href=\"https://cognitiveclass.ai/\">\n",
    "    <img src=\"https://cf-courses-data.s3.us.cloud-object-storage.appdomain.cloud/IBMDeveloperSkillsNetwork-RP0101EN-Coursera/v2/M5_Final/images/covid-19-by-country.png\" width=\"400\" align=\"center\">\n",
    "</a>\n",
    "\n",
    "Note the numbers you actually see on your page may be different from above because it is still an on-going pandemic when creating this notebook.\n",
    "\n",
    "The goal of task 2 is to extract above data table and convert it into a data frame\n"
   ]
  },
  {
   "cell_type": "markdown",
   "id": "07ed8eae-cf66-41ac-b838-977a361b5159",
   "metadata": {},
   "outputs": [],
   "source": [
    "Now use the `read_html` function in rvest library to get the root html node from response\n"
   ]
  },
  {
   "cell_type": "code",
   "id": "534a1dfc-81c9-4fb1-aee2-20c35a1c5a13",
   "metadata": {},
   "outputs": [],
   "source": [
    "# Get the root html node from the http response in task 1 \n",
    "root_node <- wiki_response %>% content(as = \"text\") %>% read_html()\n",
    "root_node\n"
   ]
  },
  {
   "cell_type": "markdown",
   "id": "8dfd59ba-4c94-4ee1-9fb3-e194075db92d",
   "metadata": {},
   "outputs": [],
   "source": [
    "Get the tables in the HTML root node using `html_nodes` function.\n"
   ]
  },
  {
   "cell_type": "code",
   "id": "7e9b3225-521a-4be6-a000-758a11704e35",
   "metadata": {},
   "outputs": [],
   "source": [
    "# Get the table node from the root html node\n",
    "table_node <- html_node(root_node, \"table.wikitable\")\n",
    "table_node\n"
   ]
  },
  {
   "cell_type": "markdown",
   "id": "452b5d7a-b82b-4aeb-9313-83d6da59c8f9",
   "metadata": {},
   "outputs": [],
   "source": [
    "Read the specific table from the multiple tables in the `table_node` using the `html_table` function and convert it into dataframe using `as.data.frame`\n",
    "\n",
    "_Hint:- Please read the `table_node` with index 2(ex:- table_node[2])._\n"
   ]
  },
  {
   "cell_type": "code",
   "id": "5e82c535-d476-4ce4-9bee-8ad85e0d787a",
   "metadata": {},
   "outputs": [],
   "source": [
    "# Read the table node and convert it into a data frame, and print the data frame for review\n",
    "covid_data_frame <- html_table(table_node, fill = TRUE)\n",
    "# Quick peek\n",
    "head(covid_data_frame)\n"
   ]
  },
  {
   "cell_type": "markdown",
   "id": "ffff7698-93e1-44f8-ad81-f5c98fcaa4ed",
   "metadata": {},
   "outputs": [],
   "source": [
    "## TASK 3: Pre-process and export the extracted data frame\n",
    "\n",
    "The goal of task 3 is to pre-process the extracted data frame from the previous step, and export it as a csv file\n"
   ]
  },
  {
   "cell_type": "markdown",
   "id": "aa90416a-a1d9-4047-92d0-b8fe086d136c",
   "metadata": {},
   "outputs": [],
   "source": [
    "Let's get a summary of the data frame\n"
   ]
  },
  {
   "cell_type": "code",
   "id": "5f09cc58-a2d5-4ac4-aa1d-e7ccb71915af",
   "metadata": {},
   "outputs": [],
   "source": [
    "# Print the summary of the data frame\n",
    "summary(covid_data_frame)\n",
    "str(covid_data_frame)\n"
   ]
  },
  {
   "cell_type": "markdown",
   "id": "8c8b077e-8d1f-4cff-863c-cd9a5a94a017",
   "metadata": {},
   "outputs": [],
   "source": [
    "As you can see from the summary, the columns names are little bit different to understand and some column data types are not correct. For example, the `Tested` column shows as `character`. \n",
    "\n",
    "As such, the data frame read from HTML table will need some pre-processing such as removing irrelvant columns, renaming columns, and convert columns into proper data types.\n"
   ]
  },
  {
   "cell_type": "markdown",
   "id": "c0e58c3c-0f3f-41ed-bded-f619456ea1c4",
   "metadata": {},
   "outputs": [],
   "source": [
    "We have prepared a pre-processing function for you to conver the data frame but you can also try to write one by yourself\n"
   ]
  },
  {
   "cell_type": "code",
   "id": "e93bbc03-f6f5-4159-b1f1-9d6e8af401e3",
   "metadata": {},
   "outputs": [],
   "source": [
    "preprocess_covid_data_frame <- function(data_frame) {\n",
    "  # Ensure base types\n",
    "  data_frame <- as.data.frame(data_frame, stringsAsFactors = FALSE)\n",
    "  shape <- dim(data_frame)\n",
    "  # Remove the World row\n",
    "  if (\"Country.or.region\" %in% names(data_frame)) {\n",
    "    data_frame <- data_frame[!(data_frame$`Country.or.region` == \"World\"), ]\n",
    "  }\n",
    "  # Remove the last row if it is an aggregate/notes row and keep only the first 172 as per lab hint\n",
    "  if (nrow(data_frame) >= 172) {\n",
    "    data_frame <- data_frame[1:172, ]\n",
    "  }\n",
    "  # Drop columns we do not need if present\n",
    "  drop_cols <- intersect(c(\"Ref.\", \"Ref\", \"Units.b.\", \"Notes\"), names(data_frame))\n",
    "  if (length(drop_cols)) data_frame[drop_cols] <- NULL\n",
    "  # Standardize names for easier handling\n",
    "  names(data_frame) <- make.names(names(data_frame))\n",
    "  # Attempt to map typical column names from the wiki\n",
    "  rename_map <- c(\n",
    "    \"Country.or.region\" = \"country\",\n",
    "    \"Country\" = \"country\",\n",
    "    \"Location\" = \"country\",\n",
    "    \"As.of\" = \"date\",\n",
    "    \"Date\" = \"date\",\n",
    "    \"Tested\" = \"tested\",\n",
    "    \"Tests\" = \"tested\",\n",
    "    \"Total.tests\" = \"tested\",\n",
    "    \"Tests.performed\" = \"tested\",\n",
    "    \"Confirmed.cases\" = \"confirmed\",\n",
    "    \"Cases\" = \"confirmed\",\n",
    "    \"Confirmed\" = \"confirmed\",\n",
    "    \"Population\" = \"population\",\n",
    "    \"Confirmed.cases.as.a.proportion.of.tests\" = \"confirmed.tested.ratio\",\n",
    "    \"Tests.as.a.proportion.of.population\" = \"tested.population.ratio\",\n",
    "    \"Confirmed.cases.as.a.proportion.of.population\" = \"confirmed.population.ratio\"\n",
    "  )\n",
    "  for (old in names(rename_map)) {\n",
    "    if (old %in% names(data_frame)) {\n",
    "      names(data_frame)[names(data_frame) == old] <- rename_map[[old]]\n",
    "    }\n",
    "  }\n",
    "  # Helper to clean numeric strings\n",
    "  clean_num <- function(x) {\n",
    "    x <- gsub(\",\", \"\", x)\n",
    "    x <- gsub(\"\\[[^\\]]*\\]\", \"\", x)   # remove footnotes like [a]\n",
    "    x <- gsub(\"[^0-9.]\", \"\", x)\n",
    "    suppressWarnings(as.numeric(x))\n",
    "  }\n",
    "  # Convert column data types\n",
    "  if (\"country\" %in% names(data_frame)) data_frame$country <- as.factor(trimws(data_frame$country))\n",
    "  if (\"date\" %in% names(data_frame)) data_frame$date <- as.factor(trimws(as.character(data_frame$date)))\n",
    "  if (\"tested\" %in% names(data_frame)) data_frame$tested <- clean_num(data_frame$tested)\n",
    "  if (\"confirmed\" %in% names(data_frame)) data_frame$confirmed <- clean_num(data_frame$confirmed)\n",
    "  if (\"population\" %in% names(data_frame)) data_frame$population <- clean_num(data_frame$population)\n",
    "  # Convert precomputed ratios if present\n",
    "  if (\"confirmed.tested.ratio\" %in% names(data_frame)) data_frame$confirmed.tested.ratio <- clean_num(data_frame$confirmed.tested.ratio)\n",
    "  if (\"tested.population.ratio\" %in% names(data_frame)) data_frame$tested.population.ratio <- clean_num(data_frame$tested.population.ratio)\n",
    "  if (\"confirmed.population.ratio\" %in% names(data_frame)) data_frame$confirmed.population.ratio <- clean_num(data_frame$confirmed.population.ratio)\n",
    "  # Derive ratios if missing\n",
    "  if (!(\"confirmed.tested.ratio\" %in% names(data_frame)) && all(c(\"confirmed\",\"tested\") %in% names(data_frame))) {\n",
    "    data_frame$confirmed.tested.ratio <- ifelse(data_frame$tested > 0, data_frame$confirmed / data_frame$tested, NA_real_)\n",
    "  }\n",
    "  if (!(\"confirmed.population.ratio\" %in% names(data_frame)) && all(c(\"confirmed\",\"population\") %in% names(data_frame))) {\n",
    "    data_frame$confirmed.population.ratio <- ifelse(data_frame$population > 0, data_frame$confirmed / data_frame$population, NA_real_)\n",
    "  }\n",
    "  if (!(\"tested.population.ratio\" %in% names(data_frame)) && all(c(\"tested\",\"population\") %in% names(data_frame))) {\n",
    "    data_frame$tested.population.ratio <- ifelse(data_frame$population > 0, data_frame$tested / data_frame$population, NA_real_)\n",
    "  }\n",
    "  return(data_frame)\n",
    "}\n"
   ]
  },
  {
   "cell_type": "markdown",
   "id": "6ea581c8-3dd8-4729-95fc-cbb88a4bccad",
   "metadata": {},
   "outputs": [],
   "source": [
    "Call the `preprocess_covid_data_frame` function\n"
   ]
  },
  {
   "cell_type": "code",
   "id": "a74e9267-6f30-4dca-bb05-c3a44c72a21c",
   "metadata": {},
   "outputs": [],
   "source": [
    "# call `preprocess_covid_data_frame` function and assign it to a new data frame\n",
    "covid_data_frame <- preprocess_covid_data_frame(covid_data_frame)\n",
    "head(covid_data_frame)\n"
   ]
  },
  {
   "cell_type": "markdown",
   "id": "65cb5c8c-c010-49c7-b731-3e3f47bd9aa2",
   "metadata": {},
   "outputs": [],
   "source": [
    "Get the summary of the processed data frame again\n"
   ]
  },
  {
   "cell_type": "code",
   "id": "6f65dff3-bae9-4d97-9e0e-47c3b2e0695c",
   "metadata": {},
   "outputs": [],
   "source": [
    "# Print the summary of the processed data frame again\n",
    "summary(covid_data_frame)\n",
    "str(covid_data_frame)\n"
   ]
  },
  {
   "cell_type": "markdown",
   "id": "3b2cdbe2-5f38-491b-8448-0821d21f2a02",
   "metadata": {},
   "outputs": [],
   "source": [
    "After pre-processing, you can see the columns and columns names are simplified, and columns types are converted into correct types.\n"
   ]
  },
  {
   "cell_type": "markdown",
   "id": "9edfc9b0-44f8-4545-a05d-bb554c6a2fd5",
   "metadata": {},
   "outputs": [],
   "source": [
    "The data frame has following columns:\n",
    "\n",
    "- **country** - The name of the country\n",
    "- **date** - Reported date\n",
    "- **tested** - Total tested cases by the reported date\n",
    "- **confirmed** - Total confirmed cases by the reported date\n",
    "- **confirmed.tested.ratio** - The ratio of confirmed cases to the tested cases\n",
    "- **tested.population.ratio** - The ratio of tested cases to the population of the country\n",
    "- **confirmed.population.ratio** - The ratio of confirmed cases to the population of the country\n"
   ]
  },
  {
   "cell_type": "markdown",
   "id": "a0761862-0478-4583-b2d4-9ee9080f9d9d",
   "metadata": {},
   "outputs": [],
   "source": [
    "OK, we can call `write.csv()` function to save the csv file into a file. \n"
   ]
  },
  {
   "cell_type": "code",
   "id": "3fef4620-019b-41f7-838a-07ca1bca9ac1",
   "metadata": {},
   "outputs": [],
   "source": [
    "# Export the data frame to a csv file\n",
    "write.csv(covid_data_frame, file = \"covid.csv\", row.names = FALSE)\n"
   ]
  },
  {
   "cell_type": "markdown",
   "id": "790e85c1-6936-461a-8589-d7da2b2a3420",
   "metadata": {},
   "outputs": [],
   "source": [
    "Note for IBM Waston Studio, there is no traditional \"hard disk\" associated with a R workspace.\n",
    "\n",
    "Even if you call `write.csv()` method to save the data frame as a csv file, it won't be shown in IBM Cloud Object Storage asset UI automatically.\n",
    "\n",
    "However, you may still check if the `covid.csv` exists using following code snippet:\n"
   ]
  },
  {
   "cell_type": "code",
   "id": "65a4bedb-b064-4b32-bd8e-ce083d104448",
   "metadata": {},
   "outputs": [],
   "source": [
    "# Get working directory\n",
    "wd <- getwd()\n",
    "# Get exported \n",
    "file_path <- paste(wd, sep=\"\", \"/covid.csv\")\n",
    "# File path\n",
    "print(file_path)\n",
    "file.exists(file_path)"
   ]
  },
  {
   "cell_type": "markdown",
   "id": "86c9db97-3081-4311-9c4d-52787ccc0eb7",
   "metadata": {},
   "outputs": [],
   "source": [
    "**Optional Step**: If you have difficulties finishing above webscraping tasks, you may still continue with next tasks by downloading a provided csv file from here:\n"
   ]
  },
  {
   "cell_type": "code",
   "id": "841ecb2e-f5f4-4bc9-8783-798facce8df0",
   "metadata": {},
   "outputs": [],
   "source": [
    "## Download a sample csv file (uncomment to download if running online)\n",
    "# covid_csv_file <- download.file(\n",
    "#   \"https://cf-courses-data.s3.us.cloud-object-storage.appdomain.cloud/IBM-DA0321EN-SkillsNetwork/labs/coursera/DA0101EN/coursera/project/FinalProject-RP0101EN-Coursera/v2/dataset/covid.csv\",\n",
    "#   destfile = \"covid.csv\", quiet = TRUE\n",
    "# )\n",
    "# Read the saved CSV\n",
    "covid_data_frame_csv <- read.csv(\"covid.csv\", header = TRUE, sep = \",\", stringsAsFactors = FALSE)\n",
    "head(covid_data_frame_csv)\n"
   ]
  },
  {
   "cell_type": "markdown",
   "id": "603dfbf4-530d-4293-99fb-f5e75e28c974",
   "metadata": {},
   "outputs": [],
   "source": [
    "## TASK 4: Get a subset of the extracted data frame\n",
    "\n",
    "The goal of task 4 is to get the 5th to 10th rows from the data frame with only `country` and `confirmed` columns selected\n"
   ]
  },
  {
   "cell_type": "code",
   "id": "bbb34235-655e-47f0-b3b2-4502f4cf353b",
   "metadata": {},
   "outputs": [],
   "source": [
    "# Read covid_data_frame_csv from the csv file\n",
    "covid_data_frame_csv <- read.csv(\"covid.csv\", header = TRUE, sep = \",\", stringsAsFactors = FALSE)\n",
    "\n",
    "# Get the 5th to 10th rows, with two \"country\" \"confirmed\" columns\n",
    "subset_5_10 <- covid_data_frame_csv[5:10, c(\"country\", \"confirmed\")]\n",
    "subset_5_10\n"
   ]
  },
  {
   "cell_type": "markdown",
   "id": "86b9f45c-2892-4205-a1ff-09b60a1a4e12",
   "metadata": {},
   "outputs": [],
   "source": [
    "## TASK 5: Calculate worldwide COVID testing positive ratio\n",
    "\n",
    "The goal of task 5 is to get the total confirmed and tested cases worldwide, and try to figure the overall positive ratio using `confirmed cases / tested cases`\n"
   ]
  },
  {
   "cell_type": "code",
   "id": "2dc8361f-81f3-4feb-966e-15e28e32dcb3",
   "metadata": {},
   "outputs": [],
   "source": [
    "# Get the total confirmed cases worldwide\n",
    "total_confirmed <- sum(covid_data_frame_csv$confirmed, na.rm = TRUE)\n",
    "\n",
    "# Get the total tested cases worldwide\n",
    "total_tested <- sum(covid_data_frame_csv$tested, na.rm = TRUE)\n",
    "\n",
    "# Get the positive ratio (confirmed / tested)\n",
    "world_positive_ratio <- ifelse(total_tested > 0, total_confirmed / total_tested, NA_real_)\n",
    "\n",
    "total_confirmed\n",
    "total_tested\n",
    "world_positive_ratio\n"
   ]
  },
  {
   "cell_type": "markdown",
   "id": "9b5c1ade-4e4f-433b-b6c2-765f599733a7",
   "metadata": {},
   "outputs": [],
   "source": [
    "## TASK 6: Get a country list which reported their testing data \n",
    "\n",
    "The goal of task 6 is to get a catalog or sorted list of countries who have reported their COVID-19 testing data\n"
   ]
  },
  {
   "cell_type": "code",
   "id": "92c50f1d-af07-444b-881d-d2bf5095d31b",
   "metadata": {},
   "outputs": [],
   "source": [
    "# Get the `country` column\n",
    "countries <- covid_data_frame_csv$country\n",
    "\n",
    "# Check its class (should be Factor or character)\n",
    "class(countries)\n",
    "\n",
    "# Sort the countries AtoZ\n",
    "countries_sorted_AtoZ <- sort(unique(as.character(countries)), decreasing = FALSE)\n",
    "\n",
    "# Sort the countries ZtoA\n",
    "countries_sorted_ZtoA <- sort(unique(as.character(countries)), decreasing = TRUE)\n",
    "\n",
    "# Print the sorted ZtoA list\n",
    "countries_sorted_ZtoA\n"
   ]
  },
  {
   "cell_type": "markdown",
   "id": "fc4e6442-f5fc-4c93-aa44-e4823ce0e408",
   "metadata": {},
   "outputs": [],
   "source": [
    "## TASK 7: Identify countries names with a specific pattern\n",
    "\n",
    "The goal of task 7 is using a regular expression to find any countires start with `United`\n"
   ]
  },
  {
   "cell_type": "code",
   "id": "60318164-e582-4ecc-aba7-ccd9f1458e14",
   "metadata": {},
   "outputs": [],
   "source": [
    "# Use a regular expression `United.+` to find matches\n",
    "countries_chr <- unique(as.character(covid_data_frame_csv$country))\n",
    "united_countries <- grep(\"^United.+\", countries_chr, value = TRUE)\n",
    "\n",
    "# Print the matched country names\n",
    "united_countries\n"
   ]
  },
  {
   "cell_type": "markdown",
   "id": "e14f54f6-6f43-415e-9b8d-dc964a2c1d02",
   "metadata": {},
   "outputs": [],
   "source": [
    "## TASK 8: Pick two countries you are interested, and then review their testing data\n",
    "\n",
    "The goal of task 8 is to compare the COVID-19 test data between two countires, you will need to select two rows from the dataframe, and select `country`, `confirmed`, `confirmed-population-ratio` columns\n"
   ]
  },
  {
   "cell_type": "code",
   "id": "8b7e2213-36c6-4008-bc2d-fae420f28559",
   "metadata": {},
   "outputs": [],
   "source": [
    "# Select a subset (should be only one row) of data frame based on a selected country name and columns\n",
    "country_1 <- \"Indonesia\"\n",
    "country_2 <- \"Singapore\"\n",
    "\n",
    "country_subset <- subset(covid_data_frame_csv, country %in% c(country_1, country_2),\n",
    "                         select = c(country, confirmed, confirmed.population.ratio))\n",
    "country_subset\n"
   ]
  },
  {
   "cell_type": "markdown",
   "id": "5f69c455-4061-4a64-a9e2-ef2f1f6edaa9",
   "metadata": {},
   "outputs": [],
   "source": [
    "## TASK 9: Compare which one of the selected countries has a larger ratio of confirmed cases to population\n",
    "\n",
    "The goal of task 9 is to find out which country you have selected before has larger ratio of confirmed cases to population, which may indicate that country has higher COVID-19 infection risk\n"
   ]
  },
  {
   "cell_type": "code",
   "id": "85d88bed-9b00-488c-98d3-e711febd785c",
   "metadata": {},
   "outputs": [],
   "source": [
    "# Use if-else statement to compare selected countries' confirmed.population.ratio\n",
    "if (nrow(country_subset) == 2) {\n",
    "  a <- country_subset$confirmed.population.ratio[country_subset$country == country_1]\n",
    "  b <- country_subset$confirmed.population.ratio[country_subset$country == country_2]\n",
    "  if (is.na(a) || is.na(b)) {\n",
    "    print(\"One of the ratios is NA; cannot compare.\")\n",
    "  } else if (a > b) {\n",
    "    print(paste(country_1, \"has a higher confirmed-to-population ratio than\", country_2))\n",
    "  } else if (a < b) {\n",
    "    print(paste(country_2, \"has a higher confirmed-to-population ratio than\", country_1))\n",
    "  } else {\n",
    "    print(\"Both countries have the same confirmed-to-population ratio.\")\n",
    "  }\n",
    "} else {\n",
    "  print(\"Expected exactly two rows in country_subset.\")\n",
    "}\n"
   ]
  },
  {
   "cell_type": "markdown",
   "id": "1a85fa60-1e89-4360-8c4e-adb8312c9385",
   "metadata": {},
   "outputs": [],
   "source": [
    "## TASK 10: Find countries with confirmed to population ratio rate less than a threshold\n",
    "\n",
    "The goal of task 10 is to find out which countries have the confirmed to population ratio less than 1%, it may indicate the risk of those countries are relatively low\n"
   ]
  },
  {
   "cell_type": "code",
   "id": "8494ec1b-0d51-45c6-bf42-2608640f95ee",
   "metadata": {},
   "outputs": [],
   "source": [
    "# Get a subset of any countries with `confirmed.population.ratio` less than the threshold\n",
    "threshold <- 0.001  # 0.1% of population\n",
    "low_risk_countries <- subset(covid_data_frame_csv, confirmed.population.ratio < threshold,\n",
    "                             select = c(country, confirmed, population, confirmed.population.ratio))\n",
    "# Show the first few results\n",
    "head(low_risk_countries[order(low_risk_countries$confirmed.population.ratio, decreasing = FALSE), ], 15)\n"
   ]
  }
 ],
 "metadata": {
  "kernelspec": {
   "display_name": "Python",
   "language": "python",
   "name": "conda-env-python-py"
  },
  "language_info": {
   "name": ""
  }
 },
 "nbformat": 4,
 "nbformat_minor": 4
}
