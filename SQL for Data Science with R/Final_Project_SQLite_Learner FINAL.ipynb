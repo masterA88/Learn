{
 "cells": [
  {
   "cell_type": "markdown",
   "metadata": {},
   "source": [
    "<center>\n",
    "    <img src=\"https://cf-courses-data.s3.us.cloud-object-storage.appdomain.cloud/assets/logos/SN_web_lightmode.png\" width=\"300\">\n",
    "</center>\n",
    "\n",
    "# Lab: Jupyter Notebook with Problems for Peer Reviewed Assignment\n",
    "\n",
    "Estimated time needed: 45 minutes\n"
   ]
  },
  {
   "cell_type": "markdown",
   "metadata": {},
   "source": [
    "# Assignment Scenario\n",
    "\n",
    "Congratulations! You have just been hired by a US Venture Capital firm as a data analyst.\n",
    "\n",
    "The company is considering foreign grain markets to help meet its supply chain requirements for its recent investments in the microbrewery and microdistillery industry, which is involved with the production and distribution of craft beers and spirits.\n",
    "\n",
    "Your first task is to provide a high level analysis of crop production in Canada. Your stakeholders want to understand the current and historical performance of certain crop types in terms of supply and price volatility. For now they are mainly interested in a macro-view of Canada's crop farming industry, and how it relates to the relative value of the Canadian and US dollars.\n"
   ]
  },
  {
   "cell_type": "markdown",
   "metadata": {},
   "source": [
    "# Introduction\n",
    "\n",
    "Using this R notebook you will:\n",
    "\n",
    "1.  Understand four datasets\n",
    "2.  Load the datasets into four separate tables in a database\n",
    "3.  Execute SQL queries to answer assignment questions\n",
    "\n",
    "You have already encountered two of these datasets in the previous practice lab. You will be able to reuse much of the work you did there to prepare your database tables for executing SQL queries.\n"
   ]
  },
  {
   "cell_type": "markdown",
   "metadata": {},
   "source": [
    "# Understand the datasets\n",
    "\n",
    "To complete the assignment problems in this notebook you will be using subsetted snapshots of two datasets from Statistics Canada, and one from the Bank of Canada. The links to the prepared datasets are provided in the next section; the interested student can explore the landing pages for the source datasets as follows:\n",
    "\n",
    "1.  <a href=\"https://www150.statcan.gc.ca/t1/tbl1/en/tv.action?utm_medium=Exinfluencer&utm_source=Exinfluencer&utm_content=000026UJ&utm_term=10006555&utm_id=NA-SkillsNetwork-Channel-SkillsNetworkCoursesIBMRP0203ENSkillsNetwork23863830-2021-01-01&pid=3210035901\">Canadian Principal Crops (Data & Metadata)</a>\n",
    "2.  <a href=\"https://www150.statcan.gc.ca/t1/tbl1/en/tv.action?utm_medium=Exinfluencer&utm_source=Exinfluencer&utm_content=000026UJ&utm_term=10006555&utm_id=NA-SkillsNetwork-Channel-SkillsNetworkCoursesIBMRP0203ENSkillsNetwork23863830-2021-01-01&pid=3210007701\">Farm product prices (Data & Metadata)</a>\n",
    "3.  <a href=\"https://www.bankofcanada.ca/rates/exchange/daily-exchange-rates?utm_medium=Exinfluencer&utm_source=Exinfluencer&utm_content=000026UJ&utm_term=10006555&utm_id=NA-SkillsNetwork-Channel-SkillsNetworkCoursesIBMRP0203ENSkillsNetwork23863830-2021-01-01\">Bank of Canada daily average exchange rates</a>\n",
    "\n",
    "### 1. Canadian Principal Crops Data \\*\n",
    "\n",
    "This dataset contains agricultural production measures for the principle crops grown in Canada, including a breakdown by province and teritory, for each year from 1908 to 2020.\n",
    "\n",
    "For this assignment you will use a preprocessed snapshot of this dataset (see below).\n",
    "\n",
    "A detailed description of this dataset can be obtained from the StatsCan Data Portal at:\n",
    "[https://www150.statcan.gc.ca/t1/tbl1/en/tv.action?pid=3210035901](https://www150.statcan.gc.ca/t1/tbl1/en/tv.action?utm_medium=Exinfluencer&utm_source=Exinfluencer&utm_content=000026UJ&utm_term=10006555&utm_id=NA-SkillsNetwork-Channel-SkillsNetworkCoursesIBMRP0203ENSkillsNetwork23863830-2021-01-01&pid=3210035901)\\\n",
    "Detailed information is included in the metadata file and as header text in the data file, which can be downloaded - look for the 'download options' link.\n",
    "\n",
    "### 2. Farm product prices\n",
    "\n",
    "This dataset contains monthly average farm product prices for Canadian crops and livestock by province and teritory, from 1980 to 2020 (or 'last year', whichever is greatest).\n",
    "\n",
    "For this assignment you will use a preprocessed snapshot of this dataset (see below).\n",
    "\n",
    "A description of this dataset can be obtained from the StatsCan Data Portal at:\n",
    "[https://www150.statcan.gc.ca/t1/tbl1/en/tv.action?pid=3210007701](https://www150.statcan.gc.ca/t1/tbl1/en/tv.action?utm_medium=Exinfluencer&utm_source=Exinfluencer&utm_content=000026UJ&utm_term=10006555&utm_id=NA-SkillsNetwork-Channel-SkillsNetworkCoursesIBMRP0203ENSkillsNetwork23863830-2021-01-01&pid=3210007701)\n",
    "The information is included in the metadata file, which can be downloaded - look for the 'download options' link.\n",
    "\n",
    "### 3. Bank of Canada daily average exchange rates \\*\n",
    "\n",
    "This dataset contains the daily average exchange rates for multiple foreign currencies. Exchange rates are expressed as 1 unit of the foreign currency converted into Canadian dollars. It includes only the latest four years of data, and the rates are published once each business day by 16:30 ET.\n",
    "\n",
    "For this assignment you will use a snapshot of this dataset with only the USD-CAD exchange rates included (see next section). We have also prepared a monthly averaged version which you will be using below.\n",
    "\n",
    "A brief description of this dataset and the original dataset can be obtained from the Bank of Canada Data Portal at:\n",
    "[https://www.bankofcanada.ca/rates/exchange/daily-exchange-rates/](https://www.bankofcanada.ca/rates/exchange/daily-exchange-rates/?utm_medium=Exinfluencer&utm_source=Exinfluencer&utm_content=000026UJ&utm_term=10006555&utm_id=NA-SkillsNetwork-Channel-SkillsNetworkCoursesIBMRP0203ENSkillsNetwork23863830-2021-01-01)\n",
    "\n",
    "( \\* these datasets are the same as the ones you used in the practice lab)\n"
   ]
  },
  {
   "cell_type": "markdown",
   "metadata": {},
   "source": [
    "### Dataset URLs\n",
    "\n",
    "1.  Annual Crop Data: <https://cf-courses-data.s3.us.cloud-object-storage.appdomain.cloud/IBM-RP0203EN-SkillsNetwork/labs/Final%20Project/Annual_Crop_Data.csv>\n",
    "\n",
    "2.  Farm product prices: <https://cf-courses-data.s3.us.cloud-object-storage.appdomain.cloud/IBM-RP0203EN-SkillsNetwork/labs/Final%20Project/Monthly_Farm_Prices.csv>\n",
    "\n",
    "3.  Daily FX Data: <https://cf-courses-data.s3.us.cloud-object-storage.appdomain.cloud/IBM-RP0203EN-SkillsNetwork/labs/Final%20Project/Daily_FX.csv>\n",
    "\n",
    "4.  Monthly FX Data: <https://cf-courses-data.s3.us.cloud-object-storage.appdomain.cloud/IBM-RP0203EN-SkillsNetwork/labs/Final%20Project/Monthly_FX.csv>\n",
    "\n",
    "<span style=\"color:red\">**IMPORTANT:**</span> You will be loading these datasets directly into R data frames from these URLs instead of from the StatsCan and Bank of Canada portals. The versions provided at these URLs are simplified and subsetted versions of the original datasets.\n"
   ]
  },
  {
   "cell_type": "markdown",
   "metadata": {},
   "source": [
    "#### Now let's load these datasets into four separate tables.\n",
    "\n",
    "Let's first load the RSQLite package:\n"
   ]
  },
  {
   "cell_type": "code",
   "execution_count": 1,
   "metadata": {},
   "outputs": [
    {
     "name": "stderr",
     "output_type": "stream",
     "text": [
      "Warning message in install.packages(\"https://cran.r-project.org/src/contrib/Archive/RSQLite/RSQLite_0.10.0.tar.gz\", :\n",
      "“installation of package ‘/tmp/RtmpCK9NUr/downloaded_packages/RSQLite_0.10.0.tar.gz’ had non-zero exit status”\n"
     ]
    }
   ],
   "source": [
    "install.packages(\"https://cran.r-project.org/src/contrib/Archive/RSQLite/RSQLite_0.10.0.tar.gz\", repos = NULL, type = \"source\", dependencies = TRUE) "
   ]
  },
  {
   "cell_type": "markdown",
   "metadata": {},
   "source": [
    "#### Restart Kernel\n",
    "\n",
    "After installing the RSQLite package, it is necessary to restart R Kernel. Click **Kernel** > **Restart Kernel** from the main menu. This will register the newly installed packages. Now proceed to load the RSQLite package. \n"
   ]
  },
  {
   "cell_type": "code",
   "execution_count": 2,
   "metadata": {},
   "outputs": [],
   "source": [
    "library(\"RSQLite\")"
   ]
  },
  {
   "cell_type": "markdown",
   "metadata": {},
   "source": [
    "## Problem 1\n",
    "\n",
    "#### Create tables\n",
    "\n",
    "Establish a connection **conn** to the RSQLite database **FinalDB.sqlite**, and create the following four tables.\n",
    "\n",
    "1.  **CROP_DATA**\n",
    "2.  **FARM_PRICES**\n",
    "3.  **DAILY_FX**\n",
    "4.  **MONTHLY_FX**\n",
    "\n",
    "The previous practice lab will help you accomplish this.\n"
   ]
  },
  {
   "cell_type": "code",
   "execution_count": 3,
   "metadata": {},
   "outputs": [
    {
     "data": {
      "text/html": [],
      "text/latex": [],
      "text/markdown": [],
      "text/plain": [
       "character(0)"
      ]
     },
     "metadata": {},
     "output_type": "display_data"
    }
   ],
   "source": [
    "# Write your query here\n",
    "# Load packages\n",
    "# install.packages(\"RSQLite\")  # if needed\n",
    "library(DBI)\n",
    "library(RSQLite)\n",
    "\n",
    "# Open a fresh connection (closes old one if it exists)\n",
    "if (exists(\"conn\") && DBI::dbIsValid(conn)) DBI::dbDisconnect(conn)\n",
    "conn <- dbConnect(RSQLite::SQLite(), dbname = \"agri_fx.sqlite\")\n",
    "\n",
    "# Show empty DB tables (should be none yet)\n",
    "dbListTables(conn)\n"
   ]
  },
  {
   "cell_type": "code",
   "execution_count": 4,
   "metadata": {},
   "outputs": [
    {
     "data": {
      "text/html": [],
      "text/latex": [],
      "text/markdown": [],
      "text/plain": [
       "character(0)"
      ]
     },
     "metadata": {},
     "output_type": "display_data"
    }
   ],
   "source": [
    "#check list of tables in the present db.\n",
    "dbListTables(conn)"
   ]
  },
  {
   "cell_type": "markdown",
   "metadata": {},
   "source": [
    "## Problem 2\n",
    "\n",
    "#### Read Datasets and load your tables in database\n",
    "\n",
    "Read the datasets into R dataframes using the urls provided above. Then load your tables in database.\n"
   ]
  },
  {
   "cell_type": "code",
   "execution_count": 6,
   "metadata": {},
   "outputs": [
    {
     "data": {
      "text/html": [
       "<style>\n",
       ".list-inline {list-style: none; margin:0; padding: 0}\n",
       ".list-inline>li {display: inline-block}\n",
       ".list-inline>li:not(:last-child)::after {content: \"\\00b7\"; padding: 0 .5ex}\n",
       "</style>\n",
       "<ol class=list-inline><li>'annual_crop'</li><li>'daily_fx'</li><li>'farm_prices'</li><li>'monthly_fx'</li></ol>\n"
      ],
      "text/latex": [
       "\\begin{enumerate*}\n",
       "\\item 'annual\\_crop'\n",
       "\\item 'daily\\_fx'\n",
       "\\item 'farm\\_prices'\n",
       "\\item 'monthly\\_fx'\n",
       "\\end{enumerate*}\n"
      ],
      "text/markdown": [
       "1. 'annual_crop'\n",
       "2. 'daily_fx'\n",
       "3. 'farm_prices'\n",
       "4. 'monthly_fx'\n",
       "\n",
       "\n"
      ],
      "text/plain": [
       "[1] \"annual_crop\" \"daily_fx\"    \"farm_prices\" \"monthly_fx\" "
      ]
     },
     "metadata": {},
     "output_type": "display_data"
    },
    {
     "data": {
      "text/html": [
       "<ol>\n",
       "\t<li><table class=\"dataframe\">\n",
       "<caption>A data.frame: 6 × 8</caption>\n",
       "<thead>\n",
       "\t<tr><th></th><th scope=col>CD_ID</th><th scope=col>YEAR</th><th scope=col>CROP_TYPE</th><th scope=col>GEO</th><th scope=col>SEEDED_AREA</th><th scope=col>HARVESTED_AREA</th><th scope=col>PRODUCTION</th><th scope=col>AVG_YIELD</th></tr>\n",
       "\t<tr><th></th><th scope=col>&lt;dbl&gt;</th><th scope=col>&lt;dbl&gt;</th><th scope=col>&lt;chr&gt;</th><th scope=col>&lt;chr&gt;</th><th scope=col>&lt;dbl&gt;</th><th scope=col>&lt;dbl&gt;</th><th scope=col>&lt;dbl&gt;</th><th scope=col>&lt;dbl&gt;</th></tr>\n",
       "</thead>\n",
       "<tbody>\n",
       "\t<tr><th scope=row>1</th><td>0</td><td>-1462</td><td>Barley</td><td>Alberta     </td><td>1372000</td><td>1372000</td><td>2504000</td><td>1825</td></tr>\n",
       "\t<tr><th scope=row>2</th><td>1</td><td>-1462</td><td>Barley</td><td>Canada      </td><td>2476800</td><td>2476800</td><td>4752900</td><td>1920</td></tr>\n",
       "\t<tr><th scope=row>3</th><td>2</td><td>-1462</td><td>Barley</td><td>Saskatchewan</td><td> 708000</td><td> 708000</td><td>1415000</td><td>2000</td></tr>\n",
       "\t<tr><th scope=row>4</th><td>3</td><td>-1462</td><td>Canola</td><td>Alberta     </td><td> 297400</td><td> 297400</td><td> 215500</td><td> 725</td></tr>\n",
       "\t<tr><th scope=row>5</th><td>4</td><td>-1462</td><td>Canola</td><td>Canada      </td><td> 580700</td><td> 580700</td><td> 512600</td><td> 885</td></tr>\n",
       "\t<tr><th scope=row>6</th><td>5</td><td>-1462</td><td>Canola</td><td>Saskatchewan</td><td> 224600</td><td> 224600</td><td> 242700</td><td>1080</td></tr>\n",
       "</tbody>\n",
       "</table>\n",
       "</li>\n",
       "\t<li><table class=\"dataframe\">\n",
       "<caption>A data.frame: 6 × 5</caption>\n",
       "<thead>\n",
       "\t<tr><th></th><th scope=col>CD_ID</th><th scope=col>DATE</th><th scope=col>CROP_TYPE</th><th scope=col>GEO</th><th scope=col>PRICE_PRERMT</th></tr>\n",
       "\t<tr><th></th><th scope=col>&lt;dbl&gt;</th><th scope=col>&lt;dbl&gt;</th><th scope=col>&lt;chr&gt;</th><th scope=col>&lt;chr&gt;</th><th scope=col>&lt;dbl&gt;</th></tr>\n",
       "</thead>\n",
       "<tbody>\n",
       "\t<tr><th scope=row>1</th><td>0</td><td>5479</td><td>Barley</td><td>Alberta     </td><td>127.39</td></tr>\n",
       "\t<tr><th scope=row>2</th><td>1</td><td>5479</td><td>Barley</td><td>Saskatchewan</td><td>121.38</td></tr>\n",
       "\t<tr><th scope=row>3</th><td>2</td><td>5479</td><td>Canola</td><td>Alberta     </td><td>342.00</td></tr>\n",
       "\t<tr><th scope=row>4</th><td>3</td><td>5479</td><td>Canola</td><td>Saskatchewan</td><td>339.82</td></tr>\n",
       "\t<tr><th scope=row>5</th><td>4</td><td>5479</td><td>Rye   </td><td>Alberta     </td><td>100.77</td></tr>\n",
       "\t<tr><th scope=row>6</th><td>5</td><td>5479</td><td>Rye   </td><td>Saskatchewan</td><td>109.75</td></tr>\n",
       "</tbody>\n",
       "</table>\n",
       "</li>\n",
       "\t<li><table class=\"dataframe\">\n",
       "<caption>A data.frame: 6 × 3</caption>\n",
       "<thead>\n",
       "\t<tr><th></th><th scope=col>DFX_ID</th><th scope=col>DATE</th><th scope=col>FXUSDCAD</th></tr>\n",
       "\t<tr><th></th><th scope=col>&lt;dbl&gt;</th><th scope=col>&lt;dbl&gt;</th><th scope=col>&lt;dbl&gt;</th></tr>\n",
       "</thead>\n",
       "<tbody>\n",
       "\t<tr><th scope=row>1</th><td>0</td><td>17169</td><td>1.3435</td></tr>\n",
       "\t<tr><th scope=row>2</th><td>1</td><td>17170</td><td>1.3315</td></tr>\n",
       "\t<tr><th scope=row>3</th><td>2</td><td>17171</td><td>1.3244</td></tr>\n",
       "\t<tr><th scope=row>4</th><td>3</td><td>17172</td><td>1.3214</td></tr>\n",
       "\t<tr><th scope=row>5</th><td>4</td><td>17175</td><td>1.3240</td></tr>\n",
       "\t<tr><th scope=row>6</th><td>5</td><td>17176</td><td>1.3213</td></tr>\n",
       "</tbody>\n",
       "</table>\n",
       "</li>\n",
       "\t<li><table class=\"dataframe\">\n",
       "<caption>A data.frame: 6 × 3</caption>\n",
       "<thead>\n",
       "\t<tr><th></th><th scope=col>DFX_ID</th><th scope=col>DATE</th><th scope=col>FXUSDCAD</th></tr>\n",
       "\t<tr><th></th><th scope=col>&lt;dbl&gt;</th><th scope=col>&lt;dbl&gt;</th><th scope=col>&lt;dbl&gt;</th></tr>\n",
       "</thead>\n",
       "<tbody>\n",
       "\t<tr><th scope=row>1</th><td>0</td><td>17167</td><td>1.319276</td></tr>\n",
       "\t<tr><th scope=row>2</th><td>1</td><td>17198</td><td>1.310726</td></tr>\n",
       "\t<tr><th scope=row>3</th><td>2</td><td>17226</td><td>1.338643</td></tr>\n",
       "\t<tr><th scope=row>4</th><td>3</td><td>17257</td><td>1.344021</td></tr>\n",
       "\t<tr><th scope=row>5</th><td>4</td><td>17287</td><td>1.360705</td></tr>\n",
       "\t<tr><th scope=row>6</th><td>5</td><td>17318</td><td>1.329805</td></tr>\n",
       "</tbody>\n",
       "</table>\n",
       "</li>\n",
       "</ol>\n"
      ],
      "text/latex": [
       "\\begin{enumerate}\n",
       "\\item A data.frame: 6 × 8\n",
       "\\begin{tabular}{r|llllllll}\n",
       "  & CD\\_ID & YEAR & CROP\\_TYPE & GEO & SEEDED\\_AREA & HARVESTED\\_AREA & PRODUCTION & AVG\\_YIELD\\\\\n",
       "  & <dbl> & <dbl> & <chr> & <chr> & <dbl> & <dbl> & <dbl> & <dbl>\\\\\n",
       "\\hline\n",
       "\t1 & 0 & -1462 & Barley & Alberta      & 1372000 & 1372000 & 2504000 & 1825\\\\\n",
       "\t2 & 1 & -1462 & Barley & Canada       & 2476800 & 2476800 & 4752900 & 1920\\\\\n",
       "\t3 & 2 & -1462 & Barley & Saskatchewan &  708000 &  708000 & 1415000 & 2000\\\\\n",
       "\t4 & 3 & -1462 & Canola & Alberta      &  297400 &  297400 &  215500 &  725\\\\\n",
       "\t5 & 4 & -1462 & Canola & Canada       &  580700 &  580700 &  512600 &  885\\\\\n",
       "\t6 & 5 & -1462 & Canola & Saskatchewan &  224600 &  224600 &  242700 & 1080\\\\\n",
       "\\end{tabular}\n",
       "\n",
       "\\item A data.frame: 6 × 5\n",
       "\\begin{tabular}{r|lllll}\n",
       "  & CD\\_ID & DATE & CROP\\_TYPE & GEO & PRICE\\_PRERMT\\\\\n",
       "  & <dbl> & <dbl> & <chr> & <chr> & <dbl>\\\\\n",
       "\\hline\n",
       "\t1 & 0 & 5479 & Barley & Alberta      & 127.39\\\\\n",
       "\t2 & 1 & 5479 & Barley & Saskatchewan & 121.38\\\\\n",
       "\t3 & 2 & 5479 & Canola & Alberta      & 342.00\\\\\n",
       "\t4 & 3 & 5479 & Canola & Saskatchewan & 339.82\\\\\n",
       "\t5 & 4 & 5479 & Rye    & Alberta      & 100.77\\\\\n",
       "\t6 & 5 & 5479 & Rye    & Saskatchewan & 109.75\\\\\n",
       "\\end{tabular}\n",
       "\n",
       "\\item A data.frame: 6 × 3\n",
       "\\begin{tabular}{r|lll}\n",
       "  & DFX\\_ID & DATE & FXUSDCAD\\\\\n",
       "  & <dbl> & <dbl> & <dbl>\\\\\n",
       "\\hline\n",
       "\t1 & 0 & 17169 & 1.3435\\\\\n",
       "\t2 & 1 & 17170 & 1.3315\\\\\n",
       "\t3 & 2 & 17171 & 1.3244\\\\\n",
       "\t4 & 3 & 17172 & 1.3214\\\\\n",
       "\t5 & 4 & 17175 & 1.3240\\\\\n",
       "\t6 & 5 & 17176 & 1.3213\\\\\n",
       "\\end{tabular}\n",
       "\n",
       "\\item A data.frame: 6 × 3\n",
       "\\begin{tabular}{r|lll}\n",
       "  & DFX\\_ID & DATE & FXUSDCAD\\\\\n",
       "  & <dbl> & <dbl> & <dbl>\\\\\n",
       "\\hline\n",
       "\t1 & 0 & 17167 & 1.319276\\\\\n",
       "\t2 & 1 & 17198 & 1.310726\\\\\n",
       "\t3 & 2 & 17226 & 1.338643\\\\\n",
       "\t4 & 3 & 17257 & 1.344021\\\\\n",
       "\t5 & 4 & 17287 & 1.360705\\\\\n",
       "\t6 & 5 & 17318 & 1.329805\\\\\n",
       "\\end{tabular}\n",
       "\n",
       "\\end{enumerate}\n"
      ],
      "text/markdown": [
       "1. \n",
       "A data.frame: 6 × 8\n",
       "\n",
       "| <!--/--> | CD_ID &lt;dbl&gt; | YEAR &lt;dbl&gt; | CROP_TYPE &lt;chr&gt; | GEO &lt;chr&gt; | SEEDED_AREA &lt;dbl&gt; | HARVESTED_AREA &lt;dbl&gt; | PRODUCTION &lt;dbl&gt; | AVG_YIELD &lt;dbl&gt; |\n",
       "|---|---|---|---|---|---|---|---|---|\n",
       "| 1 | 0 | -1462 | Barley | Alberta      | 1372000 | 1372000 | 2504000 | 1825 |\n",
       "| 2 | 1 | -1462 | Barley | Canada       | 2476800 | 2476800 | 4752900 | 1920 |\n",
       "| 3 | 2 | -1462 | Barley | Saskatchewan |  708000 |  708000 | 1415000 | 2000 |\n",
       "| 4 | 3 | -1462 | Canola | Alberta      |  297400 |  297400 |  215500 |  725 |\n",
       "| 5 | 4 | -1462 | Canola | Canada       |  580700 |  580700 |  512600 |  885 |\n",
       "| 6 | 5 | -1462 | Canola | Saskatchewan |  224600 |  224600 |  242700 | 1080 |\n",
       "\n",
       "\n",
       "2. \n",
       "A data.frame: 6 × 5\n",
       "\n",
       "| <!--/--> | CD_ID &lt;dbl&gt; | DATE &lt;dbl&gt; | CROP_TYPE &lt;chr&gt; | GEO &lt;chr&gt; | PRICE_PRERMT &lt;dbl&gt; |\n",
       "|---|---|---|---|---|---|\n",
       "| 1 | 0 | 5479 | Barley | Alberta      | 127.39 |\n",
       "| 2 | 1 | 5479 | Barley | Saskatchewan | 121.38 |\n",
       "| 3 | 2 | 5479 | Canola | Alberta      | 342.00 |\n",
       "| 4 | 3 | 5479 | Canola | Saskatchewan | 339.82 |\n",
       "| 5 | 4 | 5479 | Rye    | Alberta      | 100.77 |\n",
       "| 6 | 5 | 5479 | Rye    | Saskatchewan | 109.75 |\n",
       "\n",
       "\n",
       "3. \n",
       "A data.frame: 6 × 3\n",
       "\n",
       "| <!--/--> | DFX_ID &lt;dbl&gt; | DATE &lt;dbl&gt; | FXUSDCAD &lt;dbl&gt; |\n",
       "|---|---|---|---|\n",
       "| 1 | 0 | 17169 | 1.3435 |\n",
       "| 2 | 1 | 17170 | 1.3315 |\n",
       "| 3 | 2 | 17171 | 1.3244 |\n",
       "| 4 | 3 | 17172 | 1.3214 |\n",
       "| 5 | 4 | 17175 | 1.3240 |\n",
       "| 6 | 5 | 17176 | 1.3213 |\n",
       "\n",
       "\n",
       "4. \n",
       "A data.frame: 6 × 3\n",
       "\n",
       "| <!--/--> | DFX_ID &lt;dbl&gt; | DATE &lt;dbl&gt; | FXUSDCAD &lt;dbl&gt; |\n",
       "|---|---|---|---|\n",
       "| 1 | 0 | 17167 | 1.319276 |\n",
       "| 2 | 1 | 17198 | 1.310726 |\n",
       "| 3 | 2 | 17226 | 1.338643 |\n",
       "| 4 | 3 | 17257 | 1.344021 |\n",
       "| 5 | 4 | 17287 | 1.360705 |\n",
       "| 6 | 5 | 17318 | 1.329805 |\n",
       "\n",
       "\n",
       "\n",
       "\n"
      ],
      "text/plain": [
       "[[1]]\n",
       "  CD_ID  YEAR CROP_TYPE          GEO SEEDED_AREA HARVESTED_AREA PRODUCTION\n",
       "1     0 -1462    Barley      Alberta     1372000        1372000    2504000\n",
       "2     1 -1462    Barley       Canada     2476800        2476800    4752900\n",
       "3     2 -1462    Barley Saskatchewan      708000         708000    1415000\n",
       "4     3 -1462    Canola      Alberta      297400         297400     215500\n",
       "5     4 -1462    Canola       Canada      580700         580700     512600\n",
       "6     5 -1462    Canola Saskatchewan      224600         224600     242700\n",
       "  AVG_YIELD\n",
       "1      1825\n",
       "2      1920\n",
       "3      2000\n",
       "4       725\n",
       "5       885\n",
       "6      1080\n",
       "\n",
       "[[2]]\n",
       "  CD_ID DATE CROP_TYPE          GEO PRICE_PRERMT\n",
       "1     0 5479    Barley      Alberta       127.39\n",
       "2     1 5479    Barley Saskatchewan       121.38\n",
       "3     2 5479    Canola      Alberta       342.00\n",
       "4     3 5479    Canola Saskatchewan       339.82\n",
       "5     4 5479       Rye      Alberta       100.77\n",
       "6     5 5479       Rye Saskatchewan       109.75\n",
       "\n",
       "[[3]]\n",
       "  DFX_ID  DATE FXUSDCAD\n",
       "1      0 17169   1.3435\n",
       "2      1 17170   1.3315\n",
       "3      2 17171   1.3244\n",
       "4      3 17172   1.3214\n",
       "5      4 17175   1.3240\n",
       "6      5 17176   1.3213\n",
       "\n",
       "[[4]]\n",
       "  DFX_ID  DATE FXUSDCAD\n",
       "1      0 17167 1.319276\n",
       "2      1 17198 1.310726\n",
       "3      2 17226 1.338643\n",
       "4      3 17257 1.344021\n",
       "5      4 17287 1.360705\n",
       "6      5 17318 1.329805\n"
      ]
     },
     "metadata": {},
     "output_type": "display_data"
    }
   ],
   "source": [
    "# If needed:\n",
    "# install.packages(c(\"DBI\",\"RSQLite\",\"readr\"))\n",
    "\n",
    "library(DBI)\n",
    "library(RSQLite)\n",
    "library(readr)\n",
    "\n",
    "# Connect (reuse if already connected)\n",
    "if (exists(\"conn\") && DBI::dbIsValid(conn)) DBI::dbDisconnect(conn)\n",
    "conn <- dbConnect(RSQLite::SQLite(), dbname = \"agri_fx.sqlite\")\n",
    "\n",
    "# URLs (final)\n",
    "urls <- list(\n",
    "  annual_crop  = \"https://cf-courses-data.s3.us.cloud-object-storage.appdomain.cloud/IBM-RP0203EN-SkillsNetwork/labs/Final%20Project/Annual_Crop_Data.csv\",\n",
    "  monthly_farm = \"https://cf-courses-data.s3.us.cloud-object-storage.appdomain.cloud/IBM-RP0203EN-SkillsNetwork/labs/Final%20Project/Monthly_Farm_Prices.csv\",\n",
    "  daily_fx     = \"https://cf-courses-data.s3.us.cloud-object-storage.appdomain.cloud/IBM-RP0203EN-SkillsNetwork/labs/Final%20Project/Daily_FX.csv\",\n",
    "  monthly_fx   = \"https://cf-courses-data.s3.us.cloud-object-storage.appdomain.cloud/IBM-RP0203EN-SkillsNetwork/labs/Final%20Project/Monthly_FX.csv\"\n",
    ")\n",
    "\n",
    "# Read directly from HTTPS\n",
    "annual_crop_df  <- read_csv(urls$annual_crop,  show_col_types = FALSE)\n",
    "monthly_farm_df <- read_csv(urls$monthly_farm, show_col_types = FALSE)\n",
    "daily_fx_df     <- read_csv(urls$daily_fx,     show_col_types = FALSE)\n",
    "monthly_fx_df   <- read_csv(urls$monthly_fx,   show_col_types = FALSE)\n",
    "\n",
    "# Write to SQLite (creates or replaces)\n",
    "dbWriteTable(conn, \"annual_crop\",  as.data.frame(annual_crop_df),  overwrite = TRUE)\n",
    "dbWriteTable(conn, \"farm_prices\",  as.data.frame(monthly_farm_df), overwrite = TRUE)\n",
    "dbWriteTable(conn, \"daily_fx\",     as.data.frame(daily_fx_df),     overwrite = TRUE)\n",
    "dbWriteTable(conn, \"monthly_fx\",   as.data.frame(monthly_fx_df),   overwrite = TRUE)\n",
    "\n",
    "# Sanity checks\n",
    "dbListTables(conn)\n",
    "lapply(c(\"annual_crop\",\"farm_prices\",\"daily_fx\",\"monthly_fx\"),\n",
    "       function(t) head(dbReadTable(conn, t)))\n"
   ]
  },
  {
   "cell_type": "markdown",
   "metadata": {},
   "source": [
    "## Now execute SQL queries using the RSQLite R package to solve the assignment problems.\n",
    "\n",
    "## Problem 3\n",
    "\n",
    "#### How many records are in the farm prices dataset?\n"
   ]
  },
  {
   "cell_type": "code",
   "execution_count": 7,
   "metadata": {},
   "outputs": [
    {
     "data": {
      "text/html": [
       "<table class=\"dataframe\">\n",
       "<caption>A data.frame: 1 × 1</caption>\n",
       "<thead>\n",
       "\t<tr><th scope=col>n_rows</th></tr>\n",
       "\t<tr><th scope=col>&lt;int&gt;</th></tr>\n",
       "</thead>\n",
       "<tbody>\n",
       "\t<tr><td>2678</td></tr>\n",
       "</tbody>\n",
       "</table>\n"
      ],
      "text/latex": [
       "A data.frame: 1 × 1\n",
       "\\begin{tabular}{l}\n",
       " n\\_rows\\\\\n",
       " <int>\\\\\n",
       "\\hline\n",
       "\t 2678\\\\\n",
       "\\end{tabular}\n"
      ],
      "text/markdown": [
       "\n",
       "A data.frame: 1 × 1\n",
       "\n",
       "| n_rows &lt;int&gt; |\n",
       "|---|\n",
       "| 2678 |\n",
       "\n"
      ],
      "text/plain": [
       "  n_rows\n",
       "1 2678  "
      ]
     },
     "metadata": {},
     "output_type": "display_data"
    }
   ],
   "source": [
    "# Write your query here\n",
    "dbGetQuery(conn, \"SELECT COUNT(*) AS n_rows FROM farm_prices;\")\n"
   ]
  },
  {
   "cell_type": "markdown",
   "metadata": {},
   "source": [
    "## Problem 4\n",
    "\n",
    "#### Which geographies are included in the farm prices dataset?\n"
   ]
  },
  {
   "cell_type": "code",
   "execution_count": 9,
   "metadata": {},
   "outputs": [
    {
     "data": {
      "text/html": [
       "<style>\n",
       ".list-inline {list-style: none; margin:0; padding: 0}\n",
       ".list-inline>li {display: inline-block}\n",
       ".list-inline>li:not(:last-child)::after {content: \"\\00b7\"; padding: 0 .5ex}\n",
       "</style>\n",
       "<ol class=list-inline><li>'CD_ID'</li><li>'DATE'</li><li>'CROP_TYPE'</li><li>'GEO'</li><li>'PRICE_PRERMT'</li></ol>\n"
      ],
      "text/latex": [
       "\\begin{enumerate*}\n",
       "\\item 'CD\\_ID'\n",
       "\\item 'DATE'\n",
       "\\item 'CROP\\_TYPE'\n",
       "\\item 'GEO'\n",
       "\\item 'PRICE\\_PRERMT'\n",
       "\\end{enumerate*}\n"
      ],
      "text/markdown": [
       "1. 'CD_ID'\n",
       "2. 'DATE'\n",
       "3. 'CROP_TYPE'\n",
       "4. 'GEO'\n",
       "5. 'PRICE_PRERMT'\n",
       "\n",
       "\n"
      ],
      "text/plain": [
       "[1] \"CD_ID\"        \"DATE\"         \"CROP_TYPE\"    \"GEO\"          \"PRICE_PRERMT\""
      ]
     },
     "metadata": {},
     "output_type": "display_data"
    },
    {
     "data": {
      "text/html": [
       "<table class=\"dataframe\">\n",
       "<caption>A data.frame: 2 × 1</caption>\n",
       "<thead>\n",
       "\t<tr><th scope=col>geography</th></tr>\n",
       "\t<tr><th scope=col>&lt;chr&gt;</th></tr>\n",
       "</thead>\n",
       "<tbody>\n",
       "\t<tr><td>Alberta     </td></tr>\n",
       "\t<tr><td>Saskatchewan</td></tr>\n",
       "</tbody>\n",
       "</table>\n"
      ],
      "text/latex": [
       "A data.frame: 2 × 1\n",
       "\\begin{tabular}{l}\n",
       " geography\\\\\n",
       " <chr>\\\\\n",
       "\\hline\n",
       "\t Alberta     \\\\\n",
       "\t Saskatchewan\\\\\n",
       "\\end{tabular}\n"
      ],
      "text/markdown": [
       "\n",
       "A data.frame: 2 × 1\n",
       "\n",
       "| geography &lt;chr&gt; |\n",
       "|---|\n",
       "| Alberta      |\n",
       "| Saskatchewan |\n",
       "\n"
      ],
      "text/plain": [
       "  geography   \n",
       "1 Alberta     \n",
       "2 Saskatchewan"
      ]
     },
     "metadata": {},
     "output_type": "display_data"
    }
   ],
   "source": [
    "# Write your query here\n",
    "# Helper: pick a column by pattern from a table\n",
    "pick_col <- function(conn, table, patterns, prefer = NULL) {\n",
    "  cols <- DBI::dbListFields(conn, table)\n",
    "  if (!is.null(prefer) && prefer %in% cols) return(prefer)\n",
    "  for (p in patterns) {\n",
    "    m <- grep(p, cols, ignore.case = TRUE, value = TRUE)\n",
    "    if (length(m)) return(m[1])\n",
    "  }\n",
    "  stop(sprintf(\"No column in %s matches patterns: %s\",\n",
    "               table, paste(patterns, collapse = \", \")))\n",
    "}\n",
    "\n",
    "# See what columns you actually have\n",
    "DBI::dbListFields(conn, \"farm_prices\")\n",
    "\n",
    "# Pick a geography-like column and list distinct values\n",
    "geo_col <- pick_col(conn, \"farm_prices\", c(\"^geo$\", \"geograph\", \"prov\", \"region\"))\n",
    "qry <- sprintf('SELECT DISTINCT \"%s\" AS geography FROM farm_prices ORDER BY 1;', geo_col)\n",
    "DBI::dbGetQuery(conn, qry)\n",
    "\n"
   ]
  },
  {
   "cell_type": "markdown",
   "metadata": {},
   "source": [
    "## Problem 5\n",
    "\n",
    "#### How many hectares of Rye were harvested in Canada in 1968?\n"
   ]
  },
  {
   "cell_type": "code",
   "execution_count": 21,
   "metadata": {},
   "outputs": [
    {
     "data": {
      "text/html": [
       "<table class=\"dataframe\">\n",
       "<caption>A data.frame: 1 × 4</caption>\n",
       "<thead>\n",
       "\t<tr><th scope=col>year</th><th scope=col>GEO</th><th scope=col>CROP_TYPE</th><th scope=col>hectares</th></tr>\n",
       "\t<tr><th scope=col>&lt;chr&gt;</th><th scope=col>&lt;chr&gt;</th><th scope=col>&lt;chr&gt;</th><th scope=col>&lt;dbl&gt;</th></tr>\n",
       "</thead>\n",
       "<tbody>\n",
       "\t<tr><td>1968</td><td>Canada</td><td>Rye</td><td>274100</td></tr>\n",
       "</tbody>\n",
       "</table>\n"
      ],
      "text/latex": [
       "A data.frame: 1 × 4\n",
       "\\begin{tabular}{llll}\n",
       " year & GEO & CROP\\_TYPE & hectares\\\\\n",
       " <chr> & <chr> & <chr> & <dbl>\\\\\n",
       "\\hline\n",
       "\t 1968 & Canada & Rye & 274100\\\\\n",
       "\\end{tabular}\n"
      ],
      "text/markdown": [
       "\n",
       "A data.frame: 1 × 4\n",
       "\n",
       "| year &lt;chr&gt; | GEO &lt;chr&gt; | CROP_TYPE &lt;chr&gt; | hectares &lt;dbl&gt; |\n",
       "|---|---|---|---|\n",
       "| 1968 | Canada | Rye | 274100 |\n",
       "\n"
      ],
      "text/plain": [
       "  year GEO    CROP_TYPE hectares\n",
       "1 1968 Canada Rye       274100  "
      ]
     },
     "metadata": {},
     "output_type": "display_data"
    }
   ],
   "source": [
    "# Write your query here\n",
    "\n",
    "# Problem 5 — How many hectares of Rye were harvested in Canada in 1968?\n",
    "DBI::dbGetQuery(conn, \"\n",
    "  WITH ac AS (\n",
    "    SELECT \n",
    "      strftime('%Y', date('1970-01-01', YEAR || ' days')) AS year,\n",
    "      GEO,\n",
    "      CROP_TYPE,\n",
    "      HARVESTED_AREA\n",
    "    FROM annual_crop\n",
    "  )\n",
    "  SELECT \n",
    "    year,\n",
    "    GEO,\n",
    "    CROP_TYPE,\n",
    "    SUM(HARVESTED_AREA) AS hectares\n",
    "  FROM ac\n",
    "  WHERE GEO = 'Canada'\n",
    "    AND UPPER(CROP_TYPE) LIKE 'RYE%'\n",
    "    AND year = '1968'\n",
    "  GROUP BY year, GEO, CROP_TYPE\n",
    "\")\n",
    "\n"
   ]
  },
  {
   "cell_type": "markdown",
   "metadata": {},
   "source": [
    "## Problem 6\n",
    "\n",
    "#### Query and display the first 6 rows of the farm prices table for Rye.\n"
   ]
  },
  {
   "cell_type": "code",
   "execution_count": 22,
   "metadata": {},
   "outputs": [],
   "source": [
    "# ----- Helpers () -----\n",
    "library(DBI)\n",
    "\n",
    "# Pick a column by regex pattern(s)\n",
    "pick_col <- function(conn, table, patterns, prefer = NULL) {\n",
    "  cols <- DBI::dbListFields(conn, table)\n",
    "  if (!is.null(prefer) && prefer %in% cols) return(prefer)\n",
    "  for (p in patterns) {\n",
    "    m <- grep(p, cols, ignore.case = TRUE, value = TRUE)\n",
    "    if (length(m)) return(m[1])\n",
    "  }\n",
    "  stop(sprintf(\"No column in %s matches: %s\", table, paste(patterns, collapse=\", \")))\n",
    "}\n",
    "\n",
    "# Year expression (handles ANNUAL_CROP.YEAR as days offset from 1970-01-01)\n",
    "year_expr <- function(colname, table = NULL) {\n",
    "  if (!is.null(table) && table == \"annual_crop\" && toupper(colname) == \"YEAR\") {\n",
    "    sprintf(\"CAST(strftime('%%Y', date('1970-01-01', %s || ' days')) AS INT)\", DBI::dbQuoteIdentifier(conn, colname))\n",
    "  } else {\n",
    "    sprintf(\"CAST(SUBSTR(%s,1,4) AS INT)\", DBI::dbQuoteIdentifier(conn, colname))\n",
    "  }\n",
    "}\n",
    "\n",
    "# Yield expression for annual_crop: prefer YIELD; else PRODUCTION / HARVESTED_AREA\n",
    "yield_expr_annual <- function(conn) {\n",
    "  cols <- DBI::dbListFields(conn, \"annual_crop\")\n",
    "  yld <- grep(\"yield\", cols, ignore.case = TRUE, value = TRUE)\n",
    "  if (length(yld)) return(DBI::dbQuoteIdentifier(conn, yld[1]))\n",
    "  prod <- pick_col(conn, \"annual_crop\", c(\"production\", \"tonnes\", \"tons\", \"metric.*tonne\"))\n",
    "  area <- pick_col(conn, \"annual_crop\", c(\"harvested.*area\", \"^HARVESTED_AREA$\", \"hectare\", \"area\"))\n",
    "  sprintf(\"CAST(%s AS REAL) / NULLIF(CAST(%s AS REAL), 0)\", DBI::dbQuoteIdentifier(conn, prod), DBI::dbQuoteIdentifier(conn, area))\n",
    "}\n",
    "\n",
    "\n"
   ]
  },
  {
   "cell_type": "code",
   "execution_count": 23,
   "metadata": {},
   "outputs": [
    {
     "data": {
      "text/html": [
       "<table class=\"dataframe\">\n",
       "<caption>A data.frame: 6 × 5</caption>\n",
       "<thead>\n",
       "\t<tr><th scope=col>CD_ID</th><th scope=col>DATE</th><th scope=col>CROP_TYPE</th><th scope=col>GEO</th><th scope=col>PRICE_PRERMT</th></tr>\n",
       "\t<tr><th scope=col>&lt;dbl&gt;</th><th scope=col>&lt;dbl&gt;</th><th scope=col>&lt;chr&gt;</th><th scope=col>&lt;chr&gt;</th><th scope=col>&lt;dbl&gt;</th></tr>\n",
       "</thead>\n",
       "<tbody>\n",
       "\t<tr><td> 4</td><td>5479</td><td>Rye</td><td>Alberta     </td><td>100.77</td></tr>\n",
       "\t<tr><td> 5</td><td>5479</td><td>Rye</td><td>Saskatchewan</td><td>109.75</td></tr>\n",
       "\t<tr><td>10</td><td>5510</td><td>Rye</td><td>Alberta     </td><td> 95.05</td></tr>\n",
       "\t<tr><td>11</td><td>5510</td><td>Rye</td><td>Saskatchewan</td><td>103.46</td></tr>\n",
       "\t<tr><td>16</td><td>5538</td><td>Rye</td><td>Alberta     </td><td> 96.77</td></tr>\n",
       "\t<tr><td>17</td><td>5538</td><td>Rye</td><td>Saskatchewan</td><td>106.38</td></tr>\n",
       "</tbody>\n",
       "</table>\n"
      ],
      "text/latex": [
       "A data.frame: 6 × 5\n",
       "\\begin{tabular}{lllll}\n",
       " CD\\_ID & DATE & CROP\\_TYPE & GEO & PRICE\\_PRERMT\\\\\n",
       " <dbl> & <dbl> & <chr> & <chr> & <dbl>\\\\\n",
       "\\hline\n",
       "\t  4 & 5479 & Rye & Alberta      & 100.77\\\\\n",
       "\t  5 & 5479 & Rye & Saskatchewan & 109.75\\\\\n",
       "\t 10 & 5510 & Rye & Alberta      &  95.05\\\\\n",
       "\t 11 & 5510 & Rye & Saskatchewan & 103.46\\\\\n",
       "\t 16 & 5538 & Rye & Alberta      &  96.77\\\\\n",
       "\t 17 & 5538 & Rye & Saskatchewan & 106.38\\\\\n",
       "\\end{tabular}\n"
      ],
      "text/markdown": [
       "\n",
       "A data.frame: 6 × 5\n",
       "\n",
       "| CD_ID &lt;dbl&gt; | DATE &lt;dbl&gt; | CROP_TYPE &lt;chr&gt; | GEO &lt;chr&gt; | PRICE_PRERMT &lt;dbl&gt; |\n",
       "|---|---|---|---|---|\n",
       "|  4 | 5479 | Rye | Alberta      | 100.77 |\n",
       "|  5 | 5479 | Rye | Saskatchewan | 109.75 |\n",
       "| 10 | 5510 | Rye | Alberta      |  95.05 |\n",
       "| 11 | 5510 | Rye | Saskatchewan | 103.46 |\n",
       "| 16 | 5538 | Rye | Alberta      |  96.77 |\n",
       "| 17 | 5538 | Rye | Saskatchewan | 106.38 |\n",
       "\n"
      ],
      "text/plain": [
       "  CD_ID DATE CROP_TYPE GEO          PRICE_PRERMT\n",
       "1  4    5479 Rye       Alberta      100.77      \n",
       "2  5    5479 Rye       Saskatchewan 109.75      \n",
       "3 10    5510 Rye       Alberta       95.05      \n",
       "4 11    5510 Rye       Saskatchewan 103.46      \n",
       "5 16    5538 Rye       Alberta       96.77      \n",
       "6 17    5538 Rye       Saskatchewan 106.38      "
      ]
     },
     "metadata": {},
     "output_type": "display_data"
    }
   ],
   "source": [
    "# Wriet your query here\n",
    "\n",
    "# ----- Problem 6: first 6 rows of farm prices for Rye -----\n",
    "fp_table <- \"farm_prices\"\n",
    "fp_date  <- pick_col(conn, fp_table, c(\"^REF_DATE$\", \"^Date$\", \"^Month$\", \"date\"))\n",
    "fp_crop  <- pick_col(conn, fp_table, c(\"^CROP_TYPE$\", \"Crop\", \"Commodity\", \"Product\", \"Item\"))\n",
    "qry_p6 <- sprintf(\"\n",
    "  SELECT *\n",
    "  FROM %s\n",
    "  WHERE UPPER(%s) LIKE 'RYE%%'\n",
    "  ORDER BY %s\n",
    "  LIMIT 6\n",
    "\", fp_table, DBI::dbQuoteIdentifier(conn, fp_crop), DBI::dbQuoteIdentifier(conn, fp_date))\n",
    "DBI::dbGetQuery(conn, qry_p6)\n",
    "\n",
    "\n"
   ]
  },
  {
   "cell_type": "markdown",
   "metadata": {},
   "source": [
    "## Problem 7\n",
    "\n",
    "#### Which provinces grew Barley?\n"
   ]
  },
  {
   "cell_type": "code",
   "execution_count": 24,
   "metadata": {},
   "outputs": [
    {
     "data": {
      "text/html": [
       "<table class=\"dataframe\">\n",
       "<caption>A data.frame: 2 × 1</caption>\n",
       "<thead>\n",
       "\t<tr><th scope=col>province</th></tr>\n",
       "\t<tr><th scope=col>&lt;chr&gt;</th></tr>\n",
       "</thead>\n",
       "<tbody>\n",
       "\t<tr><td>Alberta     </td></tr>\n",
       "\t<tr><td>Saskatchewan</td></tr>\n",
       "</tbody>\n",
       "</table>\n"
      ],
      "text/latex": [
       "A data.frame: 2 × 1\n",
       "\\begin{tabular}{l}\n",
       " province\\\\\n",
       " <chr>\\\\\n",
       "\\hline\n",
       "\t Alberta     \\\\\n",
       "\t Saskatchewan\\\\\n",
       "\\end{tabular}\n"
      ],
      "text/markdown": [
       "\n",
       "A data.frame: 2 × 1\n",
       "\n",
       "| province &lt;chr&gt; |\n",
       "|---|\n",
       "| Alberta      |\n",
       "| Saskatchewan |\n",
       "\n"
      ],
      "text/plain": [
       "  province    \n",
       "1 Alberta     \n",
       "2 Saskatchewan"
      ]
     },
     "metadata": {},
     "output_type": "display_data"
    }
   ],
   "source": [
    "# Write your query here\n",
    "# ----- Problem 7: which provinces grew Barley? -----\n",
    "ac_table <- \"annual_crop\"\n",
    "ac_geo   <- pick_col(conn, ac_table, c(\"^GEO$\", \"Geography\", \"Province\", \"Region\", \"Location\"))\n",
    "ac_crop  <- pick_col(conn, ac_table, c(\"^CROP_TYPE$\", \"Crop\", \"Commodity\", \"Item\"))\n",
    "ac_area  <- pick_col(conn, ac_table, c(\"^HARVESTED_AREA$\", \"harvested.*area\", \"hectare\", \"area\"))\n",
    "qry_p7 <- sprintf(\"\n",
    "  SELECT DISTINCT %s AS province\n",
    "  FROM %s\n",
    "  WHERE UPPER(%s) LIKE 'BARLEY%%'\n",
    "    AND CAST(%s AS REAL) > 0\n",
    "    AND UPPER(%s) <> 'CANADA'\n",
    "  ORDER BY province\n",
    "\", DBI::dbQuoteIdentifier(conn, ac_geo), ac_table,\n",
    "   DBI::dbQuoteIdentifier(conn, ac_crop),\n",
    "   DBI::dbQuoteIdentifier(conn, ac_area),\n",
    "   DBI::dbQuoteIdentifier(conn, ac_geo))\n",
    "DBI::dbGetQuery(conn, qry_p7)\n"
   ]
  },
  {
   "cell_type": "markdown",
   "metadata": {},
   "source": [
    "## Problem 8\n",
    "\n",
    "#### Find the first and last dates for the farm prices data.\n"
   ]
  },
  {
   "cell_type": "code",
   "execution_count": 25,
   "metadata": {},
   "outputs": [
    {
     "data": {
      "text/html": [
       "<table class=\"dataframe\">\n",
       "<caption>A data.frame: 1 × 2</caption>\n",
       "<thead>\n",
       "\t<tr><th scope=col>first_date</th><th scope=col>last_date</th></tr>\n",
       "\t<tr><th scope=col>&lt;dbl&gt;</th><th scope=col>&lt;dbl&gt;</th></tr>\n",
       "</thead>\n",
       "<tbody>\n",
       "\t<tr><td>5479</td><td>18597</td></tr>\n",
       "</tbody>\n",
       "</table>\n"
      ],
      "text/latex": [
       "A data.frame: 1 × 2\n",
       "\\begin{tabular}{ll}\n",
       " first\\_date & last\\_date\\\\\n",
       " <dbl> & <dbl>\\\\\n",
       "\\hline\n",
       "\t 5479 & 18597\\\\\n",
       "\\end{tabular}\n"
      ],
      "text/markdown": [
       "\n",
       "A data.frame: 1 × 2\n",
       "\n",
       "| first_date &lt;dbl&gt; | last_date &lt;dbl&gt; |\n",
       "|---|---|\n",
       "| 5479 | 18597 |\n",
       "\n"
      ],
      "text/plain": [
       "  first_date last_date\n",
       "1 5479       18597    "
      ]
     },
     "metadata": {},
     "output_type": "display_data"
    }
   ],
   "source": [
    "# Write your query here\n",
    "# ----- Problem 8: first and last dates for farm prices -----\n",
    "fp_date <- pick_col(conn, \"farm_prices\", c(\"^REF_DATE$\", \"^Date$\", \"^Month$\", \"date\"))\n",
    "qry_p8 <- sprintf(\"\n",
    "  SELECT MIN(%s) AS first_date,\n",
    "         MAX(%s) AS last_date\n",
    "  FROM %s\n",
    "\", DBI::dbQuoteIdentifier(conn, fp_date), DBI::dbQuoteIdentifier(conn, fp_date), \"farm_prices\")\n",
    "DBI::dbGetQuery(conn, qry_p8)\n"
   ]
  },
  {
   "cell_type": "markdown",
   "metadata": {},
   "source": [
    "## Problem 9\n",
    "\n",
    "#### Which crops have ever reached a farm price greater than or equal to $350 per metric tonne?\n"
   ]
  },
  {
   "cell_type": "code",
   "execution_count": 26,
   "metadata": {},
   "outputs": [
    {
     "data": {
      "text/html": [
       "<table class=\"dataframe\">\n",
       "<caption>A data.frame: 1 × 1</caption>\n",
       "<thead>\n",
       "\t<tr><th scope=col>crop</th></tr>\n",
       "\t<tr><th scope=col>&lt;chr&gt;</th></tr>\n",
       "</thead>\n",
       "<tbody>\n",
       "\t<tr><td>Canola</td></tr>\n",
       "</tbody>\n",
       "</table>\n"
      ],
      "text/latex": [
       "A data.frame: 1 × 1\n",
       "\\begin{tabular}{l}\n",
       " crop\\\\\n",
       " <chr>\\\\\n",
       "\\hline\n",
       "\t Canola\\\\\n",
       "\\end{tabular}\n"
      ],
      "text/markdown": [
       "\n",
       "A data.frame: 1 × 1\n",
       "\n",
       "| crop &lt;chr&gt; |\n",
       "|---|\n",
       "| Canola |\n",
       "\n"
      ],
      "text/plain": [
       "  crop  \n",
       "1 Canola"
      ]
     },
     "metadata": {},
     "output_type": "display_data"
    }
   ],
   "source": [
    "# Write your query here\n",
    "# ----- Problem 9: crops that ever reached >= $350 per metric tonne -----\n",
    "fp_crop  <- pick_col(conn, \"farm_prices\", c(\"^CROP_TYPE$\", \"Crop\", \"Commodity\", \"Product\", \"Item\"))\n",
    "fp_price <- pick_col(conn, \"farm_prices\", c(\"^PRICE$\", \"Dollars\", \"Value\", \"CAD\", \"price\", \"per.metric.tonne\", \"Farm.*Price\"))\n",
    "qry_p9 <- sprintf(\"\n",
    "  SELECT DISTINCT %s AS crop\n",
    "  FROM %s\n",
    "  WHERE CAST(%s AS REAL) >= 350\n",
    "  ORDER BY crop\n",
    "\", DBI::dbQuoteIdentifier(conn, fp_crop), \"farm_prices\", DBI::dbQuoteIdentifier(conn, fp_price))\n",
    "DBI::dbGetQuery(conn, qry_p9)\n"
   ]
  },
  {
   "cell_type": "markdown",
   "metadata": {},
   "source": [
    "## Problem 10\n",
    "\n",
    "#### Rank the crop types harvested in Saskatchewan in the year 2000 by their average yield. Which crop performed best?\n"
   ]
  },
  {
   "cell_type": "code",
   "execution_count": 27,
   "metadata": {},
   "outputs": [
    {
     "data": {
      "text/html": [
       "<table class=\"dataframe\">\n",
       "<caption>A data.frame: 4 × 2</caption>\n",
       "<thead>\n",
       "\t<tr><th scope=col>crop</th><th scope=col>avg_yield_2000</th></tr>\n",
       "\t<tr><th scope=col>&lt;chr&gt;</th><th scope=col>&lt;dbl&gt;</th></tr>\n",
       "</thead>\n",
       "<tbody>\n",
       "\t<tr><td>Barley</td><td>2900</td></tr>\n",
       "\t<tr><td>Wheat </td><td>2350</td></tr>\n",
       "\t<tr><td>Rye   </td><td>2100</td></tr>\n",
       "\t<tr><td>Canola</td><td>1450</td></tr>\n",
       "</tbody>\n",
       "</table>\n"
      ],
      "text/latex": [
       "A data.frame: 4 × 2\n",
       "\\begin{tabular}{ll}\n",
       " crop & avg\\_yield\\_2000\\\\\n",
       " <chr> & <dbl>\\\\\n",
       "\\hline\n",
       "\t Barley & 2900\\\\\n",
       "\t Wheat  & 2350\\\\\n",
       "\t Rye    & 2100\\\\\n",
       "\t Canola & 1450\\\\\n",
       "\\end{tabular}\n"
      ],
      "text/markdown": [
       "\n",
       "A data.frame: 4 × 2\n",
       "\n",
       "| crop &lt;chr&gt; | avg_yield_2000 &lt;dbl&gt; |\n",
       "|---|---|\n",
       "| Barley | 2900 |\n",
       "| Wheat  | 2350 |\n",
       "| Rye    | 2100 |\n",
       "| Canola | 1450 |\n",
       "\n"
      ],
      "text/plain": [
       "  crop   avg_yield_2000\n",
       "1 Barley 2900          \n",
       "2 Wheat  2350          \n",
       "3 Rye    2100          \n",
       "4 Canola 1450          "
      ]
     },
     "metadata": {},
     "output_type": "display_data"
    }
   ],
   "source": [
    "# Write your query here\n",
    "# ----- Problem 10: rank crop types by average yield in the year 2000 -----\n",
    "ac_year <- pick_col(conn, \"annual_crop\", c(\"^YEAR$\", \"^REF_DATE$\", \"^Date$\", \"year\"))\n",
    "ac_crop <- pick_col(conn, \"annual_crop\", c(\"^CROP_TYPE$\", \"Crop\", \"Commodity\", \"Item\"))\n",
    "ac_geo  <- pick_col(conn, \"annual_crop\", c(\"^GEO$\", \"Geography\", \"Province\", \"Region\", \"Location\"))\n",
    "yld_expr <- yield_expr_annual(conn)\n",
    "qry_p10 <- sprintf(\"\n",
    "  SELECT %s AS crop,\n",
    "         AVG(%s) AS avg_yield_2000\n",
    "  FROM %s\n",
    "  WHERE %s = 2000\n",
    "    AND UPPER(%s) <> 'CANADA'\n",
    "  GROUP BY %s\n",
    "  ORDER BY avg_yield_2000 DESC\n",
    "\",\n",
    "  DBI::dbQuoteIdentifier(conn, ac_crop),\n",
    "  yld_expr,\n",
    "  \"annual_crop\",\n",
    "  year_expr(ac_year, \"annual_crop\"),\n",
    "  DBI::dbQuoteIdentifier(conn, ac_geo),\n",
    "  DBI::dbQuoteIdentifier(conn, ac_crop)\n",
    ")\n",
    "DBI::dbGetQuery(conn, qry_p10)\n"
   ]
  },
  {
   "cell_type": "markdown",
   "metadata": {},
   "source": [
    "## Problem 11\n",
    "\n",
    "#### Rank the crops and geographies by their average yield (KG per hectare) since the year 2000. Which crop and province had the highest average yield since the year 2000?\n"
   ]
  },
  {
   "cell_type": "code",
   "execution_count": 28,
   "metadata": {},
   "outputs": [
    {
     "data": {
      "text/html": [
       "<table class=\"dataframe\">\n",
       "<caption>A data.frame: 2 × 2</caption>\n",
       "<thead>\n",
       "\t<tr><th scope=col>province</th><th scope=col>avg_yield_since_2000</th></tr>\n",
       "\t<tr><th scope=col>&lt;chr&gt;</th><th scope=col>&lt;dbl&gt;</th></tr>\n",
       "</thead>\n",
       "<tbody>\n",
       "\t<tr><td>Alberta     </td><td>2808.595</td></tr>\n",
       "\t<tr><td>Saskatchewan</td><td>2345.500</td></tr>\n",
       "</tbody>\n",
       "</table>\n"
      ],
      "text/latex": [
       "A data.frame: 2 × 2\n",
       "\\begin{tabular}{ll}\n",
       " province & avg\\_yield\\_since\\_2000\\\\\n",
       " <chr> & <dbl>\\\\\n",
       "\\hline\n",
       "\t Alberta      & 2808.595\\\\\n",
       "\t Saskatchewan & 2345.500\\\\\n",
       "\\end{tabular}\n"
      ],
      "text/markdown": [
       "\n",
       "A data.frame: 2 × 2\n",
       "\n",
       "| province &lt;chr&gt; | avg_yield_since_2000 &lt;dbl&gt; |\n",
       "|---|---|\n",
       "| Alberta      | 2808.595 |\n",
       "| Saskatchewan | 2345.500 |\n",
       "\n"
      ],
      "text/plain": [
       "  province     avg_yield_since_2000\n",
       "1 Alberta      2808.595            \n",
       "2 Saskatchewan 2345.500            "
      ]
     },
     "metadata": {},
     "output_type": "display_data"
    }
   ],
   "source": [
    "# Write your query here\n",
    "# ----- Problem 11: since 2000, which province had the highest average yield? -----\n",
    "ac_year <- pick_col(conn, \"annual_crop\", c(\"^YEAR$\", \"^REF_DATE$\", \"^Date$\", \"year\"))\n",
    "ac_geo  <- pick_col(conn, \"annual_crop\", c(\"^GEO$\", \"Geography\", \"Province\", \"Region\", \"Location\"))\n",
    "yld_expr <- yield_expr_annual(conn)\n",
    "qry_p11 <- sprintf(\"\n",
    "  SELECT %s AS province,\n",
    "         AVG(%s) AS avg_yield_since_2000\n",
    "  FROM %s\n",
    "  WHERE %s >= 2000\n",
    "    AND UPPER(%s) <> 'CANADA'\n",
    "  GROUP BY %s\n",
    "  ORDER BY avg_yield_since_2000 DESC\n",
    "  LIMIT 10\n",
    "\",\n",
    "  DBI::dbQuoteIdentifier(conn, ac_geo),\n",
    "  yld_expr,\n",
    "  \"annual_crop\",\n",
    "  year_expr(ac_year, \"annual_crop\"),\n",
    "  DBI::dbQuoteIdentifier(conn, ac_geo),\n",
    "  DBI::dbQuoteIdentifier(conn, ac_geo)\n",
    ")\n",
    "DBI::dbGetQuery(conn, qry_p11)\n"
   ]
  },
  {
   "cell_type": "markdown",
   "metadata": {},
   "source": [
    "## Problem 12\n",
    "\n",
    "#### Use a subquery to determine how much wheat was harvested in Canada in the most recent year of the data.\n"
   ]
  },
  {
   "cell_type": "code",
   "execution_count": 29,
   "metadata": {},
   "outputs": [
    {
     "data": {
      "text/html": [
       "<table class=\"dataframe\">\n",
       "<caption>A data.frame: 1 × 3</caption>\n",
       "<thead>\n",
       "\t<tr><th scope=col>CROP</th><th scope=col>hectares</th><th scope=col>year</th></tr>\n",
       "\t<tr><th scope=col>&lt;chr&gt;</th><th scope=col>&lt;dbl&gt;</th><th scope=col>&lt;int&gt;</th></tr>\n",
       "</thead>\n",
       "<tbody>\n",
       "\t<tr><td>Wheat</td><td>10017800</td><td>2020</td></tr>\n",
       "</tbody>\n",
       "</table>\n"
      ],
      "text/latex": [
       "A data.frame: 1 × 3\n",
       "\\begin{tabular}{lll}\n",
       " CROP & hectares & year\\\\\n",
       " <chr> & <dbl> & <int>\\\\\n",
       "\\hline\n",
       "\t Wheat & 10017800 & 2020\\\\\n",
       "\\end{tabular}\n"
      ],
      "text/markdown": [
       "\n",
       "A data.frame: 1 × 3\n",
       "\n",
       "| CROP &lt;chr&gt; | hectares &lt;dbl&gt; | year &lt;int&gt; |\n",
       "|---|---|---|\n",
       "| Wheat | 10017800 | 2020 |\n",
       "\n"
      ],
      "text/plain": [
       "  CROP  hectares year\n",
       "1 Wheat 10017800 2020"
      ]
     },
     "metadata": {},
     "output_type": "display_data"
    }
   ],
   "source": [
    "# Write your query here\n",
    "# ----- Problem 12: subquery — most recent year, which crop and how many hectares in Canada -----\n",
    "ac_year <- pick_col(conn, \"annual_crop\", c(\"^YEAR$\", \"^REF_DATE$\", \"^Date$\", \"year\"))\n",
    "ac_geo  <- pick_col(conn, \"annual_crop\", c(\"^GEO$\", \"Geography\", \"Province\", \"Region\", \"Location\"))\n",
    "ac_crop <- pick_col(conn, \"annual_crop\", c(\"^CROP_TYPE$\", \"Crop\", \"Commodity\", \"Item\"))\n",
    "ac_area <- pick_col(conn, \"annual_crop\", c(\"^HARVESTED_AREA$\", \"harvested.*area\", \"hectare\", \"area\"))\n",
    "qry_p12 <- sprintf(\"\n",
    "  WITH ac AS (\n",
    "    SELECT %s AS yyyy, %s AS GEO, %s AS CROP, CAST(%s AS REAL) AS HA\n",
    "    FROM %s\n",
    "  ),\n",
    "  most_recent AS (\n",
    "    SELECT MAX(yyyy) AS max_year FROM ac\n",
    "  )\n",
    "  SELECT CROP, SUM(HA) AS hectares, (SELECT max_year FROM most_recent) AS year\n",
    "  FROM ac, most_recent\n",
    "  WHERE GEO = 'Canada'\n",
    "    AND yyyy = (SELECT max_year FROM most_recent)\n",
    "  GROUP BY CROP\n",
    "  ORDER BY hectares DESC\n",
    "  LIMIT 1\n",
    "\",\n",
    "  year_expr(ac_year, \"annual_crop\"),\n",
    "  DBI::dbQuoteIdentifier(conn, ac_geo),\n",
    "  DBI::dbQuoteIdentifier(conn, ac_crop),\n",
    "  DBI::dbQuoteIdentifier(conn, ac_area),\n",
    "  \"annual_crop\"\n",
    ")\n",
    "DBI::dbGetQuery(conn, qry_p12)\n"
   ]
  },
  {
   "cell_type": "markdown",
   "metadata": {},
   "source": [
    "## Problem 13\n",
    "\n",
    "#### Use an implicit inner join to calculate the monthly price per metric tonne of Canola grown in Saskatchewan in both Canadian and US dollars. Display the most recent 6 months of the data.\n"
   ]
  },
  {
   "cell_type": "code",
   "execution_count": 30,
   "metadata": {},
   "outputs": [
    {
     "data": {
      "text/html": [
       "<table class=\"dataframe\">\n",
       "<caption>A data.frame: 6 × 5</caption>\n",
       "<thead>\n",
       "\t<tr><th scope=col>fp_date</th><th scope=col>crop</th><th scope=col>cad_price</th><th scope=col>cad_per_usd</th><th scope=col>usd_price</th></tr>\n",
       "\t<tr><th scope=col>&lt;dbl&gt;</th><th scope=col>&lt;chr&gt;</th><th scope=col>&lt;dbl&gt;</th><th scope=col>&lt;dbl&gt;</th><th scope=col>&lt;dbl&gt;</th></tr>\n",
       "</thead>\n",
       "<tbody>\n",
       "\t<tr><td>18597</td><td>Barley</td><td>228.41</td><td>1.280771</td><td>178.3378</td></tr>\n",
       "\t<tr><td>18597</td><td>Barley</td><td>220.53</td><td>1.280771</td><td>172.1853</td></tr>\n",
       "\t<tr><td>18597</td><td>Canola</td><td>509.04</td><td>1.280771</td><td>397.4480</td></tr>\n",
       "\t<tr><td>18597</td><td>Canola</td><td>507.33</td><td>1.280771</td><td>396.1128</td></tr>\n",
       "\t<tr><td>18597</td><td>Rye   </td><td>202.41</td><td>1.280771</td><td>158.0376</td></tr>\n",
       "\t<tr><td>18597</td><td>Rye   </td><td>192.90</td><td>1.280771</td><td>150.6124</td></tr>\n",
       "</tbody>\n",
       "</table>\n"
      ],
      "text/latex": [
       "A data.frame: 6 × 5\n",
       "\\begin{tabular}{lllll}\n",
       " fp\\_date & crop & cad\\_price & cad\\_per\\_usd & usd\\_price\\\\\n",
       " <dbl> & <chr> & <dbl> & <dbl> & <dbl>\\\\\n",
       "\\hline\n",
       "\t 18597 & Barley & 228.41 & 1.280771 & 178.3378\\\\\n",
       "\t 18597 & Barley & 220.53 & 1.280771 & 172.1853\\\\\n",
       "\t 18597 & Canola & 509.04 & 1.280771 & 397.4480\\\\\n",
       "\t 18597 & Canola & 507.33 & 1.280771 & 396.1128\\\\\n",
       "\t 18597 & Rye    & 202.41 & 1.280771 & 158.0376\\\\\n",
       "\t 18597 & Rye    & 192.90 & 1.280771 & 150.6124\\\\\n",
       "\\end{tabular}\n"
      ],
      "text/markdown": [
       "\n",
       "A data.frame: 6 × 5\n",
       "\n",
       "| fp_date &lt;dbl&gt; | crop &lt;chr&gt; | cad_price &lt;dbl&gt; | cad_per_usd &lt;dbl&gt; | usd_price &lt;dbl&gt; |\n",
       "|---|---|---|---|---|\n",
       "| 18597 | Barley | 228.41 | 1.280771 | 178.3378 |\n",
       "| 18597 | Barley | 220.53 | 1.280771 | 172.1853 |\n",
       "| 18597 | Canola | 509.04 | 1.280771 | 397.4480 |\n",
       "| 18597 | Canola | 507.33 | 1.280771 | 396.1128 |\n",
       "| 18597 | Rye    | 202.41 | 1.280771 | 158.0376 |\n",
       "| 18597 | Rye    | 192.90 | 1.280771 | 150.6124 |\n",
       "\n"
      ],
      "text/plain": [
       "  fp_date crop   cad_price cad_per_usd usd_price\n",
       "1 18597   Barley 228.41    1.280771    178.3378 \n",
       "2 18597   Barley 220.53    1.280771    172.1853 \n",
       "3 18597   Canola 509.04    1.280771    397.4480 \n",
       "4 18597   Canola 507.33    1.280771    396.1128 \n",
       "5 18597   Rye    202.41    1.280771    158.0376 \n",
       "6 18597   Rye    192.90    1.280771    150.6124 "
      ]
     },
     "metadata": {},
     "output_type": "display_data"
    }
   ],
   "source": [
    "# Write your query here\n",
    "# ----- Problem 13: join monthly FX to farm prices, convert CAD -> USD, show most recent 6 months -----\n",
    "fp_table <- \"farm_prices\"\n",
    "fx_table <- \"monthly_fx\"\n",
    "\n",
    "fp_date  <- pick_col(conn, fp_table, c(\"^REF_DATE$\", \"^Date$\", \"^Month$\", \"date\"))\n",
    "fp_crop  <- pick_col(conn, fp_table, c(\"^CROP_TYPE$\", \"Crop\", \"Commodity\", \"Product\", \"Item\"))\n",
    "fp_price <- pick_col(conn, fp_table, c(\"^PRICE$\", \"Dollars\", \"Value\", \"CAD\", \"price\", \"per.metric.tonne\", \"Farm.*Price\"))\n",
    "\n",
    "fx_date  <- pick_col(conn, fx_table, c(\"^REF_DATE$\", \"^Date$\", \"^Month$\", \"date\"))\n",
    "# Assume CAD per USD; adjust pattern if needed for your file\n",
    "fx_rate  <- pick_col(conn, fx_table, c(\"USD.?CAD\", \"USDCAD\", \"CAD.*USD\", \"FX.*USD\", \"^VALUE$\", \"rate\"))\n",
    "\n",
    "qry_p13 <- sprintf(\"\n",
    "  WITH fp AS (\n",
    "    SELECT %s AS fp_date,\n",
    "           %s AS crop,\n",
    "           CAST(%s AS REAL) AS cad_price\n",
    "    FROM %s\n",
    "  ),\n",
    "  fx AS (\n",
    "    SELECT %s AS fx_date,\n",
    "           CAST(%s AS REAL) AS cad_per_usd\n",
    "    FROM %s\n",
    "  ),\n",
    "  j AS (\n",
    "    SELECT fp.fp_date,\n",
    "           fp.crop,\n",
    "           fp.cad_price,\n",
    "           fx.cad_per_usd,\n",
    "           (fp.cad_price / NULLIF(fx.cad_per_usd,0)) AS usd_price\n",
    "    FROM fp\n",
    "    JOIN fx\n",
    "      ON SUBSTR(fp.fp_date,1,7) = SUBSTR(fx.fx_date,1,7)\n",
    "  )\n",
    "  SELECT *\n",
    "  FROM j\n",
    "  ORDER BY fp_date DESC\n",
    "  LIMIT 6\n",
    "\",\n",
    "  DBI::dbQuoteIdentifier(conn, fp_date),\n",
    "  DBI::dbQuoteIdentifier(conn, fp_crop),\n",
    "  DBI::dbQuoteIdentifier(conn, fp_price),\n",
    "  fp_table,\n",
    "  DBI::dbQuoteIdentifier(conn, fx_date),\n",
    "  DBI::dbQuoteIdentifier(conn, fx_rate),\n",
    "  fx_table\n",
    ")\n",
    "DBI::dbGetQuery(conn, qry_p13)\n"
   ]
  },
  {
   "cell_type": "markdown",
   "metadata": {},
   "source": [
    "## Author(s)\n",
    "\n",
    "<h4> Jeff Grossman </h4>\n",
    "\n",
    "<h4> D.M. Naidu </h4>\n",
    "\n",
    "## Contributor(s)\n",
    "\n",
    "<h4> Rav Ahuja </h4>\n",
    "\n",
    "<h4> Lakshmi Holla </h4>\n",
    "\n",
    "![footer](https://cf-courses-data.s3.us.cloud-object-storage.appdomain.cloud/zOMU1iwlZgwJXjWYzQAIgg/SNIBMfooter.png \"footer\")\n",
    "\n",
    "\n",
    "<!--## Change log\n",
    "\n",
    "| Date       | Version | Changed by    | Change Description                        |\n",
    "| ---------- | ------- | ------------- | ----------------------------------------- |\n",
    "| 2022-03-03 | 1.0     | D.M. Naidu    | Converted intial version to RSQLite       |-->\n",
    "\n",
    "\n"
   ]
  }
 ],
 "metadata": {
  "kernelspec": {
   "display_name": "R",
   "language": "R",
   "name": "ir"
  },
  "language_info": {
   "codemirror_mode": "r",
   "file_extension": ".r",
   "mimetype": "text/x-r-source",
   "name": "R",
   "pygments_lexer": "r",
   "version": "4.4.2"
  },
  "prev_pub_hash": "f4d217c632314d7a8ada955756ee31f82e41c0530317694b08b2b6366d41e325"
 },
 "nbformat": 4,
 "nbformat_minor": 4
}
