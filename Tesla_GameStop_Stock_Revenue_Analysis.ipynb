{
 "cells": [
  {
   "cell_type": "markdown",
   "id": "147b8de8",
   "metadata": {},
   "source": [
    "# Tesla & GameStop: A Financial Comparison of Stock Price vs Revenue Using Python"
   ]
  },
  {
   "cell_type": "code",
   "execution_count": null,
   "id": "1dfc1670",
   "metadata": {},
   "outputs": [],
   "source": [
    "import yfinance as yf\n",
    "import pandas as pd\n",
    "import requests\n",
    "from bs4 import BeautifulSoup\n",
    "import plotly.graph_objects as go"
   ]
  },
  {
   "cell_type": "markdown",
   "id": "2ab4fc68",
   "metadata": {},
   "source": [
    "## Question 1: Extract Tesla Stock Data"
   ]
  },
  {
   "cell_type": "code",
   "execution_count": null,
   "id": "24738908",
   "metadata": {},
   "outputs": [],
   "source": [
    "tesla = yf.Ticker(\"TSLA\")\n",
    "tesla_data = tesla.history(period=\"max\")\n",
    "tesla_data.reset_index(inplace=True)\n",
    "tesla_data.head()"
   ]
  },
  {
   "cell_type": "markdown",
   "id": "4cb56019",
   "metadata": {},
   "source": [
    "## Question 2: Extract Tesla Revenue Data"
   ]
  },
  {
   "cell_type": "code",
   "execution_count": null,
   "id": "65115fa2",
   "metadata": {},
   "outputs": [],
   "source": [
    "url = \"https://www.macrotrends.net/stocks/charts/TSLA/tesla/revenue\"\n",
    "html = requests.get(url).text\n",
    "soup = BeautifulSoup(html, \"html.parser\")\n",
    "\n",
    "tables = soup.find_all(\"table\")\n",
    "for table in tables:\n",
    "    if \"Tesla Quarterly Revenue\" in str(table):\n",
    "        tesla_revenue_table = table\n",
    "        break\n",
    "\n",
    "tesla_revenue = pd.read_html(str(tesla_revenue_table))[0]\n",
    "tesla_revenue.columns = ['Date', 'Revenue']\n",
    "tesla_revenue = tesla_revenue[tesla_revenue['Revenue'] != \"\"]\n",
    "tesla_revenue.tail()"
   ]
  },
  {
   "cell_type": "markdown",
   "id": "8d8f72fa",
   "metadata": {},
   "source": [
    "## Question 3: Extract GameStop Stock Data"
   ]
  },
  {
   "cell_type": "code",
   "execution_count": null,
   "id": "5478eeb5",
   "metadata": {},
   "outputs": [],
   "source": [
    "gamestop = yf.Ticker(\"GME\")\n",
    "gme_data = gamestop.history(period=\"max\")\n",
    "gme_data.reset_index(inplace=True)\n",
    "gme_data.head()"
   ]
  },
  {
   "cell_type": "markdown",
   "id": "7496f8a9",
   "metadata": {},
   "source": [
    "## Question 4: Extract GameStop Revenue Data"
   ]
  },
  {
   "cell_type": "code",
   "execution_count": null,
   "id": "db6c0296",
   "metadata": {},
   "outputs": [],
   "source": [
    "url = \"https://www.macrotrends.net/stocks/charts/GME/gamestop/revenue\"\n",
    "html = requests.get(url).text\n",
    "soup = BeautifulSoup(html, \"html.parser\")\n",
    "\n",
    "tables = soup.find_all(\"table\")\n",
    "for table in tables:\n",
    "    if \"GameStop Quarterly Revenue\" in str(table):\n",
    "        gme_revenue_table = table\n",
    "        break\n",
    "\n",
    "gme_revenue = pd.read_html(str(gme_revenue_table))[0]\n",
    "gme_revenue.columns = ['Date', 'Revenue']\n",
    "gme_revenue = gme_revenue[gme_revenue['Revenue'] != \"\"]\n",
    "gme_revenue.tail()"
   ]
  },
  {
   "cell_type": "markdown",
   "id": "e8b55101",
   "metadata": {},
   "source": [
    "## Define Visualization Function"
   ]
  },
  {
   "cell_type": "code",
   "execution_count": null,
   "id": "6a885c55",
   "metadata": {},
   "outputs": [],
   "source": [
    "def make_graph(stock_data, revenue_data, stock, revenue, title):\n",
    "    fig = go.Figure()\n",
    "    fig.add_trace(go.Scatter(x=stock_data['Date'], y=stock_data['Close'], name=\"Stock Price\"))\n",
    "    fig.add_trace(go.Scatter(x=pd.to_datetime(revenue_data['Date']), y=revenue_data['Revenue'], name=\"Revenue\"))\n",
    "    fig.update_layout(title=title, xaxis_title=\"Date\", yaxis_title=\"USD\", legend_title=\"Legend\")\n",
    "    fig.show()"
   ]
  },
  {
   "cell_type": "markdown",
   "id": "f177e0c6",
   "metadata": {},
   "source": [
    "## Question 5: Plot Tesla Stock Graph"
   ]
  },
  {
   "cell_type": "code",
   "execution_count": null,
   "id": "4c5e6d22",
   "metadata": {},
   "outputs": [],
   "source": [
    "make_graph(tesla_data, tesla_revenue, 'TSLA', 'Tesla Revenue', 'Tesla Stock Price vs Revenue')"
   ]
  },
  {
   "cell_type": "markdown",
   "id": "507bf4a7",
   "metadata": {},
   "source": [
    "## Question 6: Plot GameStop Stock Graph"
   ]
  },
  {
   "cell_type": "code",
   "execution_count": null,
   "id": "79c0bdad",
   "metadata": {},
   "outputs": [],
   "source": [
    "make_graph(gme_data, gme_revenue, 'GME', 'GameStop Revenue', 'GameStop Stock Price vs Revenue')"
   ]
  }
 ],
 "metadata": {},
 "nbformat": 4,
 "nbformat_minor": 5
}
